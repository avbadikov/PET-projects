{
  "cells": [
    {
      "cell_type": "markdown",
      "metadata": {
        "id": "-yKlYlK90puS"
      },
      "source": [
        "## Описание проекта\n",
        "Вы работаете в стартапе, который продаёт продукты питания. Нужно разобраться, как ведут себя пользователи вашего мобильного приложения.\n",
        "Изучите воронку продаж. Узнайте, как пользователи доходят до покупки. Сколько пользователей доходит до покупки, а сколько — «застревает» на предыдущих шагах? На каких именно?\n",
        "\n",
        "После этого исследуйте результаты A/A/B-эксперимента. Дизайнеры захотели поменять шрифты во всём приложении, а менеджеры испугались, что пользователям будет непривычно. Договорились принять решение по результатам A/A/B-теста. Пользователей разбили на 3 группы: 2 контрольные со старыми шрифтами и одну экспериментальную — с новыми. Выясните, какой шрифт лучше."
      ]
    },
    {
      "cell_type": "code",
      "execution_count": 1,
      "metadata": {
        "id": "x7lJ_0u10puT"
      },
      "outputs": [],
      "source": [
        "import pandas as pd\n",
        "import numpy as np\n",
        "from datetime import datetime\n",
        "from scipy import stats as st\n",
        "import math as mth\n",
        "import plotly.express as px"
      ]
    },
    {
      "cell_type": "markdown",
      "metadata": {
        "id": "-pLUbMk60puT"
      },
      "source": [
        "## Шаг 1. Откройте файл с данными и изучите общую информацию"
      ]
    },
    {
      "cell_type": "code",
      "execution_count": 2,
      "metadata": {
        "colab": {
          "base_uri": "https://localhost:8080/",
          "height": 206
        },
        "id": "r2APvEgv0puT",
        "outputId": "602cbcdd-9b46-44f4-fe8b-507c8815cacf"
      },
      "outputs": [
        {
          "output_type": "execute_result",
          "data": {
            "text/plain": [
              "                 EventName         DeviceIDHash  EventTimestamp  ExpId\n",
              "0         MainScreenAppear  4575588528974610257      1564029816    246\n",
              "1         MainScreenAppear  7416695313311560658      1564053102    246\n",
              "2  PaymentScreenSuccessful  3518123091307005509      1564054127    248\n",
              "3         CartScreenAppear  3518123091307005509      1564054127    248\n",
              "4  PaymentScreenSuccessful  6217807653094995999      1564055322    248"
            ],
            "text/html": [
              "\n",
              "  <div id=\"df-90e78e61-d926-4344-9f39-74b445fe4762\" class=\"colab-df-container\">\n",
              "    <div>\n",
              "<style scoped>\n",
              "    .dataframe tbody tr th:only-of-type {\n",
              "        vertical-align: middle;\n",
              "    }\n",
              "\n",
              "    .dataframe tbody tr th {\n",
              "        vertical-align: top;\n",
              "    }\n",
              "\n",
              "    .dataframe thead th {\n",
              "        text-align: right;\n",
              "    }\n",
              "</style>\n",
              "<table border=\"1\" class=\"dataframe\">\n",
              "  <thead>\n",
              "    <tr style=\"text-align: right;\">\n",
              "      <th></th>\n",
              "      <th>EventName</th>\n",
              "      <th>DeviceIDHash</th>\n",
              "      <th>EventTimestamp</th>\n",
              "      <th>ExpId</th>\n",
              "    </tr>\n",
              "  </thead>\n",
              "  <tbody>\n",
              "    <tr>\n",
              "      <th>0</th>\n",
              "      <td>MainScreenAppear</td>\n",
              "      <td>4575588528974610257</td>\n",
              "      <td>1564029816</td>\n",
              "      <td>246</td>\n",
              "    </tr>\n",
              "    <tr>\n",
              "      <th>1</th>\n",
              "      <td>MainScreenAppear</td>\n",
              "      <td>7416695313311560658</td>\n",
              "      <td>1564053102</td>\n",
              "      <td>246</td>\n",
              "    </tr>\n",
              "    <tr>\n",
              "      <th>2</th>\n",
              "      <td>PaymentScreenSuccessful</td>\n",
              "      <td>3518123091307005509</td>\n",
              "      <td>1564054127</td>\n",
              "      <td>248</td>\n",
              "    </tr>\n",
              "    <tr>\n",
              "      <th>3</th>\n",
              "      <td>CartScreenAppear</td>\n",
              "      <td>3518123091307005509</td>\n",
              "      <td>1564054127</td>\n",
              "      <td>248</td>\n",
              "    </tr>\n",
              "    <tr>\n",
              "      <th>4</th>\n",
              "      <td>PaymentScreenSuccessful</td>\n",
              "      <td>6217807653094995999</td>\n",
              "      <td>1564055322</td>\n",
              "      <td>248</td>\n",
              "    </tr>\n",
              "  </tbody>\n",
              "</table>\n",
              "</div>\n",
              "    <div class=\"colab-df-buttons\">\n",
              "\n",
              "  <div class=\"colab-df-container\">\n",
              "    <button class=\"colab-df-convert\" onclick=\"convertToInteractive('df-90e78e61-d926-4344-9f39-74b445fe4762')\"\n",
              "            title=\"Convert this dataframe to an interactive table.\"\n",
              "            style=\"display:none;\">\n",
              "\n",
              "  <svg xmlns=\"http://www.w3.org/2000/svg\" height=\"24px\" viewBox=\"0 -960 960 960\">\n",
              "    <path d=\"M120-120v-720h720v720H120Zm60-500h600v-160H180v160Zm220 220h160v-160H400v160Zm0 220h160v-160H400v160ZM180-400h160v-160H180v160Zm440 0h160v-160H620v160ZM180-180h160v-160H180v160Zm440 0h160v-160H620v160Z\"/>\n",
              "  </svg>\n",
              "    </button>\n",
              "\n",
              "  <style>\n",
              "    .colab-df-container {\n",
              "      display:flex;\n",
              "      gap: 12px;\n",
              "    }\n",
              "\n",
              "    .colab-df-convert {\n",
              "      background-color: #E8F0FE;\n",
              "      border: none;\n",
              "      border-radius: 50%;\n",
              "      cursor: pointer;\n",
              "      display: none;\n",
              "      fill: #1967D2;\n",
              "      height: 32px;\n",
              "      padding: 0 0 0 0;\n",
              "      width: 32px;\n",
              "    }\n",
              "\n",
              "    .colab-df-convert:hover {\n",
              "      background-color: #E2EBFA;\n",
              "      box-shadow: 0px 1px 2px rgba(60, 64, 67, 0.3), 0px 1px 3px 1px rgba(60, 64, 67, 0.15);\n",
              "      fill: #174EA6;\n",
              "    }\n",
              "\n",
              "    .colab-df-buttons div {\n",
              "      margin-bottom: 4px;\n",
              "    }\n",
              "\n",
              "    [theme=dark] .colab-df-convert {\n",
              "      background-color: #3B4455;\n",
              "      fill: #D2E3FC;\n",
              "    }\n",
              "\n",
              "    [theme=dark] .colab-df-convert:hover {\n",
              "      background-color: #434B5C;\n",
              "      box-shadow: 0px 1px 3px 1px rgba(0, 0, 0, 0.15);\n",
              "      filter: drop-shadow(0px 1px 2px rgba(0, 0, 0, 0.3));\n",
              "      fill: #FFFFFF;\n",
              "    }\n",
              "  </style>\n",
              "\n",
              "    <script>\n",
              "      const buttonEl =\n",
              "        document.querySelector('#df-90e78e61-d926-4344-9f39-74b445fe4762 button.colab-df-convert');\n",
              "      buttonEl.style.display =\n",
              "        google.colab.kernel.accessAllowed ? 'block' : 'none';\n",
              "\n",
              "      async function convertToInteractive(key) {\n",
              "        const element = document.querySelector('#df-90e78e61-d926-4344-9f39-74b445fe4762');\n",
              "        const dataTable =\n",
              "          await google.colab.kernel.invokeFunction('convertToInteractive',\n",
              "                                                    [key], {});\n",
              "        if (!dataTable) return;\n",
              "\n",
              "        const docLinkHtml = 'Like what you see? Visit the ' +\n",
              "          '<a target=\"_blank\" href=https://colab.research.google.com/notebooks/data_table.ipynb>data table notebook</a>'\n",
              "          + ' to learn more about interactive tables.';\n",
              "        element.innerHTML = '';\n",
              "        dataTable['output_type'] = 'display_data';\n",
              "        await google.colab.output.renderOutput(dataTable, element);\n",
              "        const docLink = document.createElement('div');\n",
              "        docLink.innerHTML = docLinkHtml;\n",
              "        element.appendChild(docLink);\n",
              "      }\n",
              "    </script>\n",
              "  </div>\n",
              "\n",
              "\n",
              "<div id=\"df-2fb5831c-9804-43e6-9688-55cb27c29233\">\n",
              "  <button class=\"colab-df-quickchart\" onclick=\"quickchart('df-2fb5831c-9804-43e6-9688-55cb27c29233')\"\n",
              "            title=\"Suggest charts.\"\n",
              "            style=\"display:none;\">\n",
              "\n",
              "<svg xmlns=\"http://www.w3.org/2000/svg\" height=\"24px\"viewBox=\"0 0 24 24\"\n",
              "     width=\"24px\">\n",
              "    <g>\n",
              "        <path d=\"M19 3H5c-1.1 0-2 .9-2 2v14c0 1.1.9 2 2 2h14c1.1 0 2-.9 2-2V5c0-1.1-.9-2-2-2zM9 17H7v-7h2v7zm4 0h-2V7h2v10zm4 0h-2v-4h2v4z\"/>\n",
              "    </g>\n",
              "</svg>\n",
              "  </button>\n",
              "\n",
              "<style>\n",
              "  .colab-df-quickchart {\n",
              "    background-color: #E8F0FE;\n",
              "    border: none;\n",
              "    border-radius: 50%;\n",
              "    cursor: pointer;\n",
              "    display: none;\n",
              "    fill: #1967D2;\n",
              "    height: 32px;\n",
              "    padding: 0 0 0 0;\n",
              "    width: 32px;\n",
              "  }\n",
              "\n",
              "  .colab-df-quickchart:hover {\n",
              "    background-color: #E2EBFA;\n",
              "    box-shadow: 0px 1px 2px rgba(60, 64, 67, 0.3), 0px 1px 3px 1px rgba(60, 64, 67, 0.15);\n",
              "    fill: #174EA6;\n",
              "  }\n",
              "\n",
              "  [theme=dark] .colab-df-quickchart {\n",
              "    background-color: #3B4455;\n",
              "    fill: #D2E3FC;\n",
              "  }\n",
              "\n",
              "  [theme=dark] .colab-df-quickchart:hover {\n",
              "    background-color: #434B5C;\n",
              "    box-shadow: 0px 1px 3px 1px rgba(0, 0, 0, 0.15);\n",
              "    filter: drop-shadow(0px 1px 2px rgba(0, 0, 0, 0.3));\n",
              "    fill: #FFFFFF;\n",
              "  }\n",
              "</style>\n",
              "\n",
              "  <script>\n",
              "    async function quickchart(key) {\n",
              "      const charts = await google.colab.kernel.invokeFunction(\n",
              "          'suggestCharts', [key], {});\n",
              "    }\n",
              "    (() => {\n",
              "      let quickchartButtonEl =\n",
              "        document.querySelector('#df-2fb5831c-9804-43e6-9688-55cb27c29233 button');\n",
              "      quickchartButtonEl.style.display =\n",
              "        google.colab.kernel.accessAllowed ? 'block' : 'none';\n",
              "    })();\n",
              "  </script>\n",
              "</div>\n",
              "    </div>\n",
              "  </div>\n"
            ]
          },
          "metadata": {},
          "execution_count": 2
        }
      ],
      "source": [
        "data = pd.read_csv('/datasets/logs_exp.csv', sep='\\t')\n",
        "data.head()"
      ]
    },
    {
      "cell_type": "markdown",
      "metadata": {
        "id": "e1dXd6Av0puU"
      },
      "source": [
        "### Описание данных\n",
        "Каждая запись в логе — это действие пользователя, или событие.\n",
        "\n",
        "    EventName — название события;\n",
        "    DeviceIDHash — уникальный идентификатор пользователя;\n",
        "    EventTimestamp — время события;\n",
        "    ExpId — номер эксперимента: 246 и 247 — контрольные группы, а 248 — экспериментальная."
      ]
    },
    {
      "cell_type": "markdown",
      "metadata": {
        "id": "AKnltwOd0puU"
      },
      "source": [
        "## Шаг 2. Подготовьте данные\n",
        "* Замените названия столбцов на удобные для вас;\n",
        "* Проверьте пропуски и типы данных. Откорректируйте, если нужно;\n",
        "* Добавьте столбец даты и времени, а также отдельный столбец дат;"
      ]
    },
    {
      "cell_type": "code",
      "execution_count": 3,
      "metadata": {
        "scrolled": true,
        "colab": {
          "base_uri": "https://localhost:8080/"
        },
        "id": "3vDGLPro0puU",
        "outputId": "4aff936b-3bee-409d-9e04-5fbc2ccd747b"
      },
      "outputs": [
        {
          "output_type": "stream",
          "name": "stdout",
          "text": [
            "<class 'pandas.core.frame.DataFrame'>\n",
            "RangeIndex: 244126 entries, 0 to 244125\n",
            "Data columns (total 4 columns):\n",
            " #   Column          Non-Null Count   Dtype \n",
            "---  ------          --------------   ----- \n",
            " 0   EventName       244126 non-null  object\n",
            " 1   DeviceIDHash    244126 non-null  int64 \n",
            " 2   EventTimestamp  244126 non-null  int64 \n",
            " 3   ExpId           244126 non-null  int64 \n",
            "dtypes: int64(3), object(1)\n",
            "memory usage: 7.5+ MB\n",
            "None\n",
            "\n",
            "413\n"
          ]
        }
      ],
      "source": [
        "print(data.info())\n",
        "print()\n",
        "print(data.duplicated().sum())"
      ]
    },
    {
      "cell_type": "markdown",
      "metadata": {
        "id": "LlSV0d2C0puU"
      },
      "source": [
        "413 строк дубликатов. Удалим их"
      ]
    },
    {
      "cell_type": "code",
      "execution_count": 4,
      "metadata": {
        "colab": {
          "base_uri": "https://localhost:8080/",
          "height": 206
        },
        "id": "n0gJfiLy0puU",
        "outputId": "7e9219ec-d4b1-4a6d-bff2-b11d1db6ae5b"
      },
      "outputs": [
        {
          "output_type": "execute_result",
          "data": {
            "text/plain": [
              "                 EventName         DeviceIDHash  EventTimestamp  ExpId\n",
              "0         MainScreenAppear  4575588528974610257      1564029816    246\n",
              "1         MainScreenAppear  7416695313311560658      1564053102    246\n",
              "2  PaymentScreenSuccessful  3518123091307005509      1564054127    248\n",
              "3         CartScreenAppear  3518123091307005509      1564054127    248\n",
              "4  PaymentScreenSuccessful  6217807653094995999      1564055322    248"
            ],
            "text/html": [
              "\n",
              "  <div id=\"df-13d849ad-5ec5-498c-853f-dec88d2daaef\" class=\"colab-df-container\">\n",
              "    <div>\n",
              "<style scoped>\n",
              "    .dataframe tbody tr th:only-of-type {\n",
              "        vertical-align: middle;\n",
              "    }\n",
              "\n",
              "    .dataframe tbody tr th {\n",
              "        vertical-align: top;\n",
              "    }\n",
              "\n",
              "    .dataframe thead th {\n",
              "        text-align: right;\n",
              "    }\n",
              "</style>\n",
              "<table border=\"1\" class=\"dataframe\">\n",
              "  <thead>\n",
              "    <tr style=\"text-align: right;\">\n",
              "      <th></th>\n",
              "      <th>EventName</th>\n",
              "      <th>DeviceIDHash</th>\n",
              "      <th>EventTimestamp</th>\n",
              "      <th>ExpId</th>\n",
              "    </tr>\n",
              "  </thead>\n",
              "  <tbody>\n",
              "    <tr>\n",
              "      <th>0</th>\n",
              "      <td>MainScreenAppear</td>\n",
              "      <td>4575588528974610257</td>\n",
              "      <td>1564029816</td>\n",
              "      <td>246</td>\n",
              "    </tr>\n",
              "    <tr>\n",
              "      <th>1</th>\n",
              "      <td>MainScreenAppear</td>\n",
              "      <td>7416695313311560658</td>\n",
              "      <td>1564053102</td>\n",
              "      <td>246</td>\n",
              "    </tr>\n",
              "    <tr>\n",
              "      <th>2</th>\n",
              "      <td>PaymentScreenSuccessful</td>\n",
              "      <td>3518123091307005509</td>\n",
              "      <td>1564054127</td>\n",
              "      <td>248</td>\n",
              "    </tr>\n",
              "    <tr>\n",
              "      <th>3</th>\n",
              "      <td>CartScreenAppear</td>\n",
              "      <td>3518123091307005509</td>\n",
              "      <td>1564054127</td>\n",
              "      <td>248</td>\n",
              "    </tr>\n",
              "    <tr>\n",
              "      <th>4</th>\n",
              "      <td>PaymentScreenSuccessful</td>\n",
              "      <td>6217807653094995999</td>\n",
              "      <td>1564055322</td>\n",
              "      <td>248</td>\n",
              "    </tr>\n",
              "  </tbody>\n",
              "</table>\n",
              "</div>\n",
              "    <div class=\"colab-df-buttons\">\n",
              "\n",
              "  <div class=\"colab-df-container\">\n",
              "    <button class=\"colab-df-convert\" onclick=\"convertToInteractive('df-13d849ad-5ec5-498c-853f-dec88d2daaef')\"\n",
              "            title=\"Convert this dataframe to an interactive table.\"\n",
              "            style=\"display:none;\">\n",
              "\n",
              "  <svg xmlns=\"http://www.w3.org/2000/svg\" height=\"24px\" viewBox=\"0 -960 960 960\">\n",
              "    <path d=\"M120-120v-720h720v720H120Zm60-500h600v-160H180v160Zm220 220h160v-160H400v160Zm0 220h160v-160H400v160ZM180-400h160v-160H180v160Zm440 0h160v-160H620v160ZM180-180h160v-160H180v160Zm440 0h160v-160H620v160Z\"/>\n",
              "  </svg>\n",
              "    </button>\n",
              "\n",
              "  <style>\n",
              "    .colab-df-container {\n",
              "      display:flex;\n",
              "      gap: 12px;\n",
              "    }\n",
              "\n",
              "    .colab-df-convert {\n",
              "      background-color: #E8F0FE;\n",
              "      border: none;\n",
              "      border-radius: 50%;\n",
              "      cursor: pointer;\n",
              "      display: none;\n",
              "      fill: #1967D2;\n",
              "      height: 32px;\n",
              "      padding: 0 0 0 0;\n",
              "      width: 32px;\n",
              "    }\n",
              "\n",
              "    .colab-df-convert:hover {\n",
              "      background-color: #E2EBFA;\n",
              "      box-shadow: 0px 1px 2px rgba(60, 64, 67, 0.3), 0px 1px 3px 1px rgba(60, 64, 67, 0.15);\n",
              "      fill: #174EA6;\n",
              "    }\n",
              "\n",
              "    .colab-df-buttons div {\n",
              "      margin-bottom: 4px;\n",
              "    }\n",
              "\n",
              "    [theme=dark] .colab-df-convert {\n",
              "      background-color: #3B4455;\n",
              "      fill: #D2E3FC;\n",
              "    }\n",
              "\n",
              "    [theme=dark] .colab-df-convert:hover {\n",
              "      background-color: #434B5C;\n",
              "      box-shadow: 0px 1px 3px 1px rgba(0, 0, 0, 0.15);\n",
              "      filter: drop-shadow(0px 1px 2px rgba(0, 0, 0, 0.3));\n",
              "      fill: #FFFFFF;\n",
              "    }\n",
              "  </style>\n",
              "\n",
              "    <script>\n",
              "      const buttonEl =\n",
              "        document.querySelector('#df-13d849ad-5ec5-498c-853f-dec88d2daaef button.colab-df-convert');\n",
              "      buttonEl.style.display =\n",
              "        google.colab.kernel.accessAllowed ? 'block' : 'none';\n",
              "\n",
              "      async function convertToInteractive(key) {\n",
              "        const element = document.querySelector('#df-13d849ad-5ec5-498c-853f-dec88d2daaef');\n",
              "        const dataTable =\n",
              "          await google.colab.kernel.invokeFunction('convertToInteractive',\n",
              "                                                    [key], {});\n",
              "        if (!dataTable) return;\n",
              "\n",
              "        const docLinkHtml = 'Like what you see? Visit the ' +\n",
              "          '<a target=\"_blank\" href=https://colab.research.google.com/notebooks/data_table.ipynb>data table notebook</a>'\n",
              "          + ' to learn more about interactive tables.';\n",
              "        element.innerHTML = '';\n",
              "        dataTable['output_type'] = 'display_data';\n",
              "        await google.colab.output.renderOutput(dataTable, element);\n",
              "        const docLink = document.createElement('div');\n",
              "        docLink.innerHTML = docLinkHtml;\n",
              "        element.appendChild(docLink);\n",
              "      }\n",
              "    </script>\n",
              "  </div>\n",
              "\n",
              "\n",
              "<div id=\"df-4dd2bbeb-a61e-47fc-8cc4-fd51c496c08c\">\n",
              "  <button class=\"colab-df-quickchart\" onclick=\"quickchart('df-4dd2bbeb-a61e-47fc-8cc4-fd51c496c08c')\"\n",
              "            title=\"Suggest charts.\"\n",
              "            style=\"display:none;\">\n",
              "\n",
              "<svg xmlns=\"http://www.w3.org/2000/svg\" height=\"24px\"viewBox=\"0 0 24 24\"\n",
              "     width=\"24px\">\n",
              "    <g>\n",
              "        <path d=\"M19 3H5c-1.1 0-2 .9-2 2v14c0 1.1.9 2 2 2h14c1.1 0 2-.9 2-2V5c0-1.1-.9-2-2-2zM9 17H7v-7h2v7zm4 0h-2V7h2v10zm4 0h-2v-4h2v4z\"/>\n",
              "    </g>\n",
              "</svg>\n",
              "  </button>\n",
              "\n",
              "<style>\n",
              "  .colab-df-quickchart {\n",
              "    background-color: #E8F0FE;\n",
              "    border: none;\n",
              "    border-radius: 50%;\n",
              "    cursor: pointer;\n",
              "    display: none;\n",
              "    fill: #1967D2;\n",
              "    height: 32px;\n",
              "    padding: 0 0 0 0;\n",
              "    width: 32px;\n",
              "  }\n",
              "\n",
              "  .colab-df-quickchart:hover {\n",
              "    background-color: #E2EBFA;\n",
              "    box-shadow: 0px 1px 2px rgba(60, 64, 67, 0.3), 0px 1px 3px 1px rgba(60, 64, 67, 0.15);\n",
              "    fill: #174EA6;\n",
              "  }\n",
              "\n",
              "  [theme=dark] .colab-df-quickchart {\n",
              "    background-color: #3B4455;\n",
              "    fill: #D2E3FC;\n",
              "  }\n",
              "\n",
              "  [theme=dark] .colab-df-quickchart:hover {\n",
              "    background-color: #434B5C;\n",
              "    box-shadow: 0px 1px 3px 1px rgba(0, 0, 0, 0.15);\n",
              "    filter: drop-shadow(0px 1px 2px rgba(0, 0, 0, 0.3));\n",
              "    fill: #FFFFFF;\n",
              "  }\n",
              "</style>\n",
              "\n",
              "  <script>\n",
              "    async function quickchart(key) {\n",
              "      const charts = await google.colab.kernel.invokeFunction(\n",
              "          'suggestCharts', [key], {});\n",
              "    }\n",
              "    (() => {\n",
              "      let quickchartButtonEl =\n",
              "        document.querySelector('#df-4dd2bbeb-a61e-47fc-8cc4-fd51c496c08c button');\n",
              "      quickchartButtonEl.style.display =\n",
              "        google.colab.kernel.accessAllowed ? 'block' : 'none';\n",
              "    })();\n",
              "  </script>\n",
              "</div>\n",
              "    </div>\n",
              "  </div>\n"
            ]
          },
          "metadata": {},
          "execution_count": 4
        }
      ],
      "source": [
        "data.head()"
      ]
    },
    {
      "cell_type": "code",
      "execution_count": 5,
      "metadata": {
        "colab": {
          "base_uri": "https://localhost:8080/"
        },
        "id": "Imb4DM7-0puU",
        "outputId": "09082c7a-6e4d-4b71-d2c8-ef7bff922768"
      },
      "outputs": [
        {
          "output_type": "stream",
          "name": "stdout",
          "text": [
            "0\n"
          ]
        }
      ],
      "source": [
        "data = data.drop_duplicates().reset_index(drop=True)\n",
        "print(data.duplicated().sum())"
      ]
    },
      {
      "cell_type": "code",
      "execution_count": 6,
      "metadata": {
        "colab": {
          "base_uri": "https://localhost:8080/",
          "height": 206
        },
        "id": "8KkYbuzs0puV",
        "outputId": "9145ca2b-d6bb-4da8-d1b2-38e3603e0e2b"
      },
      "outputs": [
        {
          "output_type": "execute_result",
          "data": {
            "text/plain": [
              "                event_name              user_id  event_time_ts  group\n",
              "0         MainScreenAppear  4575588528974610257     1564029816    246\n",
              "1         MainScreenAppear  7416695313311560658     1564053102    246\n",
              "2  PaymentScreenSuccessful  3518123091307005509     1564054127    248\n",
              "3         CartScreenAppear  3518123091307005509     1564054127    248\n",
              "4  PaymentScreenSuccessful  6217807653094995999     1564055322    248"
            ],
            "text/html": [
              "\n",
              "  <div id=\"df-a472a6fd-bf32-498c-b9e4-afad5d1af296\" class=\"colab-df-container\">\n",
              "    <div>\n",
              "<style scoped>\n",
              "    .dataframe tbody tr th:only-of-type {\n",
              "        vertical-align: middle;\n",
              "    }\n",
              "\n",
              "    .dataframe tbody tr th {\n",
              "        vertical-align: top;\n",
              "    }\n",
              "\n",
              "    .dataframe thead th {\n",
              "        text-align: right;\n",
              "    }\n",
              "</style>\n",
              "<table border=\"1\" class=\"dataframe\">\n",
              "  <thead>\n",
              "    <tr style=\"text-align: right;\">\n",
              "      <th></th>\n",
              "      <th>event_name</th>\n",
              "      <th>user_id</th>\n",
              "      <th>event_time_ts</th>\n",
              "      <th>group</th>\n",
              "    </tr>\n",
              "  </thead>\n",
              "  <tbody>\n",
              "    <tr>\n",
              "      <th>0</th>\n",
              "      <td>MainScreenAppear</td>\n",
              "      <td>4575588528974610257</td>\n",
              "      <td>1564029816</td>\n",
              "      <td>246</td>\n",
              "    </tr>\n",
              "    <tr>\n",
              "      <th>1</th>\n",
              "      <td>MainScreenAppear</td>\n",
              "      <td>7416695313311560658</td>\n",
              "      <td>1564053102</td>\n",
              "      <td>246</td>\n",
              "    </tr>\n",
              "    <tr>\n",
              "      <th>2</th>\n",
              "      <td>PaymentScreenSuccessful</td>\n",
              "      <td>3518123091307005509</td>\n",
              "      <td>1564054127</td>\n",
              "      <td>248</td>\n",
              "    </tr>\n",
              "    <tr>\n",
              "      <th>3</th>\n",
              "      <td>CartScreenAppear</td>\n",
              "      <td>3518123091307005509</td>\n",
              "      <td>1564054127</td>\n",
              "      <td>248</td>\n",
              "    </tr>\n",
              "    <tr>\n",
              "      <th>4</th>\n",
              "      <td>PaymentScreenSuccessful</td>\n",
              "      <td>6217807653094995999</td>\n",
              "      <td>1564055322</td>\n",
              "      <td>248</td>\n",
              "    </tr>\n",
              "  </tbody>\n",
              "</table>\n",
              "</div>\n",
              "    <div class=\"colab-df-buttons\">\n",
              "\n",
              "  <div class=\"colab-df-container\">\n",
              "    <button class=\"colab-df-convert\" onclick=\"convertToInteractive('df-a472a6fd-bf32-498c-b9e4-afad5d1af296')\"\n",
              "            title=\"Convert this dataframe to an interactive table.\"\n",
              "            style=\"display:none;\">\n",
              "\n",
              "  <svg xmlns=\"http://www.w3.org/2000/svg\" height=\"24px\" viewBox=\"0 -960 960 960\">\n",
              "    <path d=\"M120-120v-720h720v720H120Zm60-500h600v-160H180v160Zm220 220h160v-160H400v160Zm0 220h160v-160H400v160ZM180-400h160v-160H180v160Zm440 0h160v-160H620v160ZM180-180h160v-160H180v160Zm440 0h160v-160H620v160Z\"/>\n",
              "  </svg>\n",
              "    </button>\n",
              "\n",
              "  <style>\n",
              "    .colab-df-container {\n",
              "      display:flex;\n",
              "      gap: 12px;\n",
              "    }\n",
              "\n",
              "    .colab-df-convert {\n",
              "      background-color: #E8F0FE;\n",
              "      border: none;\n",
              "      border-radius: 50%;\n",
              "      cursor: pointer;\n",
              "      display: none;\n",
              "      fill: #1967D2;\n",
              "      height: 32px;\n",
              "      padding: 0 0 0 0;\n",
              "      width: 32px;\n",
              "    }\n",
              "\n",
              "    .colab-df-convert:hover {\n",
              "      background-color: #E2EBFA;\n",
              "      box-shadow: 0px 1px 2px rgba(60, 64, 67, 0.3), 0px 1px 3px 1px rgba(60, 64, 67, 0.15);\n",
              "      fill: #174EA6;\n",
              "    }\n",
              "\n",
              "    .colab-df-buttons div {\n",
              "      margin-bottom: 4px;\n",
              "    }\n",
              "\n",
              "    [theme=dark] .colab-df-convert {\n",
              "      background-color: #3B4455;\n",
              "      fill: #D2E3FC;\n",
              "    }\n",
              "\n",
              "    [theme=dark] .colab-df-convert:hover {\n",
              "      background-color: #434B5C;\n",
              "      box-shadow: 0px 1px 3px 1px rgba(0, 0, 0, 0.15);\n",
              "      filter: drop-shadow(0px 1px 2px rgba(0, 0, 0, 0.3));\n",
              "      fill: #FFFFFF;\n",
              "    }\n",
              "  </style>\n",
              "\n",
              "    <script>\n",
              "      const buttonEl =\n",
              "        document.querySelector('#df-a472a6fd-bf32-498c-b9e4-afad5d1af296 button.colab-df-convert');\n",
              "      buttonEl.style.display =\n",
              "        google.colab.kernel.accessAllowed ? 'block' : 'none';\n",
              "\n",
              "      async function convertToInteractive(key) {\n",
              "        const element = document.querySelector('#df-a472a6fd-bf32-498c-b9e4-afad5d1af296');\n",
              "        const dataTable =\n",
              "          await google.colab.kernel.invokeFunction('convertToInteractive',\n",
              "                                                    [key], {});\n",
              "        if (!dataTable) return;\n",
              "\n",
              "        const docLinkHtml = 'Like what you see? Visit the ' +\n",
              "          '<a target=\"_blank\" href=https://colab.research.google.com/notebooks/data_table.ipynb>data table notebook</a>'\n",
              "          + ' to learn more about interactive tables.';\n",
              "        element.innerHTML = '';\n",
              "        dataTable['output_type'] = 'display_data';\n",
              "        await google.colab.output.renderOutput(dataTable, element);\n",
              "        const docLink = document.createElement('div');\n",
              "        docLink.innerHTML = docLinkHtml;\n",
              "        element.appendChild(docLink);\n",
              "      }\n",
              "    </script>\n",
              "  </div>\n",
              "\n",
              "\n",
              "<div id=\"df-a4837eea-11f7-40a2-b3af-5d8859ef0172\">\n",
              "  <button class=\"colab-df-quickchart\" onclick=\"quickchart('df-a4837eea-11f7-40a2-b3af-5d8859ef0172')\"\n",
              "            title=\"Suggest charts.\"\n",
              "            style=\"display:none;\">\n",
              "\n",
              "<svg xmlns=\"http://www.w3.org/2000/svg\" height=\"24px\"viewBox=\"0 0 24 24\"\n",
              "     width=\"24px\">\n",
              "    <g>\n",
              "        <path d=\"M19 3H5c-1.1 0-2 .9-2 2v14c0 1.1.9 2 2 2h14c1.1 0 2-.9 2-2V5c0-1.1-.9-2-2-2zM9 17H7v-7h2v7zm4 0h-2V7h2v10zm4 0h-2v-4h2v4z\"/>\n",
              "    </g>\n",
              "</svg>\n",
              "  </button>\n",
              "\n",
              "<style>\n",
              "  .colab-df-quickchart {\n",
              "    background-color: #E8F0FE;\n",
              "    border: none;\n",
              "    border-radius: 50%;\n",
              "    cursor: pointer;\n",
              "    display: none;\n",
              "    fill: #1967D2;\n",
              "    height: 32px;\n",
              "    padding: 0 0 0 0;\n",
              "    width: 32px;\n",
              "  }\n",
              "\n",
              "  .colab-df-quickchart:hover {\n",
              "    background-color: #E2EBFA;\n",
              "    box-shadow: 0px 1px 2px rgba(60, 64, 67, 0.3), 0px 1px 3px 1px rgba(60, 64, 67, 0.15);\n",
              "    fill: #174EA6;\n",
              "  }\n",
              "\n",
              "  [theme=dark] .colab-df-quickchart {\n",
              "    background-color: #3B4455;\n",
              "    fill: #D2E3FC;\n",
              "  }\n",
              "\n",
              "  [theme=dark] .colab-df-quickchart:hover {\n",
              "    background-color: #434B5C;\n",
              "    box-shadow: 0px 1px 3px 1px rgba(0, 0, 0, 0.15);\n",
              "    filter: drop-shadow(0px 1px 2px rgba(0, 0, 0, 0.3));\n",
              "    fill: #FFFFFF;\n",
              "  }\n",
              "</style>\n",
              "\n",
              "  <script>\n",
              "    async function quickchart(key) {\n",
              "      const charts = await google.colab.kernel.invokeFunction(\n",
              "          'suggestCharts', [key], {});\n",
              "    }\n",
              "    (() => {\n",
              "      let quickchartButtonEl =\n",
              "        document.querySelector('#df-a4837eea-11f7-40a2-b3af-5d8859ef0172 button');\n",
              "      quickchartButtonEl.style.display =\n",
              "        google.colab.kernel.accessAllowed ? 'block' : 'none';\n",
              "    })();\n",
              "  </script>\n",
              "</div>\n",
              "    </div>\n",
              "  </div>\n"
            ]
          },
          "metadata": {},
          "execution_count": 6
        }
      ],
      "source": [
        "# переименуем поля\n",
        "data.columns = ['event_name', 'user_id', 'event_time_ts', 'group']\n",
        "data.head()"
      ]
    },
    {
      "cell_type": "markdown",
      "metadata": {
        "id": "aOybH08P0puV"
      },
      "source": [
        "Дата записана на вид в формате timestamp, а по формату -  int64, что нам вообще не подходит. Приведем в понятный вид"
      ]
    },
    {
      "cell_type": "code",
      "execution_count": 7,
      "metadata": {
        "colab": {
          "base_uri": "https://localhost:8080/",
          "height": 206
        },
        "id": "jzkxTLyu0puV",
        "outputId": "50c5595f-d8e3-4aa4-be6c-80af573595fd"
      },
      "outputs": [
        {
          "output_type": "execute_result",
          "data": {
            "text/plain": [
              "                event_name              user_id  event_time_ts  group  \\\n",
              "0         MainScreenAppear  4575588528974610257     1564029816    246   \n",
              "1         MainScreenAppear  7416695313311560658     1564053102    246   \n",
              "2  PaymentScreenSuccessful  3518123091307005509     1564054127    248   \n",
              "3         CartScreenAppear  3518123091307005509     1564054127    248   \n",
              "4  PaymentScreenSuccessful  6217807653094995999     1564055322    248   \n",
              "\n",
              "             datetime                date  \n",
              "0 2019-07-25 04:43:36 2019-07-25 04:43:36  \n",
              "1 2019-07-25 11:11:42 2019-07-25 11:11:42  \n",
              "2 2019-07-25 11:28:47 2019-07-25 11:28:47  \n",
              "3 2019-07-25 11:28:47 2019-07-25 11:28:47  \n",
              "4 2019-07-25 11:48:42 2019-07-25 11:48:42  "
            ],
            "text/html": [
              "\n",
              "  <div id=\"df-e40c32af-cde9-4379-a236-a58829550a7d\" class=\"colab-df-container\">\n",
              "    <div>\n",
              "<style scoped>\n",
              "    .dataframe tbody tr th:only-of-type {\n",
              "        vertical-align: middle;\n",
              "    }\n",
              "\n",
              "    .dataframe tbody tr th {\n",
              "        vertical-align: top;\n",
              "    }\n",
              "\n",
              "    .dataframe thead th {\n",
              "        text-align: right;\n",
              "    }\n",
              "</style>\n",
              "<table border=\"1\" class=\"dataframe\">\n",
              "  <thead>\n",
              "    <tr style=\"text-align: right;\">\n",
              "      <th></th>\n",
              "      <th>event_name</th>\n",
              "      <th>user_id</th>\n",
              "      <th>event_time_ts</th>\n",
              "      <th>group</th>\n",
              "      <th>datetime</th>\n",
              "      <th>date</th>\n",
              "    </tr>\n",
              "  </thead>\n",
              "  <tbody>\n",
              "    <tr>\n",
              "      <th>0</th>\n",
              "      <td>MainScreenAppear</td>\n",
              "      <td>4575588528974610257</td>\n",
              "      <td>1564029816</td>\n",
              "      <td>246</td>\n",
              "      <td>2019-07-25 04:43:36</td>\n",
              "      <td>2019-07-25 04:43:36</td>\n",
              "    </tr>\n",
              "    <tr>\n",
              "      <th>1</th>\n",
              "      <td>MainScreenAppear</td>\n",
              "      <td>7416695313311560658</td>\n",
              "      <td>1564053102</td>\n",
              "      <td>246</td>\n",
              "      <td>2019-07-25 11:11:42</td>\n",
              "      <td>2019-07-25 11:11:42</td>\n",
              "    </tr>\n",
              "    <tr>\n",
              "      <th>2</th>\n",
              "      <td>PaymentScreenSuccessful</td>\n",
              "      <td>3518123091307005509</td>\n",
              "      <td>1564054127</td>\n",
              "      <td>248</td>\n",
              "      <td>2019-07-25 11:28:47</td>\n",
              "      <td>2019-07-25 11:28:47</td>\n",
              "    </tr>\n",
              "    <tr>\n",
              "      <th>3</th>\n",
              "      <td>CartScreenAppear</td>\n",
              "      <td>3518123091307005509</td>\n",
              "      <td>1564054127</td>\n",
              "      <td>248</td>\n",
              "      <td>2019-07-25 11:28:47</td>\n",
              "      <td>2019-07-25 11:28:47</td>\n",
              "    </tr>\n",
              "    <tr>\n",
              "      <th>4</th>\n",
              "      <td>PaymentScreenSuccessful</td>\n",
              "      <td>6217807653094995999</td>\n",
              "      <td>1564055322</td>\n",
              "      <td>248</td>\n",
              "      <td>2019-07-25 11:48:42</td>\n",
              "      <td>2019-07-25 11:48:42</td>\n",
              "    </tr>\n",
              "  </tbody>\n",
              "</table>\n",
              "</div>\n",
              "    <div class=\"colab-df-buttons\">\n",
              "\n",
              "  <div class=\"colab-df-container\">\n",
              "    <button class=\"colab-df-convert\" onclick=\"convertToInteractive('df-e40c32af-cde9-4379-a236-a58829550a7d')\"\n",
              "            title=\"Convert this dataframe to an interactive table.\"\n",
              "            style=\"display:none;\">\n",
              "\n",
              "  <svg xmlns=\"http://www.w3.org/2000/svg\" height=\"24px\" viewBox=\"0 -960 960 960\">\n",
              "    <path d=\"M120-120v-720h720v720H120Zm60-500h600v-160H180v160Zm220 220h160v-160H400v160Zm0 220h160v-160H400v160ZM180-400h160v-160H180v160Zm440 0h160v-160H620v160ZM180-180h160v-160H180v160Zm440 0h160v-160H620v160Z\"/>\n",
              "  </svg>\n",
              "    </button>\n",
              "\n",
              "  <style>\n",
              "    .colab-df-container {\n",
              "      display:flex;\n",
              "      gap: 12px;\n",
              "    }\n",
              "\n",
              "    .colab-df-convert {\n",
              "      background-color: #E8F0FE;\n",
              "      border: none;\n",
              "      border-radius: 50%;\n",
              "      cursor: pointer;\n",
              "      display: none;\n",
              "      fill: #1967D2;\n",
              "      height: 32px;\n",
              "      padding: 0 0 0 0;\n",
              "      width: 32px;\n",
              "    }\n",
              "\n",
              "    .colab-df-convert:hover {\n",
              "      background-color: #E2EBFA;\n",
              "      box-shadow: 0px 1px 2px rgba(60, 64, 67, 0.3), 0px 1px 3px 1px rgba(60, 64, 67, 0.15);\n",
              "      fill: #174EA6;\n",
              "    }\n",
              "\n",
              "    .colab-df-buttons div {\n",
              "      margin-bottom: 4px;\n",
              "    }\n",
              "\n",
              "    [theme=dark] .colab-df-convert {\n",
              "      background-color: #3B4455;\n",
              "      fill: #D2E3FC;\n",
              "    }\n",
              "\n",
              "    [theme=dark] .colab-df-convert:hover {\n",
              "      background-color: #434B5C;\n",
              "      box-shadow: 0px 1px 3px 1px rgba(0, 0, 0, 0.15);\n",
              "      filter: drop-shadow(0px 1px 2px rgba(0, 0, 0, 0.3));\n",
              "      fill: #FFFFFF;\n",
              "    }\n",
              "  </style>\n",
              "\n",
              "    <script>\n",
              "      const buttonEl =\n",
              "        document.querySelector('#df-e40c32af-cde9-4379-a236-a58829550a7d button.colab-df-convert');\n",
              "      buttonEl.style.display =\n",
              "        google.colab.kernel.accessAllowed ? 'block' : 'none';\n",
              "\n",
              "      async function convertToInteractive(key) {\n",
              "        const element = document.querySelector('#df-e40c32af-cde9-4379-a236-a58829550a7d');\n",
              "        const dataTable =\n",
              "          await google.colab.kernel.invokeFunction('convertToInteractive',\n",
              "                                                    [key], {});\n",
              "        if (!dataTable) return;\n",
              "\n",
              "        const docLinkHtml = 'Like what you see? Visit the ' +\n",
              "          '<a target=\"_blank\" href=https://colab.research.google.com/notebooks/data_table.ipynb>data table notebook</a>'\n",
              "          + ' to learn more about interactive tables.';\n",
              "        element.innerHTML = '';\n",
              "        dataTable['output_type'] = 'display_data';\n",
              "        await google.colab.output.renderOutput(dataTable, element);\n",
              "        const docLink = document.createElement('div');\n",
              "        docLink.innerHTML = docLinkHtml;\n",
              "        element.appendChild(docLink);\n",
              "      }\n",
              "    </script>\n",
              "  </div>\n",
              "\n",
              "\n",
              "<div id=\"df-d24d273f-298e-402e-881e-adf0bfb7df71\">\n",
              "  <button class=\"colab-df-quickchart\" onclick=\"quickchart('df-d24d273f-298e-402e-881e-adf0bfb7df71')\"\n",
              "            title=\"Suggest charts.\"\n",
              "            style=\"display:none;\">\n",
              "\n",
              "<svg xmlns=\"http://www.w3.org/2000/svg\" height=\"24px\"viewBox=\"0 0 24 24\"\n",
              "     width=\"24px\">\n",
              "    <g>\n",
              "        <path d=\"M19 3H5c-1.1 0-2 .9-2 2v14c0 1.1.9 2 2 2h14c1.1 0 2-.9 2-2V5c0-1.1-.9-2-2-2zM9 17H7v-7h2v7zm4 0h-2V7h2v10zm4 0h-2v-4h2v4z\"/>\n",
              "    </g>\n",
              "</svg>\n",
              "  </button>\n",
              "\n",
              "<style>\n",
              "  .colab-df-quickchart {\n",
              "    background-color: #E8F0FE;\n",
              "    border: none;\n",
              "    border-radius: 50%;\n",
              "    cursor: pointer;\n",
              "    display: none;\n",
              "    fill: #1967D2;\n",
              "    height: 32px;\n",
              "    padding: 0 0 0 0;\n",
              "    width: 32px;\n",
              "  }\n",
              "\n",
              "  .colab-df-quickchart:hover {\n",
              "    background-color: #E2EBFA;\n",
              "    box-shadow: 0px 1px 2px rgba(60, 64, 67, 0.3), 0px 1px 3px 1px rgba(60, 64, 67, 0.15);\n",
              "    fill: #174EA6;\n",
              "  }\n",
              "\n",
              "  [theme=dark] .colab-df-quickchart {\n",
              "    background-color: #3B4455;\n",
              "    fill: #D2E3FC;\n",
              "  }\n",
              "\n",
              "  [theme=dark] .colab-df-quickchart:hover {\n",
              "    background-color: #434B5C;\n",
              "    box-shadow: 0px 1px 3px 1px rgba(0, 0, 0, 0.15);\n",
              "    filter: drop-shadow(0px 1px 2px rgba(0, 0, 0, 0.3));\n",
              "    fill: #FFFFFF;\n",
              "  }\n",
              "</style>\n",
              "\n",
              "  <script>\n",
              "    async function quickchart(key) {\n",
              "      const charts = await google.colab.kernel.invokeFunction(\n",
              "          'suggestCharts', [key], {});\n",
              "    }\n",
              "    (() => {\n",
              "      let quickchartButtonEl =\n",
              "        document.querySelector('#df-d24d273f-298e-402e-881e-adf0bfb7df71 button');\n",
              "      quickchartButtonEl.style.display =\n",
              "        google.colab.kernel.accessAllowed ? 'block' : 'none';\n",
              "    })();\n",
              "  </script>\n",
              "</div>\n",
              "    </div>\n",
              "  </div>\n"
            ]
          },
          "metadata": {},
          "execution_count": 7
        }
      ],
      "source": [
        "data['datetime'] = pd.to_datetime(data['event_time_ts'], unit='s')\n",
        "data['date'] = data['datetime'].astype('datetime64[D]')\n",
        "data.head()"
      ]
    },
    {
      "cell_type": "markdown",
      "metadata": {
        "id": "Lx2D5htA0puV"
      },
      "source": [
        "Подготовка закончена"
      ]
    },
    {
      "cell_type": "markdown",
      "metadata": {
        "id": "y0xFVzVj0puV"
      },
      "source": [
        "## Шаг 3. Изучите и проверьте данные\n",
        "\n",
        "* Сколько всего событий в логе?\n",
        "* Сколько всего пользователей в логе?\n",
        "* Сколько в среднем событий приходится на пользователя?\n",
        "* Данными за какой период вы располагаете? Найдите максимальную и минимальную дату. Постройте гистограмму по дате и времени. Можно ли быть уверенным, что у вас одинаково полные данные за весь период? Технически в логи новых дней по некоторым пользователям могут «доезжать» события из прошлого  — это может «перекашивать данные». Определите, с какого момента данные полные и отбросьте более старые. Данными за какой период времени вы располагаете на самом деле?\n",
        "* Много ли событий и пользователей вы потеряли, отбросив старые данные?\n",
        "* Проверьте, что у вас есть пользователи из всех трёх экспериментальных групп."
      ]
    },
    {
      "cell_type": "markdown",
      "metadata": {
        "id": "LahSj2rJ0puV"
      },
      "source": [
        "### Сколько всего событий в логе?"
      ]
    },
    {
      "cell_type": "code",
      "execution_count": 8,
      "metadata": {
        "colab": {
          "base_uri": "https://localhost:8080/"
        },
        "id": "iFUb17_d0puV",
        "outputId": "8ad1e4b9-eada-4094-da3e-9d76b0c59cfd"
      },
      "outputs": [
        {
          "output_type": "stream",
          "name": "stdout",
          "text": [
            "Типов событий в логе -  5\n",
            "\n",
            " Количество каждого события: \n",
            " MainScreenAppear           119101\n",
            "OffersScreenAppear          46808\n",
            "CartScreenAppear            42668\n",
            "PaymentScreenSuccessful     34118\n",
            "Tutorial                     1018\n",
            "Name: event_name, dtype: int64\n"
          ]
        }
      ],
      "source": [
        "print('Типов событий в логе - ', data['event_name'].nunique())\n",
        "print('\\n Количество каждого события: \\n', data['event_name'].value_counts())"
      ]
    },
    {
      "cell_type": "markdown",
      "metadata": {
        "id": "XCGAQHMx0puV"
      },
      "source": [
        "### Сколько всего пользователей в логе?"
      ]
    },
    {
      "cell_type": "code",
      "execution_count": 9,
      "metadata": {
        "colab": {
          "base_uri": "https://localhost:8080/"
        },
        "id": "qhtzRKWy0puV",
        "outputId": "e7b4c2d9-f52c-400e-8025-62972a3cc1ee"
      },
      "outputs": [
        {
          "output_type": "stream",
          "name": "stdout",
          "text": [
            "Уникальных пользователей в логе -  7551\n"
          ]
        }
      ],
      "source": [
        "print('Уникальных пользователей в логе - ', data['user_id'].nunique())"
      ]
    },
    {
      "cell_type": "markdown",
      "metadata": {
        "id": "f1PNB4pM0puV"
      },
      "source": [
        "### Сколько в среднем событий приходится на пользователя?"
      ]
    },
    {
      "cell_type": "code",
      "execution_count": 10,
      "metadata": {
        "colab": {
          "base_uri": "https://localhost:8080/"
        },
        "id": "3AVSEbUW0puV",
        "outputId": "20457304-c688-4240-965a-5185c1f35154"
      },
      "outputs": [
        {
          "output_type": "stream",
          "name": "stdout",
          "text": [
            "Среднее количество событий на одного пользователя : 32.28\n"
          ]
        }
      ],
      "source": [
        "print('Среднее количество событий на одного пользователя :', \"{:.4}\" \\\n",
        "      .format(data.groupby(['user_id']).agg('count').mean()['event_name']))"
      ]
    },
    {
      "cell_type": "markdown",
      "metadata": {
        "id": "gAh875QI0puW"
      },
      "source": [
        "### * Данными за какой период вы располагаете?\n",
        "* Найдите максимальную и минимальную дату. Постройте гистограмму по дате и времени.\n",
        "* Можно ли быть уверенным, что у вас одинаково полные данные за весь период? Технически в логи новых дней по некоторым пользователям могут «доезжать» события из прошлого — это может «перекашивать данные».\n",
        "* Определите, с какого момента данные полные и отбросьте более старые.\n",
        "* Данными за какой период времени вы располагаете на самом деле?"
      ]
    },
    {
      "cell_type": "code",
      "execution_count": 11,
      "metadata": {
        "colab": {
          "base_uri": "https://localhost:8080/"
        },
        "id": "kvC6G1_a0puW",
        "outputId": "9874885c-5474-4444-ab8a-eeaf195ccf1d"
      },
      "outputs": [
        {
          "output_type": "stream",
          "name": "stdout",
          "text": [
            "2019-07-25 04:43:36\n",
            "2019-08-07 21:15:17\n"
          ]
        }
      ],
      "source": [
        "print (data['date'].min())\n",
        "print (data['date'].max())"
      ]
    },
    {
      "cell_type": "markdown",
      "metadata": {
        "id": "rPcW6x7s0puW"
      },
      "source": [
        "Даты указывают нам на то, что события происходили между 25 июля 2019 и 7 августа 2019."
      ]
    },
    {
      "cell_type": "code",
      "execution_count": 12,
      "metadata": {
        "scrolled": true,
        "colab": {
          "base_uri": "https://localhost:8080/",
          "height": 412
        },
        "id": "hfzJOZnG0puW",
        "outputId": "098bd334-acd1-4f3a-fa32-e063ed97d51f"
      },
      "outputs": [
        {
          "output_type": "display_data",
          "data": {
            "text/plain": [
              "<Figure size 2000x500 with 1 Axes>"
            ],
            "image/png": "iVBORw0KGgoAAAANSUhEUgAABlcAAAGsCAYAAABAX/FBAAAAOXRFWHRTb2Z0d2FyZQBNYXRwbG90bGliIHZlcnNpb24zLjcuMSwgaHR0cHM6Ly9tYXRwbG90bGliLm9yZy/bCgiHAAAACXBIWXMAAA9hAAAPYQGoP6dpAABNgklEQVR4nO3de5hV9Xk37g+MwwDqqJjASEFCYjzgCcWKYxKDioyGWk1sXqPWEuOhWkgC05qEvARRm5qQeEpESV5FbBPqIY3RiBFGiBojnhAq4qGNxZ9pdcBGBY/DyKzfH73YccpxKTIw3Pd1zTXutZ793c9aex6Yzce9V5eiKIoAAAAAAACwUbp2dAMAAAAAAABbE+EKAAAAAABACcIVAAAAAACAEoQrAAAAAAAAJQhXAAAAAAAAShCuAAAAAAAAlCBcAQAAAAAAKGG7jm6gI7W1teWFF17IjjvumC5dunR0OwAAAAAAQAcqiiKvvfZa+vbtm65d1/3+lG06XHnhhRfSv3//jm4DAAAAAADYgvz+979Pv3791rl/mw5XdtxxxyT/c5Jqa2s7uJv3rrW1NbNnz86IESNSXV3d0e3AVsHcQHnmBsoxM1suzw2UZ26gPHMD5ZkbtgQrVqxI//79K/nBumzT4crqjwKrra3d6sOVnj17pra21h86sJHMDZRnbqAcM7Pl8txAeeYGyjM3UJ65YUuyoUuJuKA9AAAAAABACcIVAAAAAACAEoQrAAAAAAAAJQhXAAAAAAAAShCuAAAAAAAAlCBcAQAAAAAAKEG4AgAAAAAAUIJwBQAAAAAAoAThCgAAAAAAQAnCFQAAAAAAgBKEKwAAAAAAACUIVwAAAAAAAEp4X+HKd77znXTp0iVjx46tbHv77bczevTo7Lrrrtlhhx1y0kknZenSpe3u9/zzz2fkyJHp2bNnevfunfPPPz/vvPNOu5p77rknBx98cGpqarLHHntk+vTpazz+lClT8pGPfCTdu3fP0KFD8/DDD7+fwwEAAAAAANig9xyuPPLII/nRj36UAw44oN32cePG5Ze//GVuueWW3HvvvXnhhRfyuc99rrJ/1apVGTlyZFauXJkHHnggN9xwQ6ZPn56JEydWapYsWZKRI0fmyCOPzMKFCzN27NicddZZmTVrVqXmpptuSmNjYy644II89thjOfDAA9PQ0JBly5a910MCAAAAAADYoPcUrrz++us57bTT8v/+3//LLrvsUtm+fPnyXHfddbnsssty1FFHZciQIbn++uvzwAMP5MEHH0ySzJ49O08++WR+8pOfZPDgwTnuuONy8cUXZ8qUKVm5cmWSZOrUqRk4cGAuvfTS7LPPPhkzZkz+4i/+IpdffnnlsS677LKcffbZOeOMMzJo0KBMnTo1PXv2zLRp097P+QAAAAAAAFiv7d7LnUaPHp2RI0dm+PDh+fu///vK9vnz56e1tTXDhw+vbNt7772z++67Z968eTnssMMyb9687L///unTp0+lpqGhIeedd14WL16cgw46KPPmzWu3xuqa1R8/tnLlysyfPz/jx4+v7O/atWuGDx+eefPmrbPvlpaWtLS0VG6vWLEiSdLa2prW1tb3ciq2CKt735qPATY3cwPlmRsox8xsuTw3UJ65gfLMDZRnbtgSbOzPX+lw5cYbb8xjjz2WRx55ZI19zc3N6datW3beeed22/v06ZPm5uZKzbuDldX7V+9bX82KFSvy1ltv5ZVXXsmqVavWWvP000+vs/dLLrkkF1544RrbZ8+enZ49e67zfluLpqamjm4BtjrmBsozN1COmdlyeW6gPHMD5ZkbKM/c0JHefPPNjaorFa78/ve/z1e/+tU0NTWle/fu76mxjjR+/Pg0NjZWbq9YsSL9+/fPiBEjUltb24GdvT+tra1pamrKMccck+rq6o5uB7YK5gbKMzdQjpnZcm1rz81+k2ZtuIgtxhOTGjq6hbXa1uYGNgVzA+WZG7YEqz/xakNKhSvz58/PsmXLcvDBB1e2rVq1Kvfdd1+uuuqqzJo1KytXrsyrr77a7t0rS5cuTV1dXZKkrq4uDz/8cLt1ly5dWtm3+vvqbe+uqa2tTY8ePVJVVZWqqqq11qxeY21qampSU1Ozxvbq6upOMayd5ThgczI3UJ65gXLMzJZrW3luWlZ16egWKGFL/5ncVuYGNiVzA+WZGzrSxv7slbqg/dFHH51FixZl4cKFla9DDjkkp512WuW/q6urM2fOnMp9nnnmmTz//POpr69PktTX12fRokVZtmxZpaapqSm1tbUZNGhQpebda6yuWb1Gt27dMmTIkHY1bW1tmTNnTqUGAAAAAADgg1DqnSs77rhj9ttvv3bbtt9+++y6666V7WeeeWYaGxvTq1ev1NbW5stf/nLq6+tz2GGHJUlGjBiRQYMG5fTTT8/kyZPT3NycCRMmZPTo0ZV3lZx77rm56qqr8rWvfS1f+tKXMnfu3Nx8882ZOXNm5XEbGxszatSoHHLIITn00ENzxRVX5I033sgZZ5zxvk4IAAAAAADA+pS+oP2GXH755enatWtOOumktLS0pKGhIVdffXVlf1VVVe64446cd955qa+vz/bbb59Ro0bloosuqtQMHDgwM2fOzLhx43LllVemX79+ufbaa9PQ8MfPnj355JPz0ksvZeLEiWlubs7gwYNz1113rXGRewAAAAAAgE3pfYcr99xzT7vb3bt3z5QpUzJlypR13mfAgAG5884717vusGHDsmDBgvXWjBkzJmPGjNnoXgEAAAAAAN6vUtdcAQAAAAAA2NYJVwAAAAAAAEoQrgAAAAAAAJQgXAEAAAAAAChBuAIAAAAAAFCCcAUAAAAAAKAE4QoAAAAAAEAJwhUAAAAAAIAShCsAAAAAAAAlbNfRDQAAAADA5vCRb8zcbI9VU1Vk8qHJfpNmpWVVl832uNCRnvvOyI5uATYb71wBAAAAAAAoQbgCAAAAAABQgnAFAAAAAACgBOEKAAAAAABACcIVAAAAAACAErbr6AYAAACA//GRb8zs6BbWqqaqyORDk/0mzUrLqi4d3c4W5bnvjOzoFgCADuCdKwAAAAAAACUIVwAAAAAAAEoQrgAAAAAAAJQgXAEAAAAAAChBuAIAAAAAAFCCcAUAAAAAAKAE4QoAAAAAAEAJwhUAAAAAAIAShCsAAAAAAAAlCFcAAAAAAABKEK4AAAAAAACUIFwBAAAAAAAoQbgCAAAAAABQgnAFAAAAAACgBOEKAAAAAABACcIVAAAAAACAEoQrAAAAAAAAJQhXAAAAAAAAShCuAAAAAAAAlFAqXLnmmmtywAEHpLa2NrW1tamvr8+vfvWryv5hw4alS5cu7b7OPffcdms8//zzGTlyZHr27JnevXvn/PPPzzvvvNOu5p577snBBx+cmpqa7LHHHpk+ffoavUyZMiUf+chH0r179wwdOjQPP/xwmUMBAAAAAAB4T0qFK/369ct3vvOdzJ8/P48++miOOuqonHDCCVm8eHGl5uyzz86LL75Y+Zo8eXJl36pVqzJy5MisXLkyDzzwQG644YZMnz49EydOrNQsWbIkI0eOzJFHHpmFCxdm7NixOeusszJr1qxKzU033ZTGxsZccMEFeeyxx3LggQemoaEhy5Ytez/nAgAAAAAAYIO2K1N8/PHHt7v97W9/O9dcc00efPDB7LvvvkmSnj17pq6ubq33nz17dp588sncfffd6dOnTwYPHpyLL744X//61zNp0qR069YtU6dOzcCBA3PppZcmSfbZZ5/cf//9ufzyy9PQ0JAkueyyy3L22WfnjDPOSJJMnTo1M2fOzLRp0/KNb3xjnf23tLSkpaWlcnvFihVJktbW1rS2tpY5FVuU1b1vzccAm5u5gfLMDZRjZrZc29pzU1NVdHQLdAI1XYt23/mjvf7vHR3dAiXUVG3GxzI3bIPe7+9X29rvaWyZNvbnr0tRFO/pT/hVq1bllltuyahRo7JgwYIMGjQow4YNy+LFi1MURerq6nL88cfnW9/6Vnr27JkkmThxYm6//fYsXLiwss6SJUvy0Y9+NI899lgOOuigHHHEETn44INzxRVXVGquv/76jB07NsuXL8/KlSvTs2fP/OxnP8uJJ55YqRk1alReffXV3HbbbevsedKkSbnwwgvX2D5jxoxKjwAAAAAAwLbpzTffzKmnnprly5entrZ2nXWl3rmSJIsWLUp9fX3efvvt7LDDDrn11lszaNCgJMmpp56aAQMGpG/fvnn88cfz9a9/Pc8880x+/vOfJ0mam5vTp0+fduutvt3c3LzemhUrVuStt97KK6+8klWrVq215umnn15v7+PHj09jY2Pl9ooVK9K/f/+MGDFivSdpS9fa2pqmpqYcc8wxqa6u7uh2YKtgbqA8cwPlmJkt17b23Ow3adaGi2ADaroWufiQtnzr0a5paevS0e3AVsHcsC16YlLD+7r/tvZ7Glum1Z94tSGlw5W99torCxcuzPLly/Ozn/0so0aNyr333ptBgwblnHPOqdTtv//+2W233XL00Ufn2Wefzcc+9rGyD7XJ1dTUpKamZo3t1dXVnWJYO8txwOZkbqA8cwPlmJkt17by3LSs8g96bDotbV38TEFJ5oZtyab63Wpb+T2NLdPG/uyVuqB9knTr1i177LFHhgwZkksuuSQHHnhgrrzyyrXWDh06NEnyu9/9LklSV1eXpUuXtqtZfXv1dVrWVVNbW5sePXrkQx/6UKqqqtZas65rvQAAAAAAAGwqpcOV/62tra3dReLfbfW1VXbbbbckSX19fRYtWpRly5ZVapqamlJbW1v5aLH6+vrMmTOn3TpNTU2pr69P8j/hzpAhQ9rVtLW1Zc6cOZUaAAAAAACAD0qpjwUbP358jjvuuOy+++557bXXMmPGjNxzzz2ZNWtWnn322cyYMSOf+cxnsuuuu+bxxx/PuHHjcsQRR+SAAw5IkowYMSKDBg3K6aefnsmTJ6e5uTkTJkzI6NGjKx/Xde655+aqq67K1772tXzpS1/K3Llzc/PNN2fmzJmVPhobGzNq1KgccsghOfTQQ3PFFVfkjTfeyBlnnLEJTw0AAAAAAMCaSoUry5Yty1/91V/lxRdfzE477ZQDDjggs2bNyjHHHJPf//73ufvuuytBR//+/XPSSSdlwoQJlftXVVXljjvuyHnnnZf6+vpsv/32GTVqVC666KJKzcCBAzNz5syMGzcuV155Zfr165drr702DQ1/vBjSySefnJdeeikTJ05Mc3NzBg8enLvuumuNi9wDAAAAAABsaqXCleuuu26d+/r375977713g2sMGDAgd95553prhg0blgULFqy3ZsyYMRkzZswGHw8AAAAAAGBTet/XXAEAAAAAANiWCFcAAAAAAABKEK4AAAAAAACUIFwBAAAAAAAoQbgCAAAAAABQgnAFAAAAAACgBOEKAAAAAABACcIVAAAAAACAEoQrAAAAAAAAJQhXAAAAAAAAShCuAAAAAAAAlLBdRzcAAAAAAMDW7yPfmPm+7l9TVWTyocl+k2alZVWXTdQV6/Lcd0Z2dAtbNe9cAQAAAAAAKEG4AgAAAAAAUIJwBQAAAAAAoAThCgAAAAAAQAnCFQAAAAAAgBKEKwAAAAAAACUIVwAAAAAAAEoQrgAAAAAAAJQgXAEAAAAAAChBuAIAAAAAAFCCcAUAAAAAAKAE4QoAAAAAAEAJwhUAAAAAAIAShCsAAAAAAAAlCFcAAAAAAABKEK4AAAAAAACUIFwBAAAAAAAoQbgCAAAAAABQgnAFAAAAAACgBOEKAAAAAABACcIVAAAAAACAEoQrAAAAAAAAJZQKV6655poccMABqa2tTW1tberr6/OrX/2qsv/tt9/O6NGjs+uuu2aHHXbISSedlKVLl7Zb4/nnn8/IkSPTs2fP9O7dO+eff37eeeeddjX33HNPDj744NTU1GSPPfbI9OnT1+hlypQp+chHPpLu3btn6NChefjhh8scCgAAAAAAwHtSKlzp169fvvOd72T+/Pl59NFHc9RRR+WEE07I4sWLkyTjxo3LL3/5y9xyyy25995788ILL+Rzn/tc5f6rVq3KyJEjs3LlyjzwwAO54YYbMn369EycOLFSs2TJkowcOTJHHnlkFi5cmLFjx+ass87KrFmzKjU33XRTGhsbc8EFF+Sxxx7LgQcemIaGhixbtuz9ng8AAAAAAID1KhWuHH/88fnMZz6Tj3/849lzzz3z7W9/OzvssEMefPDBLF++PNddd10uu+yyHHXUURkyZEiuv/76PPDAA3nwwQeTJLNnz86TTz6Zn/zkJxk8eHCOO+64XHzxxZkyZUpWrlyZJJk6dWoGDhyYSy+9NPvss0/GjBmTv/iLv8jll19e6eOyyy7L2WefnTPOOCODBg3K1KlT07Nnz0ybNm0TnhoAAAAAAIA1bfde77hq1arccssteeONN1JfX5/58+entbU1w4cPr9Tsvffe2X333TNv3rwcdthhmTdvXvbff//06dOnUtPQ0JDzzjsvixcvzkEHHZR58+a1W2N1zdixY5MkK1euzPz58zN+/PjK/q5du2b48OGZN2/eentuaWlJS0tL5faKFSuSJK2trWltbX2vp6LDre59az4G2NzMDZRnbqAcM7Pl2taem5qqoqNboBOo6Vq0+w5smLmB8szN5rWt/D5c1sael9LhyqJFi1JfX5+33347O+ywQ2699dYMGjQoCxcuTLdu3bLzzju3q+/Tp0+am5uTJM3Nze2CldX7V+9bX82KFSvy1ltv5ZVXXsmqVavWWvP000+vt/dLLrkkF1544RrbZ8+enZ49e2744LdwTU1NHd0CbHXMDZRnbqAcM7Pl2laem8mHdnQHdCYXH9LW0S3AVsfcQHnmZvO48847O7qFLdKbb765UXWlw5W99torCxcuzPLly/Ozn/0so0aNyr333lu6wY4wfvz4NDY2Vm6vWLEi/fv3z4gRI1JbW9uBnb0/ra2taWpqyjHHHJPq6uqObge2CuYGyjM3UI6Z2XJta8/NfpNmbbgINqCma5GLD2nLtx7tmpa2Lh3dDmwVzA2UZ242rycmNXR0C1uk1Z94tSGlw5Vu3bpljz32SJIMGTIkjzzySK688sqcfPLJWblyZV599dV2715ZunRp6urqkiR1dXV5+OGH2623dOnSyr7V31dve3dNbW1tevTokaqqqlRVVa21ZvUa61JTU5Oampo1tldXV3eKF1Wd5ThgczI3UJ65gXLMzJZrW3luWlb5hwk2nZa2Ln6moCRzA+WZm81jW/hd+L3Y2PNS6oL2a9PW1paWlpYMGTIk1dXVmTNnTmXfM888k+effz719fVJkvr6+ixatCjLli2r1DQ1NaW2tjaDBg2q1Lx7jdU1q9fo1q1bhgwZ0q6mra0tc+bMqdQAAAAAAAB8UEq9c2X8+PE57rjjsvvuu+e1117LjBkzcs8992TWrFnZaaedcuaZZ6axsTG9evVKbW1tvvzlL6e+vj6HHXZYkmTEiBEZNGhQTj/99EyePDnNzc2ZMGFCRo8eXXlHybnnnpurrroqX/va1/KlL30pc+fOzc0335yZM2dW+mhsbMyoUaNyyCGH5NBDD80VV1yRN954I2ecccYmPDUAAAAAAABrKhWuLFu2LH/1V3+VF198MTvttFMOOOCAzJo1K8ccc0yS5PLLL0/Xrl1z0kknpaWlJQ0NDbn66qsr96+qqsodd9yR8847L/X19dl+++0zatSoXHTRRZWagQMHZubMmRk3blyuvPLK9OvXL9dee20aGv74+W8nn3xyXnrppUycODHNzc0ZPHhw7rrrrjUucg8AAAAAALCplQpXrrvuuvXu7969e6ZMmZIpU6ass2bAgAG5884717vOsGHDsmDBgvXWjBkzJmPGjFlvDQAAAAAAwKb2vq+5AgAAAAAAsC0RrgAAAAAAAJQgXAEAAAAAAChBuAIAAAAAAFCCcAUAAAAAAKAE4QoAAAAAAEAJwhUAAAAAAIAShCsAAAAAAAAlCFcAAAAAAABKEK4AAAAAAACUIFwBAAAAAAAoQbgCAAAAAABQgnAFAAAAAACgBOEKAAAAAABACcIVAAAAAACAEoQrAAAAAAAAJQhXAAAAAAAAShCuAAAAAAAAlCBcAQAAAAAAKEG4AgAAAAAAUIJwBQAAAAAAoAThCgAAAAAAQAnCFQAAAAAAgBKEKwAAAAAAACUIVwAAAAAAAEoQrgAAAAAAAJQgXAEAAAAAAChBuAIAAAAAAFCCcAUAAAAAAKAE4QoAAAAAAEAJwhUAAAAAAIAShCsAAAAAAAAlCFcAAAAAAABKEK4AAAAAAACUIFwBAAAAAAAooVS4cskll+RP//RPs+OOO6Z379458cQT88wzz7SrGTZsWLp06dLu69xzz21X8/zzz2fkyJHp2bNnevfunfPPPz/vvPNOu5p77rknBx98cGpqarLHHntk+vTpa/QzZcqUfOQjH0n37t0zdOjQPPzww2UOBwAAAAAAoLRS4cq9996b0aNH58EHH0xTU1NaW1szYsSIvPHGG+3qzj777Lz44ouVr8mTJ1f2rVq1KiNHjszKlSvzwAMP5IYbbsj06dMzceLESs2SJUsycuTIHHnkkVm4cGHGjh2bs846K7NmzarU3HTTTWlsbMwFF1yQxx57LAceeGAaGhqybNmy93ouAAAAAAAANmi7MsV33XVXu9vTp09P7969M3/+/BxxxBGV7T179kxdXd1a15g9e3aefPLJ3H333enTp08GDx6ciy++OF//+tczadKkdOvWLVOnTs3AgQNz6aWXJkn22Wef3H///bn88svT0NCQJLnsssty9tln54wzzkiSTJ06NTNnzsy0adPyjW98o8xhAQAAAAAAbLRS4cr/tnz58iRJr1692m3/6U9/mp/85Cepq6vL8ccfn29961vp2bNnkmTevHnZf//906dPn0p9Q0NDzjvvvCxevDgHHXRQ5s2bl+HDh7dbs6GhIWPHjk2SrFy5MvPnz8/48eMr+7t27Zrhw4dn3rx56+y3paUlLS0tldsrVqxIkrS2tqa1tfU9nIEtw+ret+ZjgM3N3EB55gbKMTNbrm3tuampKjq6BTqBmq5Fu+/AhpkbKM/cbF7byu/DZW3seXnP4UpbW1vGjh2bT3ziE9lvv/0q20899dQMGDAgffv2zeOPP56vf/3reeaZZ/Lzn/88SdLc3NwuWElSud3c3LzemhUrVuStt97KK6+8klWrVq215umnn15nz5dcckkuvPDCNbbPnj27Ev5szZqamjq6BdjqmBsoz9xAOWZmy7WtPDeTD+3oDuhMLj6kraNbgK2OuYHyzM3mceedd3Z0C1ukN998c6Pq3nO4Mnr06DzxxBO5//77220/55xzKv+9//77Z7fddsvRRx+dZ599Nh/72Mfe68NtEuPHj09jY2Pl9ooVK9K/f/+MGDEitbW1HdjZ+9Pa2pqmpqYcc8wxqa6u7uh2YKtgbqA8cwPlmJkt17b23Ow3adaGi2ADaroWufiQtnzr0a5paevS0e3AVsHcQHnmZvN6YlJDR7ewRVr9iVcb8p7ClTFjxuSOO+7Ifffdl379+q23dujQoUmS3/3ud/nYxz6Wurq6PPzww+1qli5dmiSV67TU1dVVtr27pra2Nj169EhVVVWqqqrWWrOua70kSU1NTWpqatbYXl1d3SleVHWW44DNydxAeeYGyjEzW65t5blpWeUfJth0Wtq6+JmCkswNlGduNo9t4Xfh92Jjz0vXMosWRZExY8bk1ltvzdy5czNw4MAN3mfhwoVJkt122y1JUl9fn0WLFmXZsmWVmqamptTW1mbQoEGVmjlz5rRbp6mpKfX19UmSbt26ZciQIe1q2traMmfOnEoNAAAAAADAB6HUO1dGjx6dGTNm5LbbbsuOO+5YuUbKTjvtlB49euTZZ5/NjBkz8pnPfCa77rprHn/88YwbNy5HHHFEDjjggCTJiBEjMmjQoJx++umZPHlympubM2HChIwePbryrpJzzz03V111Vb72ta/lS1/6UubOnZubb745M2fOrPTS2NiYUaNG5ZBDDsmhhx6aK664Im+88UbOOOOMTXVuAAAAAAAA1lAqXLnmmmuSJMOGDWu3/frrr88Xv/jFdOvWLXfffXcl6Ojfv39OOumkTJgwoVJbVVWVO+64I+edd17q6+uz/fbbZ9SoUbnooosqNQMHDszMmTMzbty4XHnllenXr1+uvfbaNDT88TPgTj755Lz00kuZOHFimpubM3jw4Nx1111rXOQeAAAAAABgUyoVrhRFsd79/fv3z7333rvBdQYMGJA777xzvTXDhg3LggUL1lszZsyYjBkzZoOPBwAAAAAAsKmUuuYKAAAAAADAtk64AgAAAAAAUIJwBQAAAAAAoAThCgAAAAAAQAnCFQAAAAAAgBKEKwAAAAAAACUIVwAAAAAAAEoQrgAAAAAAAJQgXAEAAAAAAChBuAIAAAAAAFCCcAUAAAAAAKAE4QoAAAAAAEAJwhUAAAAAAIAShCsAAAAAAAAlCFcAAAAAAABKEK4AAAAAAACUIFwBAAAAAAAoQbgCAAAAAABQgnAFAAAAAACgBOEKAAAAAABACcIVAAAAAACAEoQrAAAAAAAAJQhXAAAAAAAAShCuAAAAAAAAlCBcAQAAAAAAKEG4AgAAAAAAUIJwBQAAAAAAoAThCgAAAAAAQAnCFQAAAAAAgBKEKwAAAAAAACUIVwAAAAAAAEoQrgAAAAAAAJQgXAEAAAAAAChBuAIAAAAAAFCCcAUAAAAAAKCE7coUX3LJJfn5z3+ep59+Oj169Mjhhx+e7373u9lrr70qNW+//Xb+9m//NjfeeGNaWlrS0NCQq6++On369KnUPP/88znvvPPy61//OjvssENGjRqVSy65JNtt98d27rnnnjQ2Nmbx4sXp379/JkyYkC9+8Yvt+pkyZUq+973vpbm5OQceeGB++MMf5tBDD32PpwIAANiQj3xjZke38L7VVBWZfGiy36RZaVnVpaPbAQAAtkKl3rly7733ZvTo0XnwwQfT1NSU1tbWjBgxIm+88UalZty4cfnlL3+ZW265Jffee29eeOGFfO5zn6vsX7VqVUaOHJmVK1fmgQceyA033JDp06dn4sSJlZolS5Zk5MiROfLII7Nw4cKMHTs2Z511VmbNmlWpuemmm9LY2JgLLrggjz32WA488MA0NDRk2bJl7+d8AAAAAAAArFepd67cdddd7W5Pnz49vXv3zvz583PEEUdk+fLlue666zJjxowcddRRSZLrr78+++yzTx588MEcdthhmT17dp588sncfffd6dOnTwYPHpyLL744X//61zNp0qR069YtU6dOzcCBA3PppZcmSfbZZ5/cf//9ufzyy9PQ0JAkueyyy3L22WfnjDPOSJJMnTo1M2fOzLRp0/KNb3zjfZ8YAAAAAACAtSkVrvxvy5cvT5L06tUrSTJ//vy0trZm+PDhlZq99947u+++e+bNm5fDDjss8+bNy/7779/uY8IaGhpy3nnnZfHixTnooIMyb968dmusrhk7dmySZOXKlZk/f37Gjx9f2d+1a9cMHz488+bNW2e/LS0taWlpqdxesWJFkqS1tTWtra3v8Sx0vNW9b83HAJubuYHyzA2U01lnpqaq6OgW3rearkW778CGmRsoz9xAeeZm8+psr1U2lY09L+85XGlra8vYsWPziU98Ivvtt1+SpLm5Od26dcvOO+/crrZPnz5pbm6u1Lw7WFm9f/W+9dWsWLEib731Vl555ZWsWrVqrTVPP/30Onu+5JJLcuGFF66xffbs2enZs+dGHPWWrampqaNbgK2OuYHyzA2U09lmZnInusThxYe0dXQLsNUxN1CeuYHyzM3mceedd3Z0C1ukN998c6Pq3nO4Mnr06DzxxBO5//773+sSm9348ePT2NhYub1ixYr0798/I0aMSG1tbQd29v60tramqakpxxxzTKqrqzu6HdgqmBsoz9xAOZ11ZvabNGvDRVu4mq5FLj6kLd96tGta2lzQHjaGuYHyzA2UZ242rycmNXR0C1uk1Z94tSHvKVwZM2ZM7rjjjtx3333p169fZXtdXV1WrlyZV199td27V5YuXZq6urpKzcMPP9xuvaVLl1b2rf6+etu7a2pra9OjR49UVVWlqqpqrTWr11ibmpqa1NTUrLG9urq6U7zg7SzHAZuTuYHyzA2U09lmpmVV53mR29LWpVMdD2wO5gbKMzdQnrnZPDrT65RNaWPPS9cyixZFkTFjxuTWW2/N3LlzM3DgwHb7hwwZkurq6syZM6ey7Zlnnsnzzz+f+vr6JEl9fX0WLVqUZcuWVWqamppSW1ubQYMGVWrevcbqmtVrdOvWLUOGDGlX09bWljlz5lRqAAAAAAAAPgil3rkyevTozJgxI7fddlt23HHHyjVSdtppp/To0SM77bRTzjzzzDQ2NqZXr16pra3Nl7/85dTX1+ewww5LkowYMSKDBg3K6aefnsmTJ6e5uTkTJkzI6NGjK+8qOffcc3PVVVfla1/7Wr70pS9l7ty5ufnmmzNz5sxKL42NjRk1alQOOeSQHHroobniiivyxhtv5IwzzthU5wYAAAAAAGANpcKVa665JkkybNiwdtuvv/76fPGLX0ySXH755enatWtOOumktLS0pKGhIVdffXWltqqqKnfccUfOO++81NfXZ/vtt8+oUaNy0UUXVWoGDhyYmTNnZty4cbnyyivTr1+/XHvttWlo+ONnwJ188sl56aWXMnHixDQ3N2fw4MG566671rjIPQAAAAAAwKZUKlwpimKDNd27d8+UKVMyZcqUddYMGDAgd95553rXGTZsWBYsWLDemjFjxmTMmDEb7AkAAAAAAGBTKXXNFQAAAAAAgG2dcAUAAAAAAKAE4QoAAAAAAEAJwhUAAAAAAIAShCsAAAAAAAAlCFcAAAAAAABKEK4AAAAAAACUIFwBAAAAAAAoQbgCAAAAAABQgnAFAAAAAACgBOEKAAAAAABACcIVAAAAAACAEoQrAAAAAAAAJQhXAAAAAAAAShCuAAAAAAAAlCBcAQAAAAAAKEG4AgAAAAAAUIJwBQAAAAAAoAThCgAAAAAAQAnCFQAAAAAAgBKEKwAAAAAAACUIVwAAAAAAAEoQrgAAAAAAAJQgXAEAAAAAAChBuAIAAAAAAFCCcAUAAAAAAKAE4QoAAAAAAEAJwhUAAAAAAIAShCsAAAAAAAAlCFcAAAAAAABKEK4AAAAAAACUIFwBAAAAAAAoQbgCAAAAAABQgnAFAAAAAACgBOEKAAAAAABACaXDlfvuuy/HH398+vbtmy5duuQXv/hFu/1f/OIX06VLl3Zfxx57bLual19+Oaeddlpqa2uz884758wzz8zrr7/erubxxx/Ppz71qXTv3j39+/fP5MmT1+jllltuyd57753u3btn//33z5133ln2cAAAAAAAAEopHa688cYbOfDAAzNlypR11hx77LF58cUXK1///M//3G7/aaedlsWLF6epqSl33HFH7rvvvpxzzjmV/StWrMiIESMyYMCAzJ8/P9/73vcyadKk/PjHP67UPPDAAznllFNy5plnZsGCBTnxxBNz4okn5oknnih7SAAAAAAAABttu7J3OO6443Lcccett6ampiZ1dXVr3ffUU0/lrrvuyiOPPJJDDjkkSfLDH/4wn/nMZ/L9738/ffv2zU9/+tOsXLky06ZNS7du3bLvvvtm4cKFueyyyyohzJVXXpljjz02559/fpLk4osvTlNTU6666qpMnTq17GEBAAAAAABslNLhysa455570rt37+yyyy456qij8vd///fZddddkyTz5s3LzjvvXAlWkmT48OHp2rVrHnrooXz2s5/NvHnzcsQRR6Rbt26VmoaGhnz3u9/NK6+8kl122SXz5s1LY2Nju8dtaGhY42PK3q2lpSUtLS2V2ytWrEiStLa2prW1dVMceodY3fvWfAywuZkbKM/cQDmddWZqqoqObuF9q+latPsObJi5gfLMDZRnbjavzvZaZVPZ2POyycOVY489Np/73OcycODAPPvss/nmN7+Z4447LvPmzUtVVVWam5vTu3fv9k1st1169eqV5ubmJElzc3MGDhzYrqZPnz6Vfbvsskuam5sr295ds3qNtbnkkkty4YUXrrF99uzZ6dmz53s63i1JU1NTR7cAWx1zA+WZGyins83M5EM7uoNN5+JD2jq6BdjqmBsoz9xAeeZm83AN87V78803N6puk4crX/jCFyr/vf/+++eAAw7Ixz72sdxzzz05+uijN/XDlTJ+/Ph273ZZsWJF+vfvnxEjRqS2trYDO3t/Wltb09TUlGOOOSbV1dUd3Q5sFcwNlGduoJzOOjP7TZrV0S28bzVdi1x8SFu+9WjXtLR16eh2YKtgbqA8cwPlmZvN64lJDR3dwhZp9SdebcgH8rFg7/bRj340H/rQh/K73/0uRx99dOrq6rJs2bJ2Ne+8805efvnlynVa6urqsnTp0nY1q29vqGZd13pJ/udaMDU1NWtsr66u7hQveDvLccDmZG6gPHMD5XS2mWlZ1Xle5La0delUxwObg7mB8swNlGduNo/O9DplU9rY89L1A+4j//mf/5k//OEP2W233ZIk9fX1efXVVzN//vxKzdy5c9PW1pahQ4dWau677752n23W1NSUvfbaK7vsskulZs6cOe0eq6mpKfX19R/0IQEAAAAAANuw0uHK66+/noULF2bhwoVJkiVLlmThwoV5/vnn8/rrr+f888/Pgw8+mOeeey5z5szJCSeckD322CMNDf/zFqN99tknxx57bM4+++w8/PDD+e1vf5sxY8bkC1/4Qvr27ZskOfXUU9OtW7eceeaZWbx4cW666aZceeWV7T7S66tf/WruuuuuXHrppXn66aczadKkPProoxkzZswmOC0AAAAAAABrVzpcefTRR3PQQQfloIMOSpI0NjbmoIMOysSJE1NVVZXHH388f/7nf54999wzZ555ZoYMGZLf/OY37T6O66c//Wn23nvvHH300fnMZz6TT37yk/nxj39c2b/TTjtl9uzZWbJkSYYMGZK//du/zcSJE3POOedUag4//PDMmDEjP/7xj3PggQfmZz/7WX7xi19kv/32ez/nAwAAAAAAYL1KX3Nl2LBhKYpinftnzdrwBS579eqVGTNmrLfmgAMOyG9+85v11nz+85/P5z//+Q0+HgAAAAAAwKbygV9zBQAAAAAAoDMRrgAAAAAAAJQgXAEAAAAAAChBuAIAAAAAAFCCcAUAAAAAAKAE4QoAAAAAAEAJwhUAAAAAAIAShCsAAAAAAAAlCFcAAAAAAABKEK4AAAAAAACUIFwBAAAAAAAoQbgCAAAAAABQgnAFAAAAAACgBOEKAAAAAABACcIVAAAAAACAEoQrAAAAAAAAJQhXAAAAAAAAShCuAAAAAAAAlCBcAQAAAAAAKEG4AgAAAAAAUIJwBQAAAAAAoAThCgAAAAAAQAnCFQAAAAAAgBKEKwAAAAAAACUIVwAAAAAAAEoQrgAAAAAAAJQgXAEAAAAAAChBuAIAAAAAAFCCcAUAAAAAAKAE4QoAAAAAAEAJwhUAAAAAAIAShCsAAAAAAAAlCFcAAAAAAABKEK4AAAAAAACUIFwBAAAAAAAooXS4ct999+X4449P375906VLl/ziF79ot78oikycODG77bZbevTokeHDh+ff//3f29W8/PLLOe2001JbW5udd945Z555Zl5//fV2NY8//ng+9alPpXv37unfv38mT568Ri+33HJL9t5773Tv3j37779/7rzzzrKHAwAAAAAAUErpcOWNN97IgQcemClTpqx1/+TJk/ODH/wgU6dOzUMPPZTtt98+DQ0Nefvttys1p512WhYvXpympqbccccdue+++3LOOedU9q9YsSIjRozIgAEDMn/+/Hzve9/LpEmT8uMf/7hS88ADD+SUU07JmWeemQULFuTEE0/MiSeemCeeeKLsIQEAAAAAAGy07cre4bjjjstxxx231n1FUeSKK67IhAkTcsIJJyRJ/vEf/zF9+vTJL37xi3zhC1/IU089lbvuuiuPPPJIDjnkkCTJD3/4w3zmM5/J97///fTt2zc//elPs3LlykybNi3dunXLvvvum4ULF+ayyy6rhDBXXnlljj322Jx//vlJkosvvjhNTU256qqrMnXq1Pd0MgAAAAAAADakdLiyPkuWLElzc3OGDx9e2bbTTjtl6NChmTdvXr7whS9k3rx52XnnnSvBSpIMHz48Xbt2zUMPPZTPfvazmTdvXo444oh069atUtPQ0JDvfve7eeWVV7LLLrtk3rx5aWxsbPf4DQ0Na3xM2bu1tLSkpaWlcnvFihVJktbW1rS2tr7fw+8wq3vfmo8BNjdzA+WZGyins85MTVXR0S28bzVdi3bfgQ0zN1CeuYHyzM3m1dleq2wqG3teNmm40tzcnCTp06dPu+19+vSp7Gtubk7v3r3bN7HddunVq1e7moEDB66xxup9u+yyS5qbm9f7OGtzySWX5MILL1xj++zZs9OzZ8+NOcQtWlNTU0e3AFsdcwPlmRsop7PNzORDO7qDTefiQ9o6ugXY6pgbKM/cQHnmZvNwDfO1e/PNNzeqbpOGK1u68ePHt3u3y4oVK9K/f/+MGDEitbW1HdjZ+9Pa2pqmpqYcc8wxqa6u7uh2YKtgbqA8cwPldNaZ2W/SrI5u4X2r6Vrk4kPa8q1Hu6alrUtHtwNbBXMD5ZkbKM/cbF5PTGro6Ba2SKs/8WpDNmm4UldXlyRZunRpdtttt8r2pUuXZvDgwZWaZcuWtbvfO++8k5dffrly/7q6uixdurRdzerbG6pZvX9tampqUlNTs8b26urqTvGCt7McB2xO5gbKMzdQTmebmZZVnedFbktbl051PLA5mBsoz9xAeeZm8+hMr1M2pY09L1035YMOHDgwdXV1mTNnTmXbihUr8tBDD6W+vj5JUl9fn1dffTXz58+v1MydOzdtbW0ZOnRopea+++5r99lmTU1N2WuvvbLLLrtUat79OKtrVj8OAAAAAADAB6F0uPL6669n4cKFWbhwYZL/uYj9woUL8/zzz6dLly4ZO3Zs/v7v/z633357Fi1alL/6q79K3759c+KJJyZJ9tlnnxx77LE5++yz8/DDD+e3v/1txowZky984Qvp27dvkuTUU09Nt27dcuaZZ2bx4sW56aabcuWVV7b7SK+vfvWrueuuu3LppZfm6aefzqRJk/Loo49mzJgx7/+sAAAAAAAArEPpjwV79NFHc+SRR1Zurw48Ro0alenTp+drX/ta3njjjZxzzjl59dVX88lPfjJ33XVXunfvXrnPT3/604wZMyZHH310unbtmpNOOik/+MEPKvt32mmnzJ49O6NHj86QIUPyoQ99KBMnTsw555xTqTn88MMzY8aMTJgwId/85jfz8Y9/PL/4xS+y3377vacTAQAAAAAAsDFKhyvDhg1LURTr3N+lS5dcdNFFueiii9ZZ06tXr8yYMWO9j3PAAQfkN7/5zXprPv/5z+fzn//8+hsGAAAAAADYhDbpNVcAAAAAAAA6O+EKAAAAAABACcIVAAAAAACAEoQrAAAAAAAAJQhXAAAAAAAAShCuAAAAAAAAlCBcAQAAAAAAKEG4AgAAAAAAUIJwBQAAAAAAoAThCgAAAAAAQAnCFQAAAAAAgBKEKwAAAAAAACUIVwAAAAAAAEoQrgAAAAAAAJQgXAEAAAAAAChBuAIAAAAAAFCCcAUAAAAAAKAE4QoAAAAAAEAJwhUAAAAAAIAShCsAAAAAAAAlCFcAAAAAAABKEK4AAAAAAACUIFwBAAAAAAAoQbgCAAAAAABQgnAFAAAAAACgBOEKAAAAAABACcIVAAAAAACAEoQrAAAAAAAAJQhXAAAAAAAAShCuAAAAAAAAlCBcAQAAAAAAKEG4AgAAAAAAUIJwBQAAAAAAoAThCgAAAAAAQAnCFQAAAAAAgBI2ebgyadKkdOnSpd3X3nvvXdn/9ttvZ/To0dl1112zww475KSTTsrSpUvbrfH8889n5MiR6dmzZ3r37p3zzz8/77zzTruae+65JwcffHBqamqyxx57ZPr06Zv6UAAAAAAAANbwgbxzZd99982LL75Y+br//vsr+8aNG5df/vKXueWWW3LvvffmhRdeyOc+97nK/lWrVmXkyJFZuXJlHnjggdxwww2ZPn16Jk6cWKlZsmRJRo4cmSOPPDILFy7M2LFjc9ZZZ2XWrFkfxOEAAAAAAABUbPeBLLrddqmrq1tj+/Lly3PddddlxowZOeqoo5Ik119/ffbZZ588+OCDOeywwzJ79uw8+eSTufvuu9OnT58MHjw4F198cb7+9a9n0qRJ6datW6ZOnZqBAwfm0ksvTZLss88+uf/++3P55ZenoaFhnX21tLSkpaWlcnvFihVJktbW1rS2tm7KU7BZre59az4G2NzMDZRnbqCczjozNVVFR7fwvtV0Ldp9BzbM3EB55gbKMzebV2d7rbKpbOx56VIUxSb9SZ00aVK+973vZaeddkr37t1TX1+fSy65JLvvvnvmzp2bo48+Oq+88kp23nnnyn0GDBiQsWPHZty4cZk4cWJuv/32LFy4sLJ/yZIl+ehHP5rHHnssBx10UI444ogcfPDBueKKKyo1119/fcaOHZvly5evt7cLL7xwje0zZsxIz549N8XhAwAAAAAAW6k333wzp556apYvX57a2tp11m3yd64MHTo006dPz1577ZUXX3wxF154YT71qU/liSeeSHNzc7p169YuWEmSPn36pLm5OUnS3NycPn36rLF/9b711axYsSJvvfVWevTosdbexo8fn8bGxsrtFStWpH///hkxYsR6T9KWrrW1NU1NTTnmmGNSXV3d0e3AVsHcQHnmBsrprDOz36St/6N4a7oWufiQtnzr0a5paevS0e3AVsHcQHnmBsozN5vXE5PW/SlQ27LVn3i1IZs8XDnuuOMq/33AAQdk6NChGTBgQG6++eZ1hh6bS01NTWpqatbYXl1d3Sle8HaW44DNydxAeeYGyulsM9OyqvO8yG1p69Kpjgc2B3MD5ZkbKM/cbB6d6XXKprSx5+UDuaD9u+28887Zc88987vf/S51dXVZuXJlXn311XY1S5curVyjpa6uLkuXLl1j/+p966upra3t8AAHAAAAAADo3D7wcOX111/Ps88+m9122y1DhgxJdXV15syZU9n/zDPP5Pnnn099fX2SpL6+PosWLcqyZcsqNU1NTamtrc2gQYMqNe9eY3XN6jUAAAAAAAA+KJs8XPm7v/u73HvvvXnuuefywAMP5LOf/WyqqqpyyimnZKeddsqZZ56ZxsbG/PrXv878+fNzxhlnpL6+PocddliSZMSIERk0aFBOP/30/Ou//mtmzZqVCRMmZPTo0ZWP9Dr33HPzH//xH/na176Wp59+OldffXVuvvnmjBs3blMfDgAAAAAAQDub/Jor//mf/5lTTjklf/jDH/LhD384n/zkJ/Pggw/mwx/+cJLk8ssvT9euXXPSSSelpaUlDQ0Nufrqqyv3r6qqyh133JHzzjsv9fX12X777TNq1KhcdNFFlZqBAwdm5syZGTduXK688sr069cv1157bRoaXIAHAAAAAAD4YG3ycOXGG29c7/7u3btnypQpmTJlyjprBgwYkDvvvHO96wwbNiwLFix4Tz0CAAAAAAC8Vx/4NVcAAAAAAAA6E+EKAAAAAABACcIVAAAAAACAEoQrAAAAAAAAJQhXAAAAAAAAShCuAAAAAAAAlCBcAQAAAAAAKEG4AgAAAAAAUIJwBQAAAAAAoAThCgAAAAAAQAnCFQAAAAAAgBKEKwAAAAAAACUIVwAAAAAAAEoQrgAAAAAAAJQgXAEAAAAAAChBuAIAAAAAAFCCcAUAAAAAAKAE4QoAAAAAAEAJwhUAAAAAAIAShCsAAAAAAAAlCFcAAAAAAABKEK4AAAAAAACUIFwBAAAAAAAoQbgCAAAAAABQgnAFAAAAAACgBOEKAAAAAABACcIVAAAAAACAEoQrAAAAAAAAJQhXAAAAAAAAShCuAAAAAAAAlCBcAQAAAAAAKEG4AgAAAAAAUMJ2Hd0AAADbto98Y2ZHt/CBqKkqMvnQZL9Js9KyqktHtwMAAMAm5J0rAAAAAAAAJQhXAAAAAAAAStjqw5UpU6bkIx/5SLp3756hQ4fm4Ycf7uiWAAAAAACATmyrvubKTTfdlMbGxkydOjVDhw7NFVdckYaGhjzzzDPp3bt3R7cHAHSQznoNDwAAAGDLsFWHK5dddlnOPvvsnHHGGUmSqVOnZubMmZk2bVq+8Y1vrFHf0tKSlpaWyu3ly5cnSV5++eW0trZunqY/AK2trXnzzTfzhz/8IdXV1R3dDmwVzA1lDL1kTke3sEWo6VpkwkFtGfx/f56Wti374txb9S84dBrbtRV58822bNfaNau28JnZ1nhuoDxzA+WZGyjP3Gxef/jDHzq6hS3Sa6+9liQpimK9dV2KDVVsoVauXJmePXvmZz/7WU488cTK9lGjRuXVV1/NbbfdtsZ9Jk2alAsvvHAzdgkAAAAAAGxtfv/736dfv37r3L/V/o+d//3f/51Vq1alT58+7bb36dMnTz/99FrvM378+DQ2NlZut7W15eWXX86uu+6aLl223iR0xYoV6d+/f37/+9+ntra2o9uBrYK5gfLMDZRjZrZcnhsoz9xAeeYGyjM3bAmKoshrr72Wvn37rrduqw1X3ouamprU1NS027bzzjt3TDMfgNraWn/oQEnmBsozN1COmdlyeW6gPHMD5ZkbKM/c0NF22mmnDdZ03Qx9fCA+9KEPpaqqKkuXLm23fenSpamrq+ugrgAAAAAAgM5uqw1XunXrliFDhmTOnD9eZLitrS1z5sxJfX19B3YGAAAAAAB0Zlv1x4I1NjZm1KhROeSQQ3LooYfmiiuuyBtvvJEzzjijo1vbrGpqanLBBRes8ZFnwLqZGyjP3EA5ZmbL5bmB8swNlGduoDxzw9akS1EURUc38X5cddVV+d73vpfm5uYMHjw4P/jBDzJ06NCObgsAAAAAAOiktvpwBQAAAAAAYHPaaq+5AgAAAAAA0BGEKwAAAAAAACUIVwAAAAAAAEoQrgAAAAAAAJQgXCnhkksuyZ/+6Z9mxx13TO/evXPiiSfmmWeeaVfz9ttvZ/To0dl1112zww475KSTTsrSpUvb1XzlK1/JkCFDUlNTk8GDB6/1sW6++eYMHjw4PXv2zIABA/K9731vo3q85ZZbsvfee6d79+7Zf//9c+edd7bb36VLl7V+rW/9f/3Xf80pp5yS/v37p0ePHtlnn31y5ZVXtqu555571rpuc3PzRvVN52Vu1j03X/ziF9e67r777rtRfdM5mZl1z0ySTJkyJfvss0969OiRvfbaK//4j/+4UT3TuW2rc/OHP/whxx57bPr27Zuampr0798/Y8aMyYoVKyo1L774Yk499dTsueee6dq1a8aOHbtR/W4qneG5ef311zNmzJj069cvPXr0yKBBgzJ16tQNrvvyyy/ntNNOS21tbXbeeeeceeaZef3119sd9xe/+MXsv//+2W677XLiiSduVL90fuZm3XPzzDPP5Mgjj0yfPn3SvXv3fPSjH82ECRPS2tq6UX3TeZmbdc/Nc889t9bfMR588MGN6pvOy9yse24mTZq01rnZfvvtN6pvtiEFG62hoaG4/vrriyeeeKJYuHBh8ZnPfKbYfffdi9dff71Sc+655xb9+/cv5syZUzz66KPFYYcdVhx++OHt1vnyl79cXHXVVcXpp59eHHjggWs8zp133llst912xTXXXFM8++yzxR133FHstttuxQ9/+MP19vfb3/62qKqqKiZPnlw8+eSTxYQJE4rq6upi0aJFlZoXX3yx3de0adOKLl26FM8+++w6173uuuuKr3zlK8U999xTPPvss8U//dM/FT169GjXz69//esiSfHMM8+0W3/VqlUbOq10cuZm3XPz6quvtlv397//fdGrV6/iggsu2MBZpTMzM+uemauvvrrYcccdixtvvLF49tlni3/+538udthhh+L222/f0Gmlk9tW5+bll18urr766uKRRx4pnnvuueLuu+8u9tprr+KUU06p1CxZsqT4yle+Utxwww3F4MGDi69+9asbOJubVmd4bs4+++ziYx/7WPHrX/+6WLJkSfGjH/2oqKqqKm677bb1rn3ssccWBx54YPHggw8Wv/nNb4o99tij3XPz+uuvF+eee27x4x//uGhoaChOOOGE9a7HtsPcrHtunn322WLatGnFwoULi+eee6647bbbit69exfjx49f77p0fuZm3XOzZMmSIklx9913t/tdY+XKletdl87P3Kx7bl577bU1fj8fNGhQMWrUqPWuy7ZHuPI+LFu2rEhS3HvvvUVR/M8/lFZXVxe33HJLpeapp54qkhTz5s1b4/4XXHDBWv/QOeWUU4q/+Iu/aLftBz/4QdGvX7+ira1tnf38n//zf4qRI0e22zZ06NDir//6r9d5nxNOOKE46qij1rl/Xf7mb/6mOPLIIyu3V4crr7zySum12LaYmyPXuf/WW28tunTpUjz33HOl16bzMjN/nJn6+vri7/7u79rVNDY2Fp/4xCdKr03nti3PzZVXXln069dvrfs+/elPb/Zw5X/bGp+bfffdt7jooova1Rx88MHF//2//3ed6z755JNFkuKRRx6pbPvVr35VdOnSpfiv//qvNepHjRolXGGdzM3a52a1cePGFZ/85CfXuZ9tk7n549ysDlcWLFiwznWgKMzN+v6+WbhwYZGkuO+++9a5LtsmHwv2PixfvjxJ0qtXryTJ/Pnz09ramuHDh1dq9t577+y+++6ZN2/eRq/b0tKS7t27t9vWo0eP/Od//mf+v//v/1vn/ebNm9fusZOkoaFhnY+9dOnSzJw5M2eeeeZG97ba8uXLK8f9boMHD85uu+2WY445Jr/97W9Lr0vnZ27WnJvVrrvuugwfPjwDBgwovTadl5n548ysq+eHH37Yx4HQzrY6Ny+88EJ+/vOf59Of/nSp+21OW+Nzc/jhh+f222/Pf/3Xf6Uoivz617/Ov/3bv2XEiBHrXXfnnXfOIYccUtk2fPjwdO3aNQ899NBGHxck5mZ9c/O73/0ud9111xb95x4dw9ysOTd//ud/nt69e+eTn/xkbr/99o06XrYt5mbdf99ce+212XPPPfOpT31qvcfKtke48h61tbVl7Nix+cQnPpH99tsvSdLc3Jxu3bpl5513blfbp0+fUtceaWhoyM9//vPMmTMnbW1t+bd/+7dceumlSf7nc7PXpbm5OX369Nnox77hhhuy44475nOf+9xG95YkDzzwQG666aacc845lW277bZbpk6dmn/5l3/Jv/zLv6R///4ZNmxYHnvssVJr07mZm/Zz824vvPBCfvWrX+Wss84qtS6dm5lpPzMNDQ259tprM3/+/BRFkUcffTTXXnttWltb89///d+l1qfz2hbn5pRTTknPnj3zJ3/yJ6mtrc211167kUe0eW2tz80Pf/jDDBo0KP369Uu3bt1y7LHHZsqUKTniiCPWu27v3r3bbdtuu+3Sq1cv1ySkFHOz9rk5/PDD071793z84x/Ppz71qVx00UUbfdx0fuam/dzssMMOufTSS3PLLbdk5syZ+eQnP5kTTzxRwEI75mbdv6e9/fbb+elPf/qe/odBOj/hyns0evToPPHEE7nxxhs3+dpnn312xowZkz/7sz9Lt27dcthhh+ULX/hCkqRr1655/vnns8MOO1S+/uEf/uE9Pc60adNy2mmntUuPjzvuuMq6a7uo9hNPPJETTjghF1xwQbsUeK+99spf//VfZ8iQITn88MMzbdq0HH744bn88svfU290TubmgnX+3xM33HBDdt55ZxezpR0z035mvvWtb+W4447LYYcdlurq6pxwwgkZNWpUpWdIts25ufzyy/PYY4/ltttuy7PPPpvGxsb3fpAfoK31ufnhD3+YBx98MLfffnvmz5+fSy+9NKNHj87dd9+dJDn33HPbrQ2bkrlZu5tuuimPPfZYZsyYkZkzZ+b73/9+6TXovMxNex/60IfS2NiYoUOH5k//9E/zne98J3/5l3+50RcUZ9tgbtbt1ltvzWuvvVZ57Qnvtl1HN7A1GjNmTO64447cd9996devX2V7XV1dVq5cmVdffbVdqrt06dLU1dVt9PpdunTJd7/73fzDP/xDmpub8+EPfzhz5sxJknz0ox/NLrvskoULF1bqV79dr66uLkuXLm231roe+ze/+U2eeeaZ3HTTTe22X3vttXnrrbeSJNXV1e32Pfnkkzn66KNzzjnnZMKECRs8jkMPPTT333//hg+YbYK5WffcFEWRadOm5fTTT0+3bt02+pjp3MzMmjPTo0ePTJs2LT/60Y+ydOnS7Lbbbvnxj3+cHXfcMR/+8Ic3+tjpvLbVuamrq0tdXV323nvv9OrVK5/61KfyrW99K7vttttGH9sHbWt9bt56661885vfzK233pqRI0cmSQ444IAsXLgw3//+9zN8+PBcdNFF+bu/+7t2a9TV1WXZsmXttr3zzjt5+eWXSx0X2zZzs+656d+/f5Jk0KBBWbVqVc4555z87d/+baqqqjb6+OmczM3G/X0zdOjQNDU1bfRx07mZm/XPzbXXXps/+7M/W+NdNJB450opRVFkzJgxufXWWzN37twMHDiw3f4hQ4akurq68gdEkjzzzDN5/vnnU19fX/rxqqqq8id/8ifp1q1b/vmf/zn19fX58Ic/nO222y577LFH5Wv1Hzr19fXtHjtJmpqa1vrY1113XYYMGZIDDzyw3fY/+ZM/qaz77us+LF68OEceeWRGjRqVb3/72xvV/8KFC7eoF/V0DHOz4bm5995787vf/c5bTEliZjZmZqqrq9OvX79UVVXlxhtvzJ/92Z9558o2bluem/+tra0tyf98tvWWYGt/blpbW9Pa2rrGnzFVVVWVc927d+92a69e99VXX838+fMr95k7d27a2toydOjQ0sfFtsXclJubtra2tLa2VtZm22Ruys2Nf68hMTcbMzdLlizJr3/9a/9ew7pt5IXvKYrivPPOK3baaafinnvuKV588cXK15tvvlmpOffcc4vdd9+9mDt3bvHoo48W9fX1RX19fbt1/v3f/71YsGBB8dd//dfFnnvuWSxYsKBYsGBB0dLSUhRFUbz00kvFNddcUzz11FPFggULiq985StF9+7di4ceemi9/f32t78ttttuu+L73/9+8dRTTxUXXHBBUV1dXSxatKhd3fLly4uePXsW11xzzUYd96JFi4oPf/jDxV/+5V+2O+5ly5ZVai6//PLiF7/4RfHv//7vxaJFi4qvfvWrRdeuXYu77757ox6DzsvcrHtuVvvLv/zLYujQoRu1Lp2fmVn3zDzzzDPFP/3TPxX/9m//Vjz00EPFySefXPTq1atYsmTJRj0Gnde2OjczZ84spk2bVixatKhYsmRJcccddxT77LNP8YlPfKJd3erjGDJkSHHqqacWCxYsKBYvXrxRj/F+dYbn5tOf/nSx7777Fr/+9a+L//iP/yiuv/76onv37sXVV1+93rWPPfbY4qCDDioeeuih4v777y8+/vGPF6ecckq7msWLFxcLFiwojj/++GLYsGGV42LbZm7WPTc/+clPiptuuql48skni2effba46aabir59+xannXbaRp9fOidzs+65mT59ejFjxoziqaeeKp566qni29/+dtG1a9di2rRpG31+6ZzMzfp/TyuKopgwYULRt2/f4p133tng+WTbJFwpIclav66//vpKzVtvvVX8zd/8TbHLLrsUPXv2LD772c8WL774Yrt1Pv3pT691ndX/OPTSSy8Vhx12WLH99tsXPXv2LI4++ujiwQcf3Kgeb7755mLPPfcsunXrVuy7777FzJkz16j50Y9+VPTo0aN49dVXN2rNCy64YK39DhgwoFLz3e9+t/jYxz5WdO/evejVq1cxbNiwYu7cuRu1Pp2buVn33BRFUbz66qtFjx49ih//+McbtS6dn5lZ98w8+eSTxeDBg4sePXoUtbW1xQknnFA8/fTTG7U+ndu2Ojdz584t6uvri5122qno3r178fGPf7z4+te/XrzyyisbPD//+++jD0pneG5efPHF4otf/GLRt2/fonv37sVee+1VXHrppUVbW9t61/3DH/5QnHLKKcUOO+xQ1NbWFmeccUbx2muvtasZMGDAWo+LbZu5Wffc3HjjjcXBBx9c7LDDDsX2229fDBo0qPiHf/iH4q233tqovum8zM2652b69OnFPvvsU/Ts2bOora0tDj300OKWW27ZqJ7p3MzN+n9PW7VqVdGvX7/im9/85kb1yrapS1EUxRpvZwEAAAAAAGCtfEA5AAAAAABACcIVAAAAAACAEoQrAAAAAAAAJQhXAAAAAAAAShCuAAAAAAAAlCBcAQAAAAAAKEG4AgAAAAAAUIJwBQAAAAAAoAThCgAAAAAAQAnCFQAAAAAAgBKEKwAAAAAAACX8/9ANJJTNfJ7eAAAAAElFTkSuQmCC\n"
          },
          "metadata": {}
        }
      ],
      "source": [
        "#delta = (data['date'].max() - data['date'].min()).days\n",
        "data['datetime'].hist(bins=(data['date'].max() - data['date'].min()).days, figsize=(20, 5));\n"
      ]
    },
    {
      "cell_type": "markdown",
      "metadata": {
        "id": "jn7AqaDA0puX"
      },
      "source": [
        "Судя по данным на гистограмме - основная масса событий началась с 30.07.2019. Посмотрим количество данных до этой даты."
      ]
    },
    {
      "cell_type": "code",
      "execution_count": 13,
      "metadata": {
        "colab": {
          "base_uri": "https://localhost:8080/"
        },
        "id": "iq-7lZLT0puX",
        "outputId": "3c54bd06-3abe-4cf7-d3e6-d626c0e771ef"
      },
      "outputs": [
        {
          "output_type": "stream",
          "name": "stdout",
          "text": [
            "384\n",
            "384\n",
            "796\n"
          ]
        }
      ],
      "source": [
        "print(data[data['date'] < '2019-07-30']['user_id'].count()) #смотрим количтсов данных до 30.07.19\n",
        "print(data[data['date'] <= '2019-07-30']['user_id'].count()) #включим дату 30.07.19\n",
        "print(data[data['date'] <= '2019-07-31']['user_id'].count()) # и 31.07.19"
      ]
    },
    {
      "cell_type": "markdown",
      "metadata": {
        "id": "QXeEIvWB0puX"
      },
      "source": [
        "Если откинуть данные до 31.07.19 включительно, то полуится потеря более 1% данных.\n",
        "Исключим данные с 25.07.19 по 30.07.19"
      ]
    },
    {
      "cell_type": "code",
      "execution_count": 14,
      "metadata": {
        "colab": {
          "base_uri": "https://localhost:8080/",
          "height": 465
        },
        "id": "WRFR696o0puX",
        "outputId": "dc32d561-982d-4c8a-d7f3-7935942a616a"
      },
      "outputs": [
        {
          "output_type": "display_data",
          "data": {
            "text/plain": [
              "<Figure size 2000x500 with 1 Axes>"
            ],
            "image/png": "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\n"
          },
          "metadata": {}
        }
      ],
      "source": [
        "good_data = data[data['date'] >= '2019-08-01'].reset_index(drop=True)\n",
        "good_data['datetime'].hist(bins=(good_data['date'].max() - good_data['date'].min()).days, figsize=(20, 5));"
      ]
    },
    {
      "cell_type": "markdown",
      "metadata": {
        "id": "0-E51LG40puX"
      },
      "source": [
        "Таким образом в дальнейшем будем оперировать данными с 01.08.19 по 07.08.19"
      ]
    },
    {
      "cell_type": "code",
      "execution_count": 15,
      "metadata": {
        "colab": {
          "base_uri": "https://localhost:8080/",
          "height": 455
        },
        "id": "RxWcJgiI0puX",
        "outputId": "c06309fe-b943-4f1c-cd61-b59bda137b8b"
      },
      "outputs": [
        {
          "output_type": "execute_result",
          "data": {
            "text/plain": [
              "                     event_name\n",
              "date                           \n",
              "2019-07-25 04:43:36           1\n",
              "2019-07-25 11:11:42           1\n",
              "2019-07-25 11:28:47           2\n",
              "2019-07-25 11:48:42           1\n",
              "2019-07-25 11:48:43           1\n",
              "...                         ...\n",
              "2019-08-07 21:12:25           1\n",
              "2019-08-07 21:13:59           1\n",
              "2019-08-07 21:14:43           1\n",
              "2019-08-07 21:14:58           1\n",
              "2019-08-07 21:15:17           1\n",
              "\n",
              "[176654 rows x 1 columns]"
            ],
            "text/html": [
              "\n",
              "  <div id=\"df-5b35a15e-84da-4800-814e-53326f6d7dd9\" class=\"colab-df-container\">\n",
              "    <div>\n",
              "<style scoped>\n",
              "    .dataframe tbody tr th:only-of-type {\n",
              "        vertical-align: middle;\n",
              "    }\n",
              "\n",
              "    .dataframe tbody tr th {\n",
              "        vertical-align: top;\n",
              "    }\n",
              "\n",
              "    .dataframe thead th {\n",
              "        text-align: right;\n",
              "    }\n",
              "</style>\n",
              "<table border=\"1\" class=\"dataframe\">\n",
              "  <thead>\n",
              "    <tr style=\"text-align: right;\">\n",
              "      <th></th>\n",
              "      <th>event_name</th>\n",
              "    </tr>\n",
              "    <tr>\n",
              "      <th>date</th>\n",
              "      <th></th>\n",
              "    </tr>\n",
              "  </thead>\n",
              "  <tbody>\n",
              "    <tr>\n",
              "      <th>2019-07-25 04:43:36</th>\n",
              "      <td>1</td>\n",
              "    </tr>\n",
              "    <tr>\n",
              "      <th>2019-07-25 11:11:42</th>\n",
              "      <td>1</td>\n",
              "    </tr>\n",
              "    <tr>\n",
              "      <th>2019-07-25 11:28:47</th>\n",
              "      <td>2</td>\n",
              "    </tr>\n",
              "    <tr>\n",
              "      <th>2019-07-25 11:48:42</th>\n",
              "      <td>1</td>\n",
              "    </tr>\n",
              "    <tr>\n",
              "      <th>2019-07-25 11:48:43</th>\n",
              "      <td>1</td>\n",
              "    </tr>\n",
              "    <tr>\n",
              "      <th>...</th>\n",
              "      <td>...</td>\n",
              "    </tr>\n",
              "    <tr>\n",
              "      <th>2019-08-07 21:12:25</th>\n",
              "      <td>1</td>\n",
              "    </tr>\n",
              "    <tr>\n",
              "      <th>2019-08-07 21:13:59</th>\n",
              "      <td>1</td>\n",
              "    </tr>\n",
              "    <tr>\n",
              "      <th>2019-08-07 21:14:43</th>\n",
              "      <td>1</td>\n",
              "    </tr>\n",
              "    <tr>\n",
              "      <th>2019-08-07 21:14:58</th>\n",
              "      <td>1</td>\n",
              "    </tr>\n",
              "    <tr>\n",
              "      <th>2019-08-07 21:15:17</th>\n",
              "      <td>1</td>\n",
              "    </tr>\n",
              "  </tbody>\n",
              "</table>\n",
              "<p>176654 rows × 1 columns</p>\n",
              "</div>\n",
              "    <div class=\"colab-df-buttons\">\n",
              "\n",
              "  <div class=\"colab-df-container\">\n",
              "    <button class=\"colab-df-convert\" onclick=\"convertToInteractive('df-5b35a15e-84da-4800-814e-53326f6d7dd9')\"\n",
              "            title=\"Convert this dataframe to an interactive table.\"\n",
              "            style=\"display:none;\">\n",
              "\n",
              "  <svg xmlns=\"http://www.w3.org/2000/svg\" height=\"24px\" viewBox=\"0 -960 960 960\">\n",
              "    <path d=\"M120-120v-720h720v720H120Zm60-500h600v-160H180v160Zm220 220h160v-160H400v160Zm0 220h160v-160H400v160ZM180-400h160v-160H180v160Zm440 0h160v-160H620v160ZM180-180h160v-160H180v160Zm440 0h160v-160H620v160Z\"/>\n",
              "  </svg>\n",
              "    </button>\n",
              "\n",
              "  <style>\n",
              "    .colab-df-container {\n",
              "      display:flex;\n",
              "      gap: 12px;\n",
              "    }\n",
              "\n",
              "    .colab-df-convert {\n",
              "      background-color: #E8F0FE;\n",
              "      border: none;\n",
              "      border-radius: 50%;\n",
              "      cursor: pointer;\n",
              "      display: none;\n",
              "      fill: #1967D2;\n",
              "      height: 32px;\n",
              "      padding: 0 0 0 0;\n",
              "      width: 32px;\n",
              "    }\n",
              "\n",
              "    .colab-df-convert:hover {\n",
              "      background-color: #E2EBFA;\n",
              "      box-shadow: 0px 1px 2px rgba(60, 64, 67, 0.3), 0px 1px 3px 1px rgba(60, 64, 67, 0.15);\n",
              "      fill: #174EA6;\n",
              "    }\n",
              "\n",
              "    .colab-df-buttons div {\n",
              "      margin-bottom: 4px;\n",
              "    }\n",
              "\n",
              "    [theme=dark] .colab-df-convert {\n",
              "      background-color: #3B4455;\n",
              "      fill: #D2E3FC;\n",
              "    }\n",
              "\n",
              "    [theme=dark] .colab-df-convert:hover {\n",
              "      background-color: #434B5C;\n",
              "      box-shadow: 0px 1px 3px 1px rgba(0, 0, 0, 0.15);\n",
              "      filter: drop-shadow(0px 1px 2px rgba(0, 0, 0, 0.3));\n",
              "      fill: #FFFFFF;\n",
              "    }\n",
              "  </style>\n",
              "\n",
              "    <script>\n",
              "      const buttonEl =\n",
              "        document.querySelector('#df-5b35a15e-84da-4800-814e-53326f6d7dd9 button.colab-df-convert');\n",
              "      buttonEl.style.display =\n",
              "        google.colab.kernel.accessAllowed ? 'block' : 'none';\n",
              "\n",
              "      async function convertToInteractive(key) {\n",
              "        const element = document.querySelector('#df-5b35a15e-84da-4800-814e-53326f6d7dd9');\n",
              "        const dataTable =\n",
              "          await google.colab.kernel.invokeFunction('convertToInteractive',\n",
              "                                                    [key], {});\n",
              "        if (!dataTable) return;\n",
              "\n",
              "        const docLinkHtml = 'Like what you see? Visit the ' +\n",
              "          '<a target=\"_blank\" href=https://colab.research.google.com/notebooks/data_table.ipynb>data table notebook</a>'\n",
              "          + ' to learn more about interactive tables.';\n",
              "        element.innerHTML = '';\n",
              "        dataTable['output_type'] = 'display_data';\n",
              "        await google.colab.output.renderOutput(dataTable, element);\n",
              "        const docLink = document.createElement('div');\n",
              "        docLink.innerHTML = docLinkHtml;\n",
              "        element.appendChild(docLink);\n",
              "      }\n",
              "    </script>\n",
              "  </div>\n",
              "\n",
              "\n",
              "<div id=\"df-ad8609c4-ebdb-4f1a-8da3-06db5a184892\">\n",
              "  <button class=\"colab-df-quickchart\" onclick=\"quickchart('df-ad8609c4-ebdb-4f1a-8da3-06db5a184892')\"\n",
              "            title=\"Suggest charts.\"\n",
              "            style=\"display:none;\">\n",
              "\n",
              "<svg xmlns=\"http://www.w3.org/2000/svg\" height=\"24px\"viewBox=\"0 0 24 24\"\n",
              "     width=\"24px\">\n",
              "    <g>\n",
              "        <path d=\"M19 3H5c-1.1 0-2 .9-2 2v14c0 1.1.9 2 2 2h14c1.1 0 2-.9 2-2V5c0-1.1-.9-2-2-2zM9 17H7v-7h2v7zm4 0h-2V7h2v10zm4 0h-2v-4h2v4z\"/>\n",
              "    </g>\n",
              "</svg>\n",
              "  </button>\n",
              "\n",
              "<style>\n",
              "  .colab-df-quickchart {\n",
              "    background-color: #E8F0FE;\n",
              "    border: none;\n",
              "    border-radius: 50%;\n",
              "    cursor: pointer;\n",
              "    display: none;\n",
              "    fill: #1967D2;\n",
              "    height: 32px;\n",
              "    padding: 0 0 0 0;\n",
              "    width: 32px;\n",
              "  }\n",
              "\n",
              "  .colab-df-quickchart:hover {\n",
              "    background-color: #E2EBFA;\n",
              "    box-shadow: 0px 1px 2px rgba(60, 64, 67, 0.3), 0px 1px 3px 1px rgba(60, 64, 67, 0.15);\n",
              "    fill: #174EA6;\n",
              "  }\n",
              "\n",
              "  [theme=dark] .colab-df-quickchart {\n",
              "    background-color: #3B4455;\n",
              "    fill: #D2E3FC;\n",
              "  }\n",
              "\n",
              "  [theme=dark] .colab-df-quickchart:hover {\n",
              "    background-color: #434B5C;\n",
              "    box-shadow: 0px 1px 3px 1px rgba(0, 0, 0, 0.15);\n",
              "    filter: drop-shadow(0px 1px 2px rgba(0, 0, 0, 0.3));\n",
              "    fill: #FFFFFF;\n",
              "  }\n",
              "</style>\n",
              "\n",
              "  <script>\n",
              "    async function quickchart(key) {\n",
              "      const charts = await google.colab.kernel.invokeFunction(\n",
              "          'suggestCharts', [key], {});\n",
              "    }\n",
              "    (() => {\n",
              "      let quickchartButtonEl =\n",
              "        document.querySelector('#df-ad8609c4-ebdb-4f1a-8da3-06db5a184892 button');\n",
              "      quickchartButtonEl.style.display =\n",
              "        google.colab.kernel.accessAllowed ? 'block' : 'none';\n",
              "    })();\n",
              "  </script>\n",
              "</div>\n",
              "    </div>\n",
              "  </div>\n"
            ]
          },
          "metadata": {},
          "execution_count": 15
        }
      ],
      "source": [
        "data.groupby('date').agg({'event_name':'count'})"
      ]
    },
    {
      "cell_type": "markdown",
      "metadata": {
        "id": "ye2DFv-c0puX"
      },
      "source": [
        "### Много ли событий и пользователей вы потеряли, отбросив старые данные?"
      ]
    },
    {
      "cell_type": "code",
      "execution_count": 16,
      "metadata": {
        "colab": {
          "base_uri": "https://localhost:8080/"
        },
        "id": "RfQIQCFX0puX",
        "outputId": "795f5a81-1fc1-49d7-e858-e606b6553abf"
      },
      "outputs": [
        {
          "output_type": "stream",
          "name": "stdout",
          "text": [
            "\n",
            " Количество утерянны событий: 2826 или 1.16 %\n",
            "Утерянных уникальных пользователей -  17 или 0.23 %\n"
          ]
        }
      ],
      "source": [
        "print('\\n Количество утерянны событий:', data['event_name'].value_counts().sum() - \\\n",
        "        good_data['event_name'].value_counts().sum(), 'или', \\\n",
        "        round((data['event_name'].value_counts().sum() - good_data['event_name'].value_counts().sum()) \\\n",
        "        / data['event_name'].value_counts().sum() * 100, 2), '%')\n",
        "print('Утерянных уникальных пользователей - ', (data['user_id'].nunique() - good_data['user_id'].nunique()),\\\n",
        "     'или', round((data['user_id'].nunique() - good_data['user_id'].nunique()) / data['user_id'].nunique() * 100, 2), '%')"
      ]
    },
    {
      "cell_type": "markdown",
      "metadata": {
        "id": "fSGG65s50puX"
      },
      "source": [
        "Отбросив старые данные - мы потеряли 796 событий и 9 уникальных пользователей"
      ]
    },
    {
      "cell_type": "markdown",
      "metadata": {
        "id": "enixaGMl0puY"
      },
      "source": [
        "### Проверьте, что у вас есть пользователи из всех трёх экспериментальных групп."
      ]
    },
    {
      "cell_type": "code",
      "execution_count": 17,
      "metadata": {
        "colab": {
          "base_uri": "https://localhost:8080/"
        },
        "id": "pcNKow500puY",
        "outputId": "cf7f07b4-f389-49de-cec6-7df4c4070890"
      },
      "outputs": [
        {
          "output_type": "stream",
          "name": "stdout",
          "text": [
            "       event_name  user_id  event_time_ts  datetime   date\n",
            "group                                                     \n",
            "246         79302    79302          79302     79302  79302\n",
            "247         77022    77022          77022     77022  77022\n",
            "248         84563    84563          84563     84563  84563\n",
            "\n",
            "Количество уникальных пользователей в группе 246 -  2484\n",
            "Количество уникальных пользователей в группе 247 -  2513\n",
            "Количество уникальных пользователей в группе 247 -  2537\n",
            "\n",
            " Соотношение количества пользователей в группе 246 к группе 247, %: 98.85\n",
            "\n",
            " Соотношение количества пользователей в группе 246 к группе 248, %: 97.91\n"
          ]
        }
      ],
      "source": [
        "print(good_data.groupby('group').count())\n",
        "print()\n",
        "print('Количество уникальных пользователей в группе 246 - ', good_data.query('group == 246')['user_id'].nunique())\n",
        "print('Количество уникальных пользователей в группе 247 - ', good_data.query('group == 247')['user_id'].nunique())\n",
        "print('Количество уникальных пользователей в группе 247 - ', good_data.query('group == 248')['user_id'].nunique())\n",
        "print('\\n Соотношение количества пользователей в группе 246 к группе 247, %:', \\\n",
        "   round(good_data.query('group == 246')['user_id'].nunique()/good_data.query('group == 247')['user_id'].nunique()*100, 2))\n",
        "print('\\n Соотношение количества пользователей в группе 246 к группе 248, %:', \\\n",
        "   round(good_data.query('group == 246')['user_id'].nunique()/good_data.query('group == 248')['user_id'].nunique()*100, 2))"
      ]
    },
    {
      "cell_type": "markdown",
      "metadata": {
        "id": "dAIjiyst0puY"
      },
      "source": [
        "На всякий случай проверим, не привело ли удаление данных к изменению соотношения по группам."
      ]
    },
    {
      "cell_type": "code",
      "execution_count": 18,
      "metadata": {
        "colab": {
          "base_uri": "https://localhost:8080/"
        },
        "id": "lUkUdbiE0puY",
        "outputId": "eb7e5d10-cda4-474e-99d5-436b557af84f"
      },
      "outputs": [
        {
          "output_type": "stream",
          "name": "stdout",
          "text": [
            "Количество уникальных пользователей в группе 246 -  2489\n",
            "Количество уникальных пользователей в группе 247 -  2520\n",
            "Количество уникальных пользователей в группе 248 -  2542\n",
            "\n",
            " Соотношение количества пользователей в группе 246 к группе 247, %: 98.77\n",
            "\n",
            " Соотношение количества пользователей в группе 246 к группе 248, %: 97.92\n"
          ]
        }
      ],
      "source": [
        "print('Количество уникальных пользователей в группе 246 - ', data.query('group == 246')['user_id'].nunique())\n",
        "print('Количество уникальных пользователей в группе 247 - ', data.query('group == 247')['user_id'].nunique())\n",
        "print('Количество уникальных пользователей в группе 248 - ', data.query('group == 248')['user_id'].nunique())\n",
        "print('\\n Соотношение количества пользователей в группе 246 к группе 247, %:', \\\n",
        "   round(data.query('group == 246')['user_id'].nunique()/data.query('group == 247')['user_id'].nunique()*100, 2))\n",
        "print('\\n Соотношение количества пользователей в группе 246 к группе 248, %:', \\\n",
        "   round(data.query('group == 246')['user_id'].nunique()/data.query('group == 248')['user_id'].nunique()*100, 2))"
      ]
    },
    {
      "cell_type": "code",
      "execution_count": 19,
      "metadata": {
        "colab": {
          "base_uri": "https://localhost:8080/",
          "height": 175
        },
        "id": "oCWADqX90puY",
        "outputId": "d5219170-989e-4a80-b811-015ec535d98f"
      },
      "outputs": [
        {
          "output_type": "execute_result",
          "data": {
            "text/plain": [
              "       user_id\n",
              "group         \n",
              "246       2484\n",
              "247       2513\n",
              "248       2537"
            ],
            "text/html": [
              "\n",
              "  <div id=\"df-3cf1661e-68e8-496f-a3dc-9a9423e7f2a3\" class=\"colab-df-container\">\n",
              "    <div>\n",
              "<style scoped>\n",
              "    .dataframe tbody tr th:only-of-type {\n",
              "        vertical-align: middle;\n",
              "    }\n",
              "\n",
              "    .dataframe tbody tr th {\n",
              "        vertical-align: top;\n",
              "    }\n",
              "\n",
              "    .dataframe thead th {\n",
              "        text-align: right;\n",
              "    }\n",
              "</style>\n",
              "<table border=\"1\" class=\"dataframe\">\n",
              "  <thead>\n",
              "    <tr style=\"text-align: right;\">\n",
              "      <th></th>\n",
              "      <th>user_id</th>\n",
              "    </tr>\n",
              "    <tr>\n",
              "      <th>group</th>\n",
              "      <th></th>\n",
              "    </tr>\n",
              "  </thead>\n",
              "  <tbody>\n",
              "    <tr>\n",
              "      <th>246</th>\n",
              "      <td>2484</td>\n",
              "    </tr>\n",
              "    <tr>\n",
              "      <th>247</th>\n",
              "      <td>2513</td>\n",
              "    </tr>\n",
              "    <tr>\n",
              "      <th>248</th>\n",
              "      <td>2537</td>\n",
              "    </tr>\n",
              "  </tbody>\n",
              "</table>\n",
              "</div>\n",
              "    <div class=\"colab-df-buttons\">\n",
              "\n",
              "  <div class=\"colab-df-container\">\n",
              "    <button class=\"colab-df-convert\" onclick=\"convertToInteractive('df-3cf1661e-68e8-496f-a3dc-9a9423e7f2a3')\"\n",
              "            title=\"Convert this dataframe to an interactive table.\"\n",
              "            style=\"display:none;\">\n",
              "\n",
              "  <svg xmlns=\"http://www.w3.org/2000/svg\" height=\"24px\" viewBox=\"0 -960 960 960\">\n",
              "    <path d=\"M120-120v-720h720v720H120Zm60-500h600v-160H180v160Zm220 220h160v-160H400v160Zm0 220h160v-160H400v160ZM180-400h160v-160H180v160Zm440 0h160v-160H620v160ZM180-180h160v-160H180v160Zm440 0h160v-160H620v160Z\"/>\n",
              "  </svg>\n",
              "    </button>\n",
              "\n",
              "  <style>\n",
              "    .colab-df-container {\n",
              "      display:flex;\n",
              "      gap: 12px;\n",
              "    }\n",
              "\n",
              "    .colab-df-convert {\n",
              "      background-color: #E8F0FE;\n",
              "      border: none;\n",
              "      border-radius: 50%;\n",
              "      cursor: pointer;\n",
              "      display: none;\n",
              "      fill: #1967D2;\n",
              "      height: 32px;\n",
              "      padding: 0 0 0 0;\n",
              "      width: 32px;\n",
              "    }\n",
              "\n",
              "    .colab-df-convert:hover {\n",
              "      background-color: #E2EBFA;\n",
              "      box-shadow: 0px 1px 2px rgba(60, 64, 67, 0.3), 0px 1px 3px 1px rgba(60, 64, 67, 0.15);\n",
              "      fill: #174EA6;\n",
              "    }\n",
              "\n",
              "    .colab-df-buttons div {\n",
              "      margin-bottom: 4px;\n",
              "    }\n",
              "\n",
              "    [theme=dark] .colab-df-convert {\n",
              "      background-color: #3B4455;\n",
              "      fill: #D2E3FC;\n",
              "    }\n",
              "\n",
              "    [theme=dark] .colab-df-convert:hover {\n",
              "      background-color: #434B5C;\n",
              "      box-shadow: 0px 1px 3px 1px rgba(0, 0, 0, 0.15);\n",
              "      filter: drop-shadow(0px 1px 2px rgba(0, 0, 0, 0.3));\n",
              "      fill: #FFFFFF;\n",
              "    }\n",
              "  </style>\n",
              "\n",
              "    <script>\n",
              "      const buttonEl =\n",
              "        document.querySelector('#df-3cf1661e-68e8-496f-a3dc-9a9423e7f2a3 button.colab-df-convert');\n",
              "      buttonEl.style.display =\n",
              "        google.colab.kernel.accessAllowed ? 'block' : 'none';\n",
              "\n",
              "      async function convertToInteractive(key) {\n",
              "        const element = document.querySelector('#df-3cf1661e-68e8-496f-a3dc-9a9423e7f2a3');\n",
              "        const dataTable =\n",
              "          await google.colab.kernel.invokeFunction('convertToInteractive',\n",
              "                                                    [key], {});\n",
              "        if (!dataTable) return;\n",
              "\n",
              "        const docLinkHtml = 'Like what you see? Visit the ' +\n",
              "          '<a target=\"_blank\" href=https://colab.research.google.com/notebooks/data_table.ipynb>data table notebook</a>'\n",
              "          + ' to learn more about interactive tables.';\n",
              "        element.innerHTML = '';\n",
              "        dataTable['output_type'] = 'display_data';\n",
              "        await google.colab.output.renderOutput(dataTable, element);\n",
              "        const docLink = document.createElement('div');\n",
              "        docLink.innerHTML = docLinkHtml;\n",
              "        element.appendChild(docLink);\n",
              "      }\n",
              "    </script>\n",
              "  </div>\n",
              "\n",
              "    </div>\n",
              "  </div>\n"
            ]
          },
          "metadata": {},
          "execution_count": 19
        }
      ],
      "source": [
        "good_data.groupby('group').agg({'user_id':'nunique'})"
      ]
    },
    {
      "cell_type": "markdown",
      "metadata": {
        "id": "fyDgFWqM0puY"
      },
      "source": [
        "В подборке имеются пользователи из всех трех групп. Хоть мы и отбросили часть старых данных, нам удалось сохранить соотношение по группам."
      ]
    },
    {
      "cell_type": "markdown",
      "metadata": {
        "id": "f-z6n0hM0puY"
      },
      "source": [
        "## Шаг 4. Изучите воронку событий"
      ]
    },
    {
      "cell_type": "markdown",
      "metadata": {
        "id": "DtPG45v_0puY"
      },
      "source": [
        "* Посмотрите, какие события есть в логах, как часто они встречаются. Отсортируйте события по частоте.\n",
        "* Посчитайте, сколько пользователей совершали каждое из этих событий. Отсортируйте события по числу пользователей. Посчитайте долю пользователей, которые хоть раз совершали событие.\n",
        "* Предположите, в каком порядке происходят события. Все ли они выстраиваются в последовательную цепочку? Их не нужно учитывать при расчёте воронки.\n",
        "* По воронке событий посчитайте, какая доля пользователей проходит на следующий шаг воронки (от числа пользователей на предыдущем). То есть для последовательности событий A → B → C посчитайте отношение числа пользователей с событием B к количеству пользователей с событием A, а также отношение числа пользователей с событием C к количеству пользователей с событием B.\n",
        "* На каком шаге теряете больше всего пользователей?\n",
        "* Какая доля пользователей доходит от первого события до оплаты?"
      ]
    },
    {
      "cell_type": "markdown",
      "metadata": {
        "id": "bTLvSuBo0puY"
      },
      "source": [
        "### Посмотрите, какие события есть в логах, как часто они встречаются. Отсортируйте события по частоте."
      ]
    },
    {
      "cell_type": "code",
      "execution_count": 20,
      "metadata": {
        "colab": {
          "base_uri": "https://localhost:8080/"
        },
        "id": "DY3DWu9t0puY",
        "outputId": "85d42bf0-81c6-48e3-a0e6-441c8220ab56"
      },
      "outputs": [
        {
          "output_type": "execute_result",
          "data": {
            "text/plain": [
              "MainScreenAppear           117328\n",
              "OffersScreenAppear          46333\n",
              "CartScreenAppear            42303\n",
              "PaymentScreenSuccessful     33918\n",
              "Tutorial                     1005\n",
              "Name: event_name, dtype: int64"
            ]
          },
          "metadata": {},
          "execution_count": 20
        }
      ],
      "source": [
        "good_data['event_name'].value_counts(sort=True)"
      ]
    },
    {
      "cell_type": "markdown",
      "metadata": {
        "id": "LahR4w9E0puZ"
      },
      "source": [
        "### Посчитайте, сколько пользователей совершали каждое из этих событий. Отсортируйте события по числу пользователей. Посчитайте долю пользователей, которые хоть раз совершали событие."
      ]
    },
    {
      "cell_type": "code",
      "execution_count": 21,
      "metadata": {
        "scrolled": true,
        "colab": {
          "base_uri": "https://localhost:8080/",
          "height": 238
        },
        "id": "sFUEYlZI0puZ",
        "outputId": "463ddf2a-33b4-434a-f4c0-d1db9955359e"
      },
      "outputs": [
        {
          "output_type": "execute_result",
          "data": {
            "text/plain": [
              "                         user_count  unique_users  ratio_%\n",
              "event_name                                                \n",
              "MainScreenAppear               7419          7534    98.47\n",
              "OffersScreenAppear             4593          7534    60.96\n",
              "CartScreenAppear               3734          7534    49.56\n",
              "PaymentScreenSuccessful        3539          7534    46.97\n",
              "Tutorial                        840          7534    11.15"
            ],
            "text/html": [
              "\n",
              "  <div id=\"df-b9c728a2-a60b-4ab3-823a-067d0d2c0a10\" class=\"colab-df-container\">\n",
              "    <div>\n",
              "<style scoped>\n",
              "    .dataframe tbody tr th:only-of-type {\n",
              "        vertical-align: middle;\n",
              "    }\n",
              "\n",
              "    .dataframe tbody tr th {\n",
              "        vertical-align: top;\n",
              "    }\n",
              "\n",
              "    .dataframe thead th {\n",
              "        text-align: right;\n",
              "    }\n",
              "</style>\n",
              "<table border=\"1\" class=\"dataframe\">\n",
              "  <thead>\n",
              "    <tr style=\"text-align: right;\">\n",
              "      <th></th>\n",
              "      <th>user_count</th>\n",
              "      <th>unique_users</th>\n",
              "      <th>ratio_%</th>\n",
              "    </tr>\n",
              "    <tr>\n",
              "      <th>event_name</th>\n",
              "      <th></th>\n",
              "      <th></th>\n",
              "      <th></th>\n",
              "    </tr>\n",
              "  </thead>\n",
              "  <tbody>\n",
              "    <tr>\n",
              "      <th>MainScreenAppear</th>\n",
              "      <td>7419</td>\n",
              "      <td>7534</td>\n",
              "      <td>98.47</td>\n",
              "    </tr>\n",
              "    <tr>\n",
              "      <th>OffersScreenAppear</th>\n",
              "      <td>4593</td>\n",
              "      <td>7534</td>\n",
              "      <td>60.96</td>\n",
              "    </tr>\n",
              "    <tr>\n",
              "      <th>CartScreenAppear</th>\n",
              "      <td>3734</td>\n",
              "      <td>7534</td>\n",
              "      <td>49.56</td>\n",
              "    </tr>\n",
              "    <tr>\n",
              "      <th>PaymentScreenSuccessful</th>\n",
              "      <td>3539</td>\n",
              "      <td>7534</td>\n",
              "      <td>46.97</td>\n",
              "    </tr>\n",
              "    <tr>\n",
              "      <th>Tutorial</th>\n",
              "      <td>840</td>\n",
              "      <td>7534</td>\n",
              "      <td>11.15</td>\n",
              "    </tr>\n",
              "  </tbody>\n",
              "</table>\n",
              "</div>\n",
              "    <div class=\"colab-df-buttons\">\n",
              "\n",
              "  <div class=\"colab-df-container\">\n",
              "    <button class=\"colab-df-convert\" onclick=\"convertToInteractive('df-b9c728a2-a60b-4ab3-823a-067d0d2c0a10')\"\n",
              "            title=\"Convert this dataframe to an interactive table.\"\n",
              "            style=\"display:none;\">\n",
              "\n",
              "  <svg xmlns=\"http://www.w3.org/2000/svg\" height=\"24px\" viewBox=\"0 -960 960 960\">\n",
              "    <path d=\"M120-120v-720h720v720H120Zm60-500h600v-160H180v160Zm220 220h160v-160H400v160Zm0 220h160v-160H400v160ZM180-400h160v-160H180v160Zm440 0h160v-160H620v160ZM180-180h160v-160H180v160Zm440 0h160v-160H620v160Z\"/>\n",
              "  </svg>\n",
              "    </button>\n",
              "\n",
              "  <style>\n",
              "    .colab-df-container {\n",
              "      display:flex;\n",
              "      gap: 12px;\n",
              "    }\n",
              "\n",
              "    .colab-df-convert {\n",
              "      background-color: #E8F0FE;\n",
              "      border: none;\n",
              "      border-radius: 50%;\n",
              "      cursor: pointer;\n",
              "      display: none;\n",
              "      fill: #1967D2;\n",
              "      height: 32px;\n",
              "      padding: 0 0 0 0;\n",
              "      width: 32px;\n",
              "    }\n",
              "\n",
              "    .colab-df-convert:hover {\n",
              "      background-color: #E2EBFA;\n",
              "      box-shadow: 0px 1px 2px rgba(60, 64, 67, 0.3), 0px 1px 3px 1px rgba(60, 64, 67, 0.15);\n",
              "      fill: #174EA6;\n",
              "    }\n",
              "\n",
              "    .colab-df-buttons div {\n",
              "      margin-bottom: 4px;\n",
              "    }\n",
              "\n",
              "    [theme=dark] .colab-df-convert {\n",
              "      background-color: #3B4455;\n",
              "      fill: #D2E3FC;\n",
              "    }\n",
              "\n",
              "    [theme=dark] .colab-df-convert:hover {\n",
              "      background-color: #434B5C;\n",
              "      box-shadow: 0px 1px 3px 1px rgba(0, 0, 0, 0.15);\n",
              "      filter: drop-shadow(0px 1px 2px rgba(0, 0, 0, 0.3));\n",
              "      fill: #FFFFFF;\n",
              "    }\n",
              "  </style>\n",
              "\n",
              "    <script>\n",
              "      const buttonEl =\n",
              "        document.querySelector('#df-b9c728a2-a60b-4ab3-823a-067d0d2c0a10 button.colab-df-convert');\n",
              "      buttonEl.style.display =\n",
              "        google.colab.kernel.accessAllowed ? 'block' : 'none';\n",
              "\n",
              "      async function convertToInteractive(key) {\n",
              "        const element = document.querySelector('#df-b9c728a2-a60b-4ab3-823a-067d0d2c0a10');\n",
              "        const dataTable =\n",
              "          await google.colab.kernel.invokeFunction('convertToInteractive',\n",
              "                                                    [key], {});\n",
              "        if (!dataTable) return;\n",
              "\n",
              "        const docLinkHtml = 'Like what you see? Visit the ' +\n",
              "          '<a target=\"_blank\" href=https://colab.research.google.com/notebooks/data_table.ipynb>data table notebook</a>'\n",
              "          + ' to learn more about interactive tables.';\n",
              "        element.innerHTML = '';\n",
              "        dataTable['output_type'] = 'display_data';\n",
              "        await google.colab.output.renderOutput(dataTable, element);\n",
              "        const docLink = document.createElement('div');\n",
              "        docLink.innerHTML = docLinkHtml;\n",
              "        element.appendChild(docLink);\n",
              "      }\n",
              "    </script>\n",
              "  </div>\n",
              "\n",
              "\n",
              "<div id=\"df-1bf93b14-7baa-4661-8cac-f6393e580b9d\">\n",
              "  <button class=\"colab-df-quickchart\" onclick=\"quickchart('df-1bf93b14-7baa-4661-8cac-f6393e580b9d')\"\n",
              "            title=\"Suggest charts.\"\n",
              "            style=\"display:none;\">\n",
              "\n",
              "<svg xmlns=\"http://www.w3.org/2000/svg\" height=\"24px\"viewBox=\"0 0 24 24\"\n",
              "     width=\"24px\">\n",
              "    <g>\n",
              "        <path d=\"M19 3H5c-1.1 0-2 .9-2 2v14c0 1.1.9 2 2 2h14c1.1 0 2-.9 2-2V5c0-1.1-.9-2-2-2zM9 17H7v-7h2v7zm4 0h-2V7h2v10zm4 0h-2v-4h2v4z\"/>\n",
              "    </g>\n",
              "</svg>\n",
              "  </button>\n",
              "\n",
              "<style>\n",
              "  .colab-df-quickchart {\n",
              "    background-color: #E8F0FE;\n",
              "    border: none;\n",
              "    border-radius: 50%;\n",
              "    cursor: pointer;\n",
              "    display: none;\n",
              "    fill: #1967D2;\n",
              "    height: 32px;\n",
              "    padding: 0 0 0 0;\n",
              "    width: 32px;\n",
              "  }\n",
              "\n",
              "  .colab-df-quickchart:hover {\n",
              "    background-color: #E2EBFA;\n",
              "    box-shadow: 0px 1px 2px rgba(60, 64, 67, 0.3), 0px 1px 3px 1px rgba(60, 64, 67, 0.15);\n",
              "    fill: #174EA6;\n",
              "  }\n",
              "\n",
              "  [theme=dark] .colab-df-quickchart {\n",
              "    background-color: #3B4455;\n",
              "    fill: #D2E3FC;\n",
              "  }\n",
              "\n",
              "  [theme=dark] .colab-df-quickchart:hover {\n",
              "    background-color: #434B5C;\n",
              "    box-shadow: 0px 1px 3px 1px rgba(0, 0, 0, 0.15);\n",
              "    filter: drop-shadow(0px 1px 2px rgba(0, 0, 0, 0.3));\n",
              "    fill: #FFFFFF;\n",
              "  }\n",
              "</style>\n",
              "\n",
              "  <script>\n",
              "    async function quickchart(key) {\n",
              "      const charts = await google.colab.kernel.invokeFunction(\n",
              "          'suggestCharts', [key], {});\n",
              "    }\n",
              "    (() => {\n",
              "      let quickchartButtonEl =\n",
              "        document.querySelector('#df-1bf93b14-7baa-4661-8cac-f6393e580b9d button');\n",
              "      quickchartButtonEl.style.display =\n",
              "        google.colab.kernel.accessAllowed ? 'block' : 'none';\n",
              "    })();\n",
              "  </script>\n",
              "</div>\n",
              "    </div>\n",
              "  </div>\n"
            ]
          },
          "metadata": {},
          "execution_count": 21
        }
      ],
      "source": [
        "users_data = good_data.groupby('event_name') \\\n",
        "        .agg({'user_id':'nunique'}) \\\n",
        "        .rename(columns={'user_id': 'user_count'}) \\\n",
        "        .sort_values(by='user_count', ascending=False)\n",
        "#создадим поле с общим количеством уникальных пользователей\n",
        "users_data['unique_users'] = good_data['user_id'].nunique()\n",
        "users_data['ratio_%'] = round(users_data['user_count'] / users_data['unique_users'] * 100, 2)\n",
        "users_data"
      ]
    },
    {
      "cell_type": "markdown",
      "metadata": {
        "id": "mtxHT1W60puZ"
      },
      "source": [
        "### Предположите, в каком порядке происходят события. Все ли они выстраиваются в последовательную цепочку? Их не нужно учитывать при расчёте воронки."
      ]
    },
    {
      "cell_type": "markdown",
      "metadata": {
        "id": "_bVCOMkc0puZ"
      },
      "source": [
        "Смотря на полученную таблицу users_data можно построить путь пользователя  следующим образом - \"MainScreenAppear\" -> \"OffersScreenAppear\" -> \"CartScreenAppear\" -> \"PaymentScreenSuccessful\".\n",
        "Событие \"Tutorial\" являтся обучением пользования программы и не является обязательным для пользователя. Его можно не учитывать."
      ]
    },
    {
      "cell_type": "markdown",
      "metadata": {
        "id": "oOZXQlgt0puZ"
      },
      "source": [
        "### По воронке событий посчитайте, какая доля пользователей проходит на следующий шаг воронки (от числа пользователей на предыдущем). То есть для последовательности событий A → B → C посчитайте отношение числа пользователей с событием B к количеству пользователей с событием A, а также отношение числа пользователей с событием C к количеству пользователей с событием B."
      ]
    },
    {
      "cell_type": "markdown",
      "metadata": {
        "id": "KiA4IEwx0puZ"
      },
      "source": [
        "В воронке событий оставим только 4 действия - \"MainScreenAppear\" -> \"OffersScreenAppear\" -> \"CartScreenAppear\" -> \"PaymentScreenSuccessful\". \"Tutorial\" уберем."
      ]
    },
    {
      "cell_type": "code",
      "execution_count": 22,
      "metadata": {
        "colab": {
          "base_uri": "https://localhost:8080/",
          "height": 175
        },
        "id": "uW8tmqCD0puZ",
        "outputId": "54c2186b-d39b-44fc-f601-ca5ed756f055"
      },
      "outputs": [
        {
          "output_type": "execute_result",
          "data": {
            "text/plain": [
              "                event_name  user_count  unique_users  ratio_%  %_of_prev_step\n",
              "0         MainScreenAppear        7419          7530    98.53             NaN\n",
              "1       OffersScreenAppear        4593          7530    61.00           61.91\n",
              "2         CartScreenAppear        3734          7530    49.59           81.30\n",
              "3  PaymentScreenSuccessful        3539          7530    47.00           94.78"
            ],
            "text/html": [
              "\n",
              "  <div id=\"df-43005229-97b3-49cb-8473-98206350581f\" class=\"colab-df-container\">\n",
              "    <div>\n",
              "<style scoped>\n",
              "    .dataframe tbody tr th:only-of-type {\n",
              "        vertical-align: middle;\n",
              "    }\n",
              "\n",
              "    .dataframe tbody tr th {\n",
              "        vertical-align: top;\n",
              "    }\n",
              "\n",
              "    .dataframe thead th {\n",
              "        text-align: right;\n",
              "    }\n",
              "</style>\n",
              "<table border=\"1\" class=\"dataframe\">\n",
              "  <thead>\n",
              "    <tr style=\"text-align: right;\">\n",
              "      <th></th>\n",
              "      <th>event_name</th>\n",
              "      <th>user_count</th>\n",
              "      <th>unique_users</th>\n",
              "      <th>ratio_%</th>\n",
              "      <th>%_of_prev_step</th>\n",
              "    </tr>\n",
              "  </thead>\n",
              "  <tbody>\n",
              "    <tr>\n",
              "      <th>0</th>\n",
              "      <td>MainScreenAppear</td>\n",
              "      <td>7419</td>\n",
              "      <td>7530</td>\n",
              "      <td>98.53</td>\n",
              "      <td>NaN</td>\n",
              "    </tr>\n",
              "    <tr>\n",
              "      <th>1</th>\n",
              "      <td>OffersScreenAppear</td>\n",
              "      <td>4593</td>\n",
              "      <td>7530</td>\n",
              "      <td>61.00</td>\n",
              "      <td>61.91</td>\n",
              "    </tr>\n",
              "    <tr>\n",
              "      <th>2</th>\n",
              "      <td>CartScreenAppear</td>\n",
              "      <td>3734</td>\n",
              "      <td>7530</td>\n",
              "      <td>49.59</td>\n",
              "      <td>81.30</td>\n",
              "    </tr>\n",
              "    <tr>\n",
              "      <th>3</th>\n",
              "      <td>PaymentScreenSuccessful</td>\n",
              "      <td>3539</td>\n",
              "      <td>7530</td>\n",
              "      <td>47.00</td>\n",
              "      <td>94.78</td>\n",
              "    </tr>\n",
              "  </tbody>\n",
              "</table>\n",
              "</div>\n",
              "    <div class=\"colab-df-buttons\">\n",
              "\n",
              "  <div class=\"colab-df-container\">\n",
              "    <button class=\"colab-df-convert\" onclick=\"convertToInteractive('df-43005229-97b3-49cb-8473-98206350581f')\"\n",
              "            title=\"Convert this dataframe to an interactive table.\"\n",
              "            style=\"display:none;\">\n",
              "\n",
              "  <svg xmlns=\"http://www.w3.org/2000/svg\" height=\"24px\" viewBox=\"0 -960 960 960\">\n",
              "    <path d=\"M120-120v-720h720v720H120Zm60-500h600v-160H180v160Zm220 220h160v-160H400v160Zm0 220h160v-160H400v160ZM180-400h160v-160H180v160Zm440 0h160v-160H620v160ZM180-180h160v-160H180v160Zm440 0h160v-160H620v160Z\"/>\n",
              "  </svg>\n",
              "    </button>\n",
              "\n",
              "  <style>\n",
              "    .colab-df-container {\n",
              "      display:flex;\n",
              "      gap: 12px;\n",
              "    }\n",
              "\n",
              "    .colab-df-convert {\n",
              "      background-color: #E8F0FE;\n",
              "      border: none;\n",
              "      border-radius: 50%;\n",
              "      cursor: pointer;\n",
              "      display: none;\n",
              "      fill: #1967D2;\n",
              "      height: 32px;\n",
              "      padding: 0 0 0 0;\n",
              "      width: 32px;\n",
              "    }\n",
              "\n",
              "    .colab-df-convert:hover {\n",
              "      background-color: #E2EBFA;\n",
              "      box-shadow: 0px 1px 2px rgba(60, 64, 67, 0.3), 0px 1px 3px 1px rgba(60, 64, 67, 0.15);\n",
              "      fill: #174EA6;\n",
              "    }\n",
              "\n",
              "    .colab-df-buttons div {\n",
              "      margin-bottom: 4px;\n",
              "    }\n",
              "\n",
              "    [theme=dark] .colab-df-convert {\n",
              "      background-color: #3B4455;\n",
              "      fill: #D2E3FC;\n",
              "    }\n",
              "\n",
              "    [theme=dark] .colab-df-convert:hover {\n",
              "      background-color: #434B5C;\n",
              "      box-shadow: 0px 1px 3px 1px rgba(0, 0, 0, 0.15);\n",
              "      filter: drop-shadow(0px 1px 2px rgba(0, 0, 0, 0.3));\n",
              "      fill: #FFFFFF;\n",
              "    }\n",
              "  </style>\n",
              "\n",
              "    <script>\n",
              "      const buttonEl =\n",
              "        document.querySelector('#df-43005229-97b3-49cb-8473-98206350581f button.colab-df-convert');\n",
              "      buttonEl.style.display =\n",
              "        google.colab.kernel.accessAllowed ? 'block' : 'none';\n",
              "\n",
              "      async function convertToInteractive(key) {\n",
              "        const element = document.querySelector('#df-43005229-97b3-49cb-8473-98206350581f');\n",
              "        const dataTable =\n",
              "          await google.colab.kernel.invokeFunction('convertToInteractive',\n",
              "                                                    [key], {});\n",
              "        if (!dataTable) return;\n",
              "\n",
              "        const docLinkHtml = 'Like what you see? Visit the ' +\n",
              "          '<a target=\"_blank\" href=https://colab.research.google.com/notebooks/data_table.ipynb>data table notebook</a>'\n",
              "          + ' to learn more about interactive tables.';\n",
              "        element.innerHTML = '';\n",
              "        dataTable['output_type'] = 'display_data';\n",
              "        await google.colab.output.renderOutput(dataTable, element);\n",
              "        const docLink = document.createElement('div');\n",
              "        docLink.innerHTML = docLinkHtml;\n",
              "        element.appendChild(docLink);\n",
              "      }\n",
              "    </script>\n",
              "  </div>\n",
              "\n",
              "    </div>\n",
              "  </div>\n"
            ]
          },
          "metadata": {},
          "execution_count": 22
        }
      ],
      "source": [
        "good_data = good_data[good_data['event_name'] != 'Tutorial']\n",
        "users_data = good_data.groupby('event_name') \\\n",
        "        .agg({'user_id':'nunique'}) \\\n",
        "        .rename(columns={'user_id': 'user_count'}) \\\n",
        "        .sort_values(by='user_count', ascending=False) \\\n",
        "        .reset_index()\n",
        "#создадим поле с общим количеством уникальных пользователей\n",
        "users_data['unique_users'] = good_data['user_id'].nunique()\n",
        "users_data['ratio_%'] = round(users_data['user_count'] / users_data['unique_users'] * 100, 2)\n",
        "users_data['%_of_prev_step'] =  round(users_data['user_count'] / users_data['user_count'].shift(1) * 100, 2)\n",
        "users_data"
      ]
    },
    {
      "cell_type": "markdown",
      "metadata": {
        "id": "ovfjW6UG0puZ"
      },
      "source": [
        "Отношения в воронке получаются следующие: 62% - 81% - 94%"
      ]
    },
    {
      "cell_type": "markdown",
      "metadata": {
        "id": "vJNYNFV_0puZ"
      },
      "source": [
        "### На каком шаге теряете больше всего пользователей?"
      ]
    },
    {
      "cell_type": "markdown",
      "metadata": {
        "id": "BA3WKkDq0puZ"
      },
      "source": [
        "Самый маленький переход - с главного экрана на экран с предложением. После этого конверсия имеет более приятные показатели"
      ]
    },
    {
      "cell_type": "markdown",
      "metadata": {
        "id": "SudeBD5k0puZ"
      },
      "source": [
        "### Какая доля пользователей доходит от первого события до оплаты?"
      ]
    },
    {
      "cell_type": "code",
      "execution_count": 23,
      "metadata": {
        "scrolled": true,
        "colab": {
          "base_uri": "https://localhost:8080/"
        },
        "id": "repWfryh0puZ",
        "outputId": "908d06db-f906-4488-9b7c-368b657f72a9"
      },
      "outputs": [
        {
          "output_type": "stream",
          "name": "stdout",
          "text": [
            "0     NaN\n",
            "1     NaN\n",
            "2     NaN\n",
            "3    47.7\n",
            "Name: user_count, dtype: float64\n"
          ]
        }
      ],
      "source": [
        "print(round(users_data['user_count'] / users_data['user_count'].shift(len(users_data['user_count'])-1) * 100, 2))\n"
      ]
    },
    {
      "cell_type": "markdown",
      "metadata": {
        "id": "rOTmFIsD0pua"
      },
      "source": [
        "Всего от первого события до оплаты доходит 47,68% пользователей"
      ]
    },
    {
      "cell_type": "code",
      "execution_count": 24,
      "metadata": {
        "colab": {
          "base_uri": "https://localhost:8080/",
          "height": 542
        },
        "id": "Qu2HFiwW0pua",
        "outputId": "a753bc7e-b567-48d3-df36-a4b399e6aee2"
      },
      "outputs": [
        {
          "output_type": "display_data",
          "data": {
            "text/html": [
              "<html>\n",
              "<head><meta charset=\"utf-8\" /></head>\n",
              "<body>\n",
              "    <div>            <script src=\"https://cdnjs.cloudflare.com/ajax/libs/mathjax/2.7.5/MathJax.js?config=TeX-AMS-MML_SVG\"></script><script type=\"text/javascript\">if (window.MathJax && window.MathJax.Hub && window.MathJax.Hub.Config) {window.MathJax.Hub.Config({SVG: {font: \"STIX-Web\"}});}</script>                <script type=\"text/javascript\">window.PlotlyConfig = {MathJaxConfig: 'local'};</script>\n",
              "        <script charset=\"utf-8\" src=\"https://cdn.plot.ly/plotly-2.24.1.min.js\"></script>                <div id=\"8f5ea9f3-981b-4622-a225-624dd6fee771\" class=\"plotly-graph-div\" style=\"height:525px; width:100%;\"></div>            <script type=\"text/javascript\">                                    window.PLOTLYENV=window.PLOTLYENV || {};                                    if (document.getElementById(\"8f5ea9f3-981b-4622-a225-624dd6fee771\")) {                    Plotly.newPlot(                        \"8f5ea9f3-981b-4622-a225-624dd6fee771\",                        [{\"hovertemplate\":\"user_count=%{x}\\u003cbr\\u003eevent_name=%{y}\\u003cextra\\u003e\\u003c\\u002fextra\\u003e\",\"legendgroup\":\"\",\"marker\":{\"color\":\"#636efa\"},\"name\":\"\",\"orientation\":\"h\",\"showlegend\":false,\"x\":[7419,4593,3734,3539],\"xaxis\":\"x\",\"y\":[\"MainScreenAppear\",\"OffersScreenAppear\",\"CartScreenAppear\",\"PaymentScreenSuccessful\"],\"yaxis\":\"y\",\"type\":\"funnel\"}],                        {\"template\":{\"data\":{\"histogram2dcontour\":[{\"type\":\"histogram2dcontour\",\"colorbar\":{\"outlinewidth\":0,\"ticks\":\"\"},\"colorscale\":[[0.0,\"#0d0887\"],[0.1111111111111111,\"#46039f\"],[0.2222222222222222,\"#7201a8\"],[0.3333333333333333,\"#9c179e\"],[0.4444444444444444,\"#bd3786\"],[0.5555555555555556,\"#d8576b\"],[0.6666666666666666,\"#ed7953\"],[0.7777777777777778,\"#fb9f3a\"],[0.8888888888888888,\"#fdca26\"],[1.0,\"#f0f921\"]]}],\"choropleth\":[{\"type\":\"choropleth\",\"colorbar\":{\"outlinewidth\":0,\"ticks\":\"\"}}],\"histogram2d\":[{\"type\":\"histogram2d\",\"colorbar\":{\"outlinewidth\":0,\"ticks\":\"\"},\"colorscale\":[[0.0,\"#0d0887\"],[0.1111111111111111,\"#46039f\"],[0.2222222222222222,\"#7201a8\"],[0.3333333333333333,\"#9c179e\"],[0.4444444444444444,\"#bd3786\"],[0.5555555555555556,\"#d8576b\"],[0.6666666666666666,\"#ed7953\"],[0.7777777777777778,\"#fb9f3a\"],[0.8888888888888888,\"#fdca26\"],[1.0,\"#f0f921\"]]}],\"heatmap\":[{\"type\":\"heatmap\",\"colorbar\":{\"outlinewidth\":0,\"ticks\":\"\"},\"colorscale\":[[0.0,\"#0d0887\"],[0.1111111111111111,\"#46039f\"],[0.2222222222222222,\"#7201a8\"],[0.3333333333333333,\"#9c179e\"],[0.4444444444444444,\"#bd3786\"],[0.5555555555555556,\"#d8576b\"],[0.6666666666666666,\"#ed7953\"],[0.7777777777777778,\"#fb9f3a\"],[0.8888888888888888,\"#fdca26\"],[1.0,\"#f0f921\"]]}],\"heatmapgl\":[{\"type\":\"heatmapgl\",\"colorbar\":{\"outlinewidth\":0,\"ticks\":\"\"},\"colorscale\":[[0.0,\"#0d0887\"],[0.1111111111111111,\"#46039f\"],[0.2222222222222222,\"#7201a8\"],[0.3333333333333333,\"#9c179e\"],[0.4444444444444444,\"#bd3786\"],[0.5555555555555556,\"#d8576b\"],[0.6666666666666666,\"#ed7953\"],[0.7777777777777778,\"#fb9f3a\"],[0.8888888888888888,\"#fdca26\"],[1.0,\"#f0f921\"]]}],\"contourcarpet\":[{\"type\":\"contourcarpet\",\"colorbar\":{\"outlinewidth\":0,\"ticks\":\"\"}}],\"contour\":[{\"type\":\"contour\",\"colorbar\":{\"outlinewidth\":0,\"ticks\":\"\"},\"colorscale\":[[0.0,\"#0d0887\"],[0.1111111111111111,\"#46039f\"],[0.2222222222222222,\"#7201a8\"],[0.3333333333333333,\"#9c179e\"],[0.4444444444444444,\"#bd3786\"],[0.5555555555555556,\"#d8576b\"],[0.6666666666666666,\"#ed7953\"],[0.7777777777777778,\"#fb9f3a\"],[0.8888888888888888,\"#fdca26\"],[1.0,\"#f0f921\"]]}],\"surface\":[{\"type\":\"surface\",\"colorbar\":{\"outlinewidth\":0,\"ticks\":\"\"},\"colorscale\":[[0.0,\"#0d0887\"],[0.1111111111111111,\"#46039f\"],[0.2222222222222222,\"#7201a8\"],[0.3333333333333333,\"#9c179e\"],[0.4444444444444444,\"#bd3786\"],[0.5555555555555556,\"#d8576b\"],[0.6666666666666666,\"#ed7953\"],[0.7777777777777778,\"#fb9f3a\"],[0.8888888888888888,\"#fdca26\"],[1.0,\"#f0f921\"]]}],\"mesh3d\":[{\"type\":\"mesh3d\",\"colorbar\":{\"outlinewidth\":0,\"ticks\":\"\"}}],\"scatter\":[{\"fillpattern\":{\"fillmode\":\"overlay\",\"size\":10,\"solidity\":0.2},\"type\":\"scatter\"}],\"parcoords\":[{\"type\":\"parcoords\",\"line\":{\"colorbar\":{\"outlinewidth\":0,\"ticks\":\"\"}}}],\"scatterpolargl\":[{\"type\":\"scatterpolargl\",\"marker\":{\"colorbar\":{\"outlinewidth\":0,\"ticks\":\"\"}}}],\"bar\":[{\"error_x\":{\"color\":\"#2a3f5f\"},\"error_y\":{\"color\":\"#2a3f5f\"},\"marker\":{\"line\":{\"color\":\"#E5ECF6\",\"width\":0.5},\"pattern\":{\"fillmode\":\"overlay\",\"size\":10,\"solidity\":0.2}},\"type\":\"bar\"}],\"scattergeo\":[{\"type\":\"scattergeo\",\"marker\":{\"colorbar\":{\"outlinewidth\":0,\"ticks\":\"\"}}}],\"scatterpolar\":[{\"type\":\"scatterpolar\",\"marker\":{\"colorbar\":{\"outlinewidth\":0,\"ticks\":\"\"}}}],\"histogram\":[{\"marker\":{\"pattern\":{\"fillmode\":\"overlay\",\"size\":10,\"solidity\":0.2}},\"type\":\"histogram\"}],\"scattergl\":[{\"type\":\"scattergl\",\"marker\":{\"colorbar\":{\"outlinewidth\":0,\"ticks\":\"\"}}}],\"scatter3d\":[{\"type\":\"scatter3d\",\"line\":{\"colorbar\":{\"outlinewidth\":0,\"ticks\":\"\"}},\"marker\":{\"colorbar\":{\"outlinewidth\":0,\"ticks\":\"\"}}}],\"scattermapbox\":[{\"type\":\"scattermapbox\",\"marker\":{\"colorbar\":{\"outlinewidth\":0,\"ticks\":\"\"}}}],\"scatterternary\":[{\"type\":\"scatterternary\",\"marker\":{\"colorbar\":{\"outlinewidth\":0,\"ticks\":\"\"}}}],\"scattercarpet\":[{\"type\":\"scattercarpet\",\"marker\":{\"colorbar\":{\"outlinewidth\":0,\"ticks\":\"\"}}}],\"carpet\":[{\"aaxis\":{\"endlinecolor\":\"#2a3f5f\",\"gridcolor\":\"white\",\"linecolor\":\"white\",\"minorgridcolor\":\"white\",\"startlinecolor\":\"#2a3f5f\"},\"baxis\":{\"endlinecolor\":\"#2a3f5f\",\"gridcolor\":\"white\",\"linecolor\":\"white\",\"minorgridcolor\":\"white\",\"startlinecolor\":\"#2a3f5f\"},\"type\":\"carpet\"}],\"table\":[{\"cells\":{\"fill\":{\"color\":\"#EBF0F8\"},\"line\":{\"color\":\"white\"}},\"header\":{\"fill\":{\"color\":\"#C8D4E3\"},\"line\":{\"color\":\"white\"}},\"type\":\"table\"}],\"barpolar\":[{\"marker\":{\"line\":{\"color\":\"#E5ECF6\",\"width\":0.5},\"pattern\":{\"fillmode\":\"overlay\",\"size\":10,\"solidity\":0.2}},\"type\":\"barpolar\"}],\"pie\":[{\"automargin\":true,\"type\":\"pie\"}]},\"layout\":{\"autotypenumbers\":\"strict\",\"colorway\":[\"#636efa\",\"#EF553B\",\"#00cc96\",\"#ab63fa\",\"#FFA15A\",\"#19d3f3\",\"#FF6692\",\"#B6E880\",\"#FF97FF\",\"#FECB52\"],\"font\":{\"color\":\"#2a3f5f\"},\"hovermode\":\"closest\",\"hoverlabel\":{\"align\":\"left\"},\"paper_bgcolor\":\"white\",\"plot_bgcolor\":\"#E5ECF6\",\"polar\":{\"bgcolor\":\"#E5ECF6\",\"angularaxis\":{\"gridcolor\":\"white\",\"linecolor\":\"white\",\"ticks\":\"\"},\"radialaxis\":{\"gridcolor\":\"white\",\"linecolor\":\"white\",\"ticks\":\"\"}},\"ternary\":{\"bgcolor\":\"#E5ECF6\",\"aaxis\":{\"gridcolor\":\"white\",\"linecolor\":\"white\",\"ticks\":\"\"},\"baxis\":{\"gridcolor\":\"white\",\"linecolor\":\"white\",\"ticks\":\"\"},\"caxis\":{\"gridcolor\":\"white\",\"linecolor\":\"white\",\"ticks\":\"\"}},\"coloraxis\":{\"colorbar\":{\"outlinewidth\":0,\"ticks\":\"\"}},\"colorscale\":{\"sequential\":[[0.0,\"#0d0887\"],[0.1111111111111111,\"#46039f\"],[0.2222222222222222,\"#7201a8\"],[0.3333333333333333,\"#9c179e\"],[0.4444444444444444,\"#bd3786\"],[0.5555555555555556,\"#d8576b\"],[0.6666666666666666,\"#ed7953\"],[0.7777777777777778,\"#fb9f3a\"],[0.8888888888888888,\"#fdca26\"],[1.0,\"#f0f921\"]],\"sequentialminus\":[[0.0,\"#0d0887\"],[0.1111111111111111,\"#46039f\"],[0.2222222222222222,\"#7201a8\"],[0.3333333333333333,\"#9c179e\"],[0.4444444444444444,\"#bd3786\"],[0.5555555555555556,\"#d8576b\"],[0.6666666666666666,\"#ed7953\"],[0.7777777777777778,\"#fb9f3a\"],[0.8888888888888888,\"#fdca26\"],[1.0,\"#f0f921\"]],\"diverging\":[[0,\"#8e0152\"],[0.1,\"#c51b7d\"],[0.2,\"#de77ae\"],[0.3,\"#f1b6da\"],[0.4,\"#fde0ef\"],[0.5,\"#f7f7f7\"],[0.6,\"#e6f5d0\"],[0.7,\"#b8e186\"],[0.8,\"#7fbc41\"],[0.9,\"#4d9221\"],[1,\"#276419\"]]},\"xaxis\":{\"gridcolor\":\"white\",\"linecolor\":\"white\",\"ticks\":\"\",\"title\":{\"standoff\":15},\"zerolinecolor\":\"white\",\"automargin\":true,\"zerolinewidth\":2},\"yaxis\":{\"gridcolor\":\"white\",\"linecolor\":\"white\",\"ticks\":\"\",\"title\":{\"standoff\":15},\"zerolinecolor\":\"white\",\"automargin\":true,\"zerolinewidth\":2},\"scene\":{\"xaxis\":{\"backgroundcolor\":\"#E5ECF6\",\"gridcolor\":\"white\",\"linecolor\":\"white\",\"showbackground\":true,\"ticks\":\"\",\"zerolinecolor\":\"white\",\"gridwidth\":2},\"yaxis\":{\"backgroundcolor\":\"#E5ECF6\",\"gridcolor\":\"white\",\"linecolor\":\"white\",\"showbackground\":true,\"ticks\":\"\",\"zerolinecolor\":\"white\",\"gridwidth\":2},\"zaxis\":{\"backgroundcolor\":\"#E5ECF6\",\"gridcolor\":\"white\",\"linecolor\":\"white\",\"showbackground\":true,\"ticks\":\"\",\"zerolinecolor\":\"white\",\"gridwidth\":2}},\"shapedefaults\":{\"line\":{\"color\":\"#2a3f5f\"}},\"annotationdefaults\":{\"arrowcolor\":\"#2a3f5f\",\"arrowhead\":0,\"arrowwidth\":1},\"geo\":{\"bgcolor\":\"white\",\"landcolor\":\"#E5ECF6\",\"subunitcolor\":\"white\",\"showland\":true,\"showlakes\":true,\"lakecolor\":\"white\"},\"title\":{\"x\":0.05},\"mapbox\":{\"style\":\"light\"}}},\"xaxis\":{\"anchor\":\"y\",\"domain\":[0.0,1.0],\"title\":{\"text\":\"user_count\"}},\"yaxis\":{\"anchor\":\"x\",\"domain\":[0.0,1.0],\"title\":{\"text\":\"event_name\"}},\"legend\":{\"tracegroupgap\":0},\"margin\":{\"t\":60}},                        {\"responsive\": true}                    ).then(function(){\n",
              "                            \n",
              "var gd = document.getElementById('8f5ea9f3-981b-4622-a225-624dd6fee771');\n",
              "var x = new MutationObserver(function (mutations, observer) {{\n",
              "        var display = window.getComputedStyle(gd).display;\n",
              "        if (!display || display === 'none') {{\n",
              "            console.log([gd, 'removed!']);\n",
              "            Plotly.purge(gd);\n",
              "            observer.disconnect();\n",
              "        }}\n",
              "}});\n",
              "\n",
              "// Listen for the removal of the full notebook cells\n",
              "var notebookContainer = gd.closest('#notebook-container');\n",
              "if (notebookContainer) {{\n",
              "    x.observe(notebookContainer, {childList: true});\n",
              "}}\n",
              "\n",
              "// Listen for the clearing of the current output cell\n",
              "var outputEl = gd.closest('.output');\n",
              "if (outputEl) {{\n",
              "    x.observe(outputEl, {childList: true});\n",
              "}}\n",
              "\n",
              "                        })                };                            </script>        </div>\n",
              "</body>\n",
              "</html>"
            ]
          },
          "metadata": {}
        }
      ],
      "source": [
        "fig = px.funnel(users_data, x='user_count', y='event_name')\n",
        "fig.show()"
      ]
    },
    {
      "cell_type": "markdown",
      "metadata": {
        "id": "pKynWOne0pua"
      },
      "source": [
        "## Шаг 5. Изучите результаты эксперимента"
      ]
    },
    {
      "cell_type": "markdown",
      "metadata": {
        "id": "0Kku7Tag0pua"
      },
      "source": [
        "* Сколько пользователей в каждой экспериментальной группе?\n",
        "* Есть 2 контрольные группы для А/А-эксперимента, чтобы проверить корректность всех механизмов и расчётов. Проверьте, находят ли статистические критерии разницу между выборками 246 и 247.\n",
        "* Выберите самое популярное событие. Посчитайте число пользователей, совершивших это событие в каждой из контрольных групп. Посчитайте долю пользователей, совершивших это событие. Проверьте, будет ли отличие между группами статистически достоверным. Проделайте то же самое для всех других событий (удобно обернуть проверку в отдельную функцию). Можно ли сказать, что разбиение на группы работает корректно?\n",
        "* Аналогично поступите с группой с изменённым шрифтом. Сравните результаты с каждой из контрольных групп в отдельности по каждому событию. Сравните результаты с объединённой контрольной группой. Какие выводы из эксперимента можно сделать?\n",
        "*  Какой уровень значимости вы выбрали при проверке статистических гипотез выше? Посчитайте, сколько проверок статистических гипотез вы сделали. При уровне значимости 0.1 каждый десятый раз можно получать ложный результат. Какой уровень значимости стоит применить? Если вы хотите изменить его, проделайте предыдущие пункты и проверьте свои выводы."
      ]
    },
    {
      "cell_type": "markdown",
      "metadata": {
        "id": "ouD1r_6z0pua"
      },
      "source": [
        "### Сколько пользователей в каждой экспериментальной группе?"
      ]
    },
    {
      "cell_type": "code",
      "execution_count": 25,
      "metadata": {
        "colab": {
          "base_uri": "https://localhost:8080/"
        },
        "id": "GUkXTLz20pua",
        "outputId": "0d7d79d2-00b0-4fcb-d0c8-2d122d59c409"
      },
      "outputs": [
        {
          "output_type": "stream",
          "name": "stdout",
          "text": [
            "Количество уникальных пользователей в группе 246 -  2483\n",
            "Количество уникальных пользователей в группе 247 -  2512\n",
            "Количество уникальных пользователей в группе 247 -  2535\n"
          ]
        }
      ],
      "source": [
        "print('Количество уникальных пользователей в группе 246 - ', good_data.query('group == 246')['user_id'].nunique())\n",
        "print('Количество уникальных пользователей в группе 247 - ', good_data.query('group == 247')['user_id'].nunique())\n",
        "print('Количество уникальных пользователей в группе 247 - ', good_data.query('group == 248')['user_id'].nunique())"
      ]
    },
    {
      "cell_type": "markdown",
      "metadata": {
        "id": "0Z99ku140pua"
      },
      "source": [
        "### Есть 2 контрольные группы для А/А-эксперимента, чтобы проверить корректность всех механизмов и расчётов. Проверьте, находят ли статистические критерии разницу между выборками 246 и 247."
      ]
    },
    {
      "cell_type": "markdown",
      "metadata": {
        "id": "30j8fk770pua"
      },
      "source": [
        "Сделаем отдельные ДФ для контрольных групп, а также таблицы с воронками"
      ]
    },
    {
      "cell_type": "code",
      "execution_count": 26,
      "metadata": {
        "id": "1mchYNKy0pua"
      },
      "outputs": [],
      "source": [
        "good_data_A1 = good_data.query('group == 246').reset_index(drop=True)\n",
        "good_data_A2 = good_data.query('group == 247').reset_index(drop=True)\n",
        "good_data_B = good_data.query('group == 248').reset_index(drop=True)\n"
      ]
    },
    {
      "cell_type": "code",
      "execution_count": 27,
      "metadata": {
        "colab": {
          "base_uri": "https://localhost:8080/",
          "height": 490
        },
        "id": "uJ6b7S7C0pua",
        "outputId": "d85789a4-94ae-4dc1-f39a-877ef42c9a86"
      },
      "outputs": [
        {
          "output_type": "display_data",
          "data": {
            "text/plain": [
              "                event_name  unique_user_count  user_count  unique_users  \\\n",
              "0         MainScreenAppear               2450       37676          2483   \n",
              "1       OffersScreenAppear               1542       14767          2483   \n",
              "2         CartScreenAppear               1266       14690          2483   \n",
              "3  PaymentScreenSuccessful               1200       11852          2483   \n",
              "\n",
              "   ratio_%  %_of_prev_step  \n",
              "0    98.67             NaN  \n",
              "1    62.10           39.19  \n",
              "2    50.99           99.48  \n",
              "3    48.33           80.68  "
            ],
            "text/html": [
              "\n",
              "  <div id=\"df-5fc3847b-8dda-4738-8c85-4cadea81e915\" class=\"colab-df-container\">\n",
              "    <div>\n",
              "<style scoped>\n",
              "    .dataframe tbody tr th:only-of-type {\n",
              "        vertical-align: middle;\n",
              "    }\n",
              "\n",
              "    .dataframe tbody tr th {\n",
              "        vertical-align: top;\n",
              "    }\n",
              "\n",
              "    .dataframe thead th {\n",
              "        text-align: right;\n",
              "    }\n",
              "</style>\n",
              "<table border=\"1\" class=\"dataframe\">\n",
              "  <thead>\n",
              "    <tr style=\"text-align: right;\">\n",
              "      <th></th>\n",
              "      <th>event_name</th>\n",
              "      <th>unique_user_count</th>\n",
              "      <th>user_count</th>\n",
              "      <th>unique_users</th>\n",
              "      <th>ratio_%</th>\n",
              "      <th>%_of_prev_step</th>\n",
              "    </tr>\n",
              "  </thead>\n",
              "  <tbody>\n",
              "    <tr>\n",
              "      <th>0</th>\n",
              "      <td>MainScreenAppear</td>\n",
              "      <td>2450</td>\n",
              "      <td>37676</td>\n",
              "      <td>2483</td>\n",
              "      <td>98.67</td>\n",
              "      <td>NaN</td>\n",
              "    </tr>\n",
              "    <tr>\n",
              "      <th>1</th>\n",
              "      <td>OffersScreenAppear</td>\n",
              "      <td>1542</td>\n",
              "      <td>14767</td>\n",
              "      <td>2483</td>\n",
              "      <td>62.10</td>\n",
              "      <td>39.19</td>\n",
              "    </tr>\n",
              "    <tr>\n",
              "      <th>2</th>\n",
              "      <td>CartScreenAppear</td>\n",
              "      <td>1266</td>\n",
              "      <td>14690</td>\n",
              "      <td>2483</td>\n",
              "      <td>50.99</td>\n",
              "      <td>99.48</td>\n",
              "    </tr>\n",
              "    <tr>\n",
              "      <th>3</th>\n",
              "      <td>PaymentScreenSuccessful</td>\n",
              "      <td>1200</td>\n",
              "      <td>11852</td>\n",
              "      <td>2483</td>\n",
              "      <td>48.33</td>\n",
              "      <td>80.68</td>\n",
              "    </tr>\n",
              "  </tbody>\n",
              "</table>\n",
              "</div>\n",
              "    <div class=\"colab-df-buttons\">\n",
              "\n",
              "  <div class=\"colab-df-container\">\n",
              "    <button class=\"colab-df-convert\" onclick=\"convertToInteractive('df-5fc3847b-8dda-4738-8c85-4cadea81e915')\"\n",
              "            title=\"Convert this dataframe to an interactive table.\"\n",
              "            style=\"display:none;\">\n",
              "\n",
              "  <svg xmlns=\"http://www.w3.org/2000/svg\" height=\"24px\" viewBox=\"0 -960 960 960\">\n",
              "    <path d=\"M120-120v-720h720v720H120Zm60-500h600v-160H180v160Zm220 220h160v-160H400v160Zm0 220h160v-160H400v160ZM180-400h160v-160H180v160Zm440 0h160v-160H620v160ZM180-180h160v-160H180v160Zm440 0h160v-160H620v160Z\"/>\n",
              "  </svg>\n",
              "    </button>\n",
              "\n",
              "  <style>\n",
              "    .colab-df-container {\n",
              "      display:flex;\n",
              "      gap: 12px;\n",
              "    }\n",
              "\n",
              "    .colab-df-convert {\n",
              "      background-color: #E8F0FE;\n",
              "      border: none;\n",
              "      border-radius: 50%;\n",
              "      cursor: pointer;\n",
              "      display: none;\n",
              "      fill: #1967D2;\n",
              "      height: 32px;\n",
              "      padding: 0 0 0 0;\n",
              "      width: 32px;\n",
              "    }\n",
              "\n",
              "    .colab-df-convert:hover {\n",
              "      background-color: #E2EBFA;\n",
              "      box-shadow: 0px 1px 2px rgba(60, 64, 67, 0.3), 0px 1px 3px 1px rgba(60, 64, 67, 0.15);\n",
              "      fill: #174EA6;\n",
              "    }\n",
              "\n",
              "    .colab-df-buttons div {\n",
              "      margin-bottom: 4px;\n",
              "    }\n",
              "\n",
              "    [theme=dark] .colab-df-convert {\n",
              "      background-color: #3B4455;\n",
              "      fill: #D2E3FC;\n",
              "    }\n",
              "\n",
              "    [theme=dark] .colab-df-convert:hover {\n",
              "      background-color: #434B5C;\n",
              "      box-shadow: 0px 1px 3px 1px rgba(0, 0, 0, 0.15);\n",
              "      filter: drop-shadow(0px 1px 2px rgba(0, 0, 0, 0.3));\n",
              "      fill: #FFFFFF;\n",
              "    }\n",
              "  </style>\n",
              "\n",
              "    <script>\n",
              "      const buttonEl =\n",
              "        document.querySelector('#df-5fc3847b-8dda-4738-8c85-4cadea81e915 button.colab-df-convert');\n",
              "      buttonEl.style.display =\n",
              "        google.colab.kernel.accessAllowed ? 'block' : 'none';\n",
              "\n",
              "      async function convertToInteractive(key) {\n",
              "        const element = document.querySelector('#df-5fc3847b-8dda-4738-8c85-4cadea81e915');\n",
              "        const dataTable =\n",
              "          await google.colab.kernel.invokeFunction('convertToInteractive',\n",
              "                                                    [key], {});\n",
              "        if (!dataTable) return;\n",
              "\n",
              "        const docLinkHtml = 'Like what you see? Visit the ' +\n",
              "          '<a target=\"_blank\" href=https://colab.research.google.com/notebooks/data_table.ipynb>data table notebook</a>'\n",
              "          + ' to learn more about interactive tables.';\n",
              "        element.innerHTML = '';\n",
              "        dataTable['output_type'] = 'display_data';\n",
              "        await google.colab.output.renderOutput(dataTable, element);\n",
              "        const docLink = document.createElement('div');\n",
              "        docLink.innerHTML = docLinkHtml;\n",
              "        element.appendChild(docLink);\n",
              "      }\n",
              "    </script>\n",
              "  </div>\n",
              "\n",
              "    </div>\n",
              "  </div>\n"
            ]
          },
          "metadata": {}
        },
        {
          "output_type": "display_data",
          "data": {
            "text/plain": [
              "                event_name  unique_user_count  user_count  unique_users  \\\n",
              "0         MainScreenAppear               2476       39090          2512   \n",
              "1       OffersScreenAppear               1520       15179          2512   \n",
              "2         CartScreenAppear               1238       12434          2512   \n",
              "3  PaymentScreenSuccessful               1158        9981          2512   \n",
              "\n",
              "   ratio_%  %_of_prev_step  \n",
              "0    98.57             NaN  \n",
              "1    60.51           38.83  \n",
              "2    49.28           81.92  \n",
              "3    46.10           80.27  "
            ],
            "text/html": [
              "\n",
              "  <div id=\"df-a8278e19-b58a-4989-85f5-d8a0178855ad\" class=\"colab-df-container\">\n",
              "    <div>\n",
              "<style scoped>\n",
              "    .dataframe tbody tr th:only-of-type {\n",
              "        vertical-align: middle;\n",
              "    }\n",
              "\n",
              "    .dataframe tbody tr th {\n",
              "        vertical-align: top;\n",
              "    }\n",
              "\n",
              "    .dataframe thead th {\n",
              "        text-align: right;\n",
              "    }\n",
              "</style>\n",
              "<table border=\"1\" class=\"dataframe\">\n",
              "  <thead>\n",
              "    <tr style=\"text-align: right;\">\n",
              "      <th></th>\n",
              "      <th>event_name</th>\n",
              "      <th>unique_user_count</th>\n",
              "      <th>user_count</th>\n",
              "      <th>unique_users</th>\n",
              "      <th>ratio_%</th>\n",
              "      <th>%_of_prev_step</th>\n",
              "    </tr>\n",
              "  </thead>\n",
              "  <tbody>\n",
              "    <tr>\n",
              "      <th>0</th>\n",
              "      <td>MainScreenAppear</td>\n",
              "      <td>2476</td>\n",
              "      <td>39090</td>\n",
              "      <td>2512</td>\n",
              "      <td>98.57</td>\n",
              "      <td>NaN</td>\n",
              "    </tr>\n",
              "    <tr>\n",
              "      <th>1</th>\n",
              "      <td>OffersScreenAppear</td>\n",
              "      <td>1520</td>\n",
              "      <td>15179</td>\n",
              "      <td>2512</td>\n",
              "      <td>60.51</td>\n",
              "      <td>38.83</td>\n",
              "    </tr>\n",
              "    <tr>\n",
              "      <th>2</th>\n",
              "      <td>CartScreenAppear</td>\n",
              "      <td>1238</td>\n",
              "      <td>12434</td>\n",
              "      <td>2512</td>\n",
              "      <td>49.28</td>\n",
              "      <td>81.92</td>\n",
              "    </tr>\n",
              "    <tr>\n",
              "      <th>3</th>\n",
              "      <td>PaymentScreenSuccessful</td>\n",
              "      <td>1158</td>\n",
              "      <td>9981</td>\n",
              "      <td>2512</td>\n",
              "      <td>46.10</td>\n",
              "      <td>80.27</td>\n",
              "    </tr>\n",
              "  </tbody>\n",
              "</table>\n",
              "</div>\n",
              "    <div class=\"colab-df-buttons\">\n",
              "\n",
              "  <div class=\"colab-df-container\">\n",
              "    <button class=\"colab-df-convert\" onclick=\"convertToInteractive('df-a8278e19-b58a-4989-85f5-d8a0178855ad')\"\n",
              "            title=\"Convert this dataframe to an interactive table.\"\n",
              "            style=\"display:none;\">\n",
              "\n",
              "  <svg xmlns=\"http://www.w3.org/2000/svg\" height=\"24px\" viewBox=\"0 -960 960 960\">\n",
              "    <path d=\"M120-120v-720h720v720H120Zm60-500h600v-160H180v160Zm220 220h160v-160H400v160Zm0 220h160v-160H400v160ZM180-400h160v-160H180v160Zm440 0h160v-160H620v160ZM180-180h160v-160H180v160Zm440 0h160v-160H620v160Z\"/>\n",
              "  </svg>\n",
              "    </button>\n",
              "\n",
              "  <style>\n",
              "    .colab-df-container {\n",
              "      display:flex;\n",
              "      gap: 12px;\n",
              "    }\n",
              "\n",
              "    .colab-df-convert {\n",
              "      background-color: #E8F0FE;\n",
              "      border: none;\n",
              "      border-radius: 50%;\n",
              "      cursor: pointer;\n",
              "      display: none;\n",
              "      fill: #1967D2;\n",
              "      height: 32px;\n",
              "      padding: 0 0 0 0;\n",
              "      width: 32px;\n",
              "    }\n",
              "\n",
              "    .colab-df-convert:hover {\n",
              "      background-color: #E2EBFA;\n",
              "      box-shadow: 0px 1px 2px rgba(60, 64, 67, 0.3), 0px 1px 3px 1px rgba(60, 64, 67, 0.15);\n",
              "      fill: #174EA6;\n",
              "    }\n",
              "\n",
              "    .colab-df-buttons div {\n",
              "      margin-bottom: 4px;\n",
              "    }\n",
              "\n",
              "    [theme=dark] .colab-df-convert {\n",
              "      background-color: #3B4455;\n",
              "      fill: #D2E3FC;\n",
              "    }\n",
              "\n",
              "    [theme=dark] .colab-df-convert:hover {\n",
              "      background-color: #434B5C;\n",
              "      box-shadow: 0px 1px 3px 1px rgba(0, 0, 0, 0.15);\n",
              "      filter: drop-shadow(0px 1px 2px rgba(0, 0, 0, 0.3));\n",
              "      fill: #FFFFFF;\n",
              "    }\n",
              "  </style>\n",
              "\n",
              "    <script>\n",
              "      const buttonEl =\n",
              "        document.querySelector('#df-a8278e19-b58a-4989-85f5-d8a0178855ad button.colab-df-convert');\n",
              "      buttonEl.style.display =\n",
              "        google.colab.kernel.accessAllowed ? 'block' : 'none';\n",
              "\n",
              "      async function convertToInteractive(key) {\n",
              "        const element = document.querySelector('#df-a8278e19-b58a-4989-85f5-d8a0178855ad');\n",
              "        const dataTable =\n",
              "          await google.colab.kernel.invokeFunction('convertToInteractive',\n",
              "                                                    [key], {});\n",
              "        if (!dataTable) return;\n",
              "\n",
              "        const docLinkHtml = 'Like what you see? Visit the ' +\n",
              "          '<a target=\"_blank\" href=https://colab.research.google.com/notebooks/data_table.ipynb>data table notebook</a>'\n",
              "          + ' to learn more about interactive tables.';\n",
              "        element.innerHTML = '';\n",
              "        dataTable['output_type'] = 'display_data';\n",
              "        await google.colab.output.renderOutput(dataTable, element);\n",
              "        const docLink = document.createElement('div');\n",
              "        docLink.innerHTML = docLinkHtml;\n",
              "        element.appendChild(docLink);\n",
              "      }\n",
              "    </script>\n",
              "  </div>\n",
              "\n",
              "    </div>\n",
              "  </div>\n"
            ]
          },
          "metadata": {}
        },
        {
          "output_type": "display_data",
          "data": {
            "text/plain": [
              "                event_name  unique_user_count  user_count  unique_users  \\\n",
              "0         MainScreenAppear               2493       40562          2535   \n",
              "1       OffersScreenAppear               1531       16387          2535   \n",
              "2         CartScreenAppear               1230       15179          2535   \n",
              "3  PaymentScreenSuccessful               1181       12085          2535   \n",
              "\n",
              "   ratio_%  %_of_prev_step  \n",
              "0    98.34             NaN  \n",
              "1    60.39           40.40  \n",
              "2    48.52           92.63  \n",
              "3    46.59           79.62  "
            ],
            "text/html": [
              "\n",
              "  <div id=\"df-892d4eaa-b8fb-45d2-a9d9-99bd4c76efc9\" class=\"colab-df-container\">\n",
              "    <div>\n",
              "<style scoped>\n",
              "    .dataframe tbody tr th:only-of-type {\n",
              "        vertical-align: middle;\n",
              "    }\n",
              "\n",
              "    .dataframe tbody tr th {\n",
              "        vertical-align: top;\n",
              "    }\n",
              "\n",
              "    .dataframe thead th {\n",
              "        text-align: right;\n",
              "    }\n",
              "</style>\n",
              "<table border=\"1\" class=\"dataframe\">\n",
              "  <thead>\n",
              "    <tr style=\"text-align: right;\">\n",
              "      <th></th>\n",
              "      <th>event_name</th>\n",
              "      <th>unique_user_count</th>\n",
              "      <th>user_count</th>\n",
              "      <th>unique_users</th>\n",
              "      <th>ratio_%</th>\n",
              "      <th>%_of_prev_step</th>\n",
              "    </tr>\n",
              "  </thead>\n",
              "  <tbody>\n",
              "    <tr>\n",
              "      <th>0</th>\n",
              "      <td>MainScreenAppear</td>\n",
              "      <td>2493</td>\n",
              "      <td>40562</td>\n",
              "      <td>2535</td>\n",
              "      <td>98.34</td>\n",
              "      <td>NaN</td>\n",
              "    </tr>\n",
              "    <tr>\n",
              "      <th>1</th>\n",
              "      <td>OffersScreenAppear</td>\n",
              "      <td>1531</td>\n",
              "      <td>16387</td>\n",
              "      <td>2535</td>\n",
              "      <td>60.39</td>\n",
              "      <td>40.40</td>\n",
              "    </tr>\n",
              "    <tr>\n",
              "      <th>2</th>\n",
              "      <td>CartScreenAppear</td>\n",
              "      <td>1230</td>\n",
              "      <td>15179</td>\n",
              "      <td>2535</td>\n",
              "      <td>48.52</td>\n",
              "      <td>92.63</td>\n",
              "    </tr>\n",
              "    <tr>\n",
              "      <th>3</th>\n",
              "      <td>PaymentScreenSuccessful</td>\n",
              "      <td>1181</td>\n",
              "      <td>12085</td>\n",
              "      <td>2535</td>\n",
              "      <td>46.59</td>\n",
              "      <td>79.62</td>\n",
              "    </tr>\n",
              "  </tbody>\n",
              "</table>\n",
              "</div>\n",
              "    <div class=\"colab-df-buttons\">\n",
              "\n",
              "  <div class=\"colab-df-container\">\n",
              "    <button class=\"colab-df-convert\" onclick=\"convertToInteractive('df-892d4eaa-b8fb-45d2-a9d9-99bd4c76efc9')\"\n",
              "            title=\"Convert this dataframe to an interactive table.\"\n",
              "            style=\"display:none;\">\n",
              "\n",
              "  <svg xmlns=\"http://www.w3.org/2000/svg\" height=\"24px\" viewBox=\"0 -960 960 960\">\n",
              "    <path d=\"M120-120v-720h720v720H120Zm60-500h600v-160H180v160Zm220 220h160v-160H400v160Zm0 220h160v-160H400v160ZM180-400h160v-160H180v160Zm440 0h160v-160H620v160ZM180-180h160v-160H180v160Zm440 0h160v-160H620v160Z\"/>\n",
              "  </svg>\n",
              "    </button>\n",
              "\n",
              "  <style>\n",
              "    .colab-df-container {\n",
              "      display:flex;\n",
              "      gap: 12px;\n",
              "    }\n",
              "\n",
              "    .colab-df-convert {\n",
              "      background-color: #E8F0FE;\n",
              "      border: none;\n",
              "      border-radius: 50%;\n",
              "      cursor: pointer;\n",
              "      display: none;\n",
              "      fill: #1967D2;\n",
              "      height: 32px;\n",
              "      padding: 0 0 0 0;\n",
              "      width: 32px;\n",
              "    }\n",
              "\n",
              "    .colab-df-convert:hover {\n",
              "      background-color: #E2EBFA;\n",
              "      box-shadow: 0px 1px 2px rgba(60, 64, 67, 0.3), 0px 1px 3px 1px rgba(60, 64, 67, 0.15);\n",
              "      fill: #174EA6;\n",
              "    }\n",
              "\n",
              "    .colab-df-buttons div {\n",
              "      margin-bottom: 4px;\n",
              "    }\n",
              "\n",
              "    [theme=dark] .colab-df-convert {\n",
              "      background-color: #3B4455;\n",
              "      fill: #D2E3FC;\n",
              "    }\n",
              "\n",
              "    [theme=dark] .colab-df-convert:hover {\n",
              "      background-color: #434B5C;\n",
              "      box-shadow: 0px 1px 3px 1px rgba(0, 0, 0, 0.15);\n",
              "      filter: drop-shadow(0px 1px 2px rgba(0, 0, 0, 0.3));\n",
              "      fill: #FFFFFF;\n",
              "    }\n",
              "  </style>\n",
              "\n",
              "    <script>\n",
              "      const buttonEl =\n",
              "        document.querySelector('#df-892d4eaa-b8fb-45d2-a9d9-99bd4c76efc9 button.colab-df-convert');\n",
              "      buttonEl.style.display =\n",
              "        google.colab.kernel.accessAllowed ? 'block' : 'none';\n",
              "\n",
              "      async function convertToInteractive(key) {\n",
              "        const element = document.querySelector('#df-892d4eaa-b8fb-45d2-a9d9-99bd4c76efc9');\n",
              "        const dataTable =\n",
              "          await google.colab.kernel.invokeFunction('convertToInteractive',\n",
              "                                                    [key], {});\n",
              "        if (!dataTable) return;\n",
              "\n",
              "        const docLinkHtml = 'Like what you see? Visit the ' +\n",
              "          '<a target=\"_blank\" href=https://colab.research.google.com/notebooks/data_table.ipynb>data table notebook</a>'\n",
              "          + ' to learn more about interactive tables.';\n",
              "        element.innerHTML = '';\n",
              "        dataTable['output_type'] = 'display_data';\n",
              "        await google.colab.output.renderOutput(dataTable, element);\n",
              "        const docLink = document.createElement('div');\n",
              "        docLink.innerHTML = docLinkHtml;\n",
              "        element.appendChild(docLink);\n",
              "      }\n",
              "    </script>\n",
              "  </div>\n",
              "\n",
              "    </div>\n",
              "  </div>\n"
            ]
          },
          "metadata": {}
        }
      ],
      "source": [
        "def user_data(data):\n",
        "    user_data = data.groupby('event_name')['user_id'] \\\n",
        "        .agg(['nunique', 'count']) \\\n",
        "        .rename(columns={'nunique': 'unique_user_count', 'count': 'user_count'}) \\\n",
        "        .sort_values(by='user_count', ascending=False).reset_index()\n",
        "    #user_data.\n",
        "    user_data['unique_users'] = data['user_id'].nunique()\n",
        "    user_data['ratio_%'] = round(user_data['unique_user_count'] / user_data['unique_users'] * 100, 2)\n",
        "    user_data['%_of_prev_step'] =  round(user_data['user_count'] / user_data['user_count'].shift(1) * 100, 2)\n",
        "\n",
        "    return user_data\n",
        "\n",
        "users_data_A1 = user_data(good_data_A1)\n",
        "users_data_A2 = user_data(good_data_A2)\n",
        "users_data_B = user_data(good_data_B)\n",
        "\n",
        "display(users_data_A1)\n",
        "display(users_data_A2)\n",
        "display(users_data_B)"
      ]
    },
    {
      "cell_type": "markdown",
      "metadata": {
        "id": "Wm1zGXMg0pua"
      },
      "source": [
        "\n",
        "**Нулевая гипотеза**: доли уникальных посетителей, побывавших на этапе воронки, одинаковы.\n",
        "\n",
        "**Альтенативная гипотеза**: между долями уникальных посетителей, побывавших на этапе воронки, есть значимая разница."
      ]
    },
    {
      "cell_type": "markdown",
      "metadata": {
        "id": "kjbEldxn0pub"
      },
     {
      "cell_type": "code",
      "execution_count": 28,
      "metadata": {
        "colab": {
          "base_uri": "https://localhost:8080/",
          "height": 175
        },
        "id": "IQA4L-NF0pub",
        "outputId": "5ee1c5e6-f159-4917-b8e3-81a724b6e60c"
      },
      "outputs": [
        {
          "output_type": "execute_result",
          "data": {
            "text/plain": [
              "                event_name  unique_user_count  user_count  unique_users  \\\n",
              "0         MainScreenAppear               2450       37676          2483   \n",
              "1       OffersScreenAppear               1542       14767          2483   \n",
              "2         CartScreenAppear               1266       14690          2483   \n",
              "3  PaymentScreenSuccessful               1200       11852          2483   \n",
              "\n",
              "   ratio_%  %_of_prev_step  \n",
              "0    98.67             NaN  \n",
              "1    62.10           39.19  \n",
              "2    50.99           99.48  \n",
              "3    48.33           80.68  "
            ],
            "text/html": [
              "\n",
              "  <div id=\"df-73960f4d-effd-4915-a422-d26de793397b\" class=\"colab-df-container\">\n",
              "    <div>\n",
              "<style scoped>\n",
              "    .dataframe tbody tr th:only-of-type {\n",
              "        vertical-align: middle;\n",
              "    }\n",
              "\n",
              "    .dataframe tbody tr th {\n",
              "        vertical-align: top;\n",
              "    }\n",
              "\n",
              "    .dataframe thead th {\n",
              "        text-align: right;\n",
              "    }\n",
              "</style>\n",
              "<table border=\"1\" class=\"dataframe\">\n",
              "  <thead>\n",
              "    <tr style=\"text-align: right;\">\n",
              "      <th></th>\n",
              "      <th>event_name</th>\n",
              "      <th>unique_user_count</th>\n",
              "      <th>user_count</th>\n",
              "      <th>unique_users</th>\n",
              "      <th>ratio_%</th>\n",
              "      <th>%_of_prev_step</th>\n",
              "    </tr>\n",
              "  </thead>\n",
              "  <tbody>\n",
              "    <tr>\n",
              "      <th>0</th>\n",
              "      <td>MainScreenAppear</td>\n",
              "      <td>2450</td>\n",
              "      <td>37676</td>\n",
              "      <td>2483</td>\n",
              "      <td>98.67</td>\n",
              "      <td>NaN</td>\n",
              "    </tr>\n",
              "    <tr>\n",
              "      <th>1</th>\n",
              "      <td>OffersScreenAppear</td>\n",
              "      <td>1542</td>\n",
              "      <td>14767</td>\n",
              "      <td>2483</td>\n",
              "      <td>62.10</td>\n",
              "      <td>39.19</td>\n",
              "    </tr>\n",
              "    <tr>\n",
              "      <th>2</th>\n",
              "      <td>CartScreenAppear</td>\n",
              "      <td>1266</td>\n",
              "      <td>14690</td>\n",
              "      <td>2483</td>\n",
              "      <td>50.99</td>\n",
              "      <td>99.48</td>\n",
              "    </tr>\n",
              "    <tr>\n",
              "      <th>3</th>\n",
              "      <td>PaymentScreenSuccessful</td>\n",
              "      <td>1200</td>\n",
              "      <td>11852</td>\n",
              "      <td>2483</td>\n",
              "      <td>48.33</td>\n",
              "      <td>80.68</td>\n",
              "    </tr>\n",
              "  </tbody>\n",
              "</table>\n",
              "</div>\n",
              "    <div class=\"colab-df-buttons\">\n",
              "\n",
              "  <div class=\"colab-df-container\">\n",
              "    <button class=\"colab-df-convert\" onclick=\"convertToInteractive('df-73960f4d-effd-4915-a422-d26de793397b')\"\n",
              "            title=\"Convert this dataframe to an interactive table.\"\n",
              "            style=\"display:none;\">\n",
              "\n",
              "  <svg xmlns=\"http://www.w3.org/2000/svg\" height=\"24px\" viewBox=\"0 -960 960 960\">\n",
              "    <path d=\"M120-120v-720h720v720H120Zm60-500h600v-160H180v160Zm220 220h160v-160H400v160Zm0 220h160v-160H400v160ZM180-400h160v-160H180v160Zm440 0h160v-160H620v160ZM180-180h160v-160H180v160Zm440 0h160v-160H620v160Z\"/>\n",
              "  </svg>\n",
              "    </button>\n",
              "\n",
              "  <style>\n",
              "    .colab-df-container {\n",
              "      display:flex;\n",
              "      gap: 12px;\n",
              "    }\n",
              "\n",
              "    .colab-df-convert {\n",
              "      background-color: #E8F0FE;\n",
              "      border: none;\n",
              "      border-radius: 50%;\n",
              "      cursor: pointer;\n",
              "      display: none;\n",
              "      fill: #1967D2;\n",
              "      height: 32px;\n",
              "      padding: 0 0 0 0;\n",
              "      width: 32px;\n",
              "    }\n",
              "\n",
              "    .colab-df-convert:hover {\n",
              "      background-color: #E2EBFA;\n",
              "      box-shadow: 0px 1px 2px rgba(60, 64, 67, 0.3), 0px 1px 3px 1px rgba(60, 64, 67, 0.15);\n",
              "      fill: #174EA6;\n",
              "    }\n",
              "\n",
              "    .colab-df-buttons div {\n",
              "      margin-bottom: 4px;\n",
              "    }\n",
              "\n",
              "    [theme=dark] .colab-df-convert {\n",
              "      background-color: #3B4455;\n",
              "      fill: #D2E3FC;\n",
              "    }\n",
              "\n",
              "    [theme=dark] .colab-df-convert:hover {\n",
              "      background-color: #434B5C;\n",
              "      box-shadow: 0px 1px 3px 1px rgba(0, 0, 0, 0.15);\n",
              "      filter: drop-shadow(0px 1px 2px rgba(0, 0, 0, 0.3));\n",
              "      fill: #FFFFFF;\n",
              "    }\n",
              "  </style>\n",
              "\n",
              "    <script>\n",
              "      const buttonEl =\n",
              "        document.querySelector('#df-73960f4d-effd-4915-a422-d26de793397b button.colab-df-convert');\n",
              "      buttonEl.style.display =\n",
              "        google.colab.kernel.accessAllowed ? 'block' : 'none';\n",
              "\n",
              "      async function convertToInteractive(key) {\n",
              "        const element = document.querySelector('#df-73960f4d-effd-4915-a422-d26de793397b');\n",
              "        const dataTable =\n",
              "          await google.colab.kernel.invokeFunction('convertToInteractive',\n",
              "                                                    [key], {});\n",
              "        if (!dataTable) return;\n",
              "\n",
              "        const docLinkHtml = 'Like what you see? Visit the ' +\n",
              "          '<a target=\"_blank\" href=https://colab.research.google.com/notebooks/data_table.ipynb>data table notebook</a>'\n",
              "          + ' to learn more about interactive tables.';\n",
              "        element.innerHTML = '';\n",
              "        dataTable['output_type'] = 'display_data';\n",
              "        await google.colab.output.renderOutput(dataTable, element);\n",
              "        const docLink = document.createElement('div');\n",
              "        docLink.innerHTML = docLinkHtml;\n",
              "        element.appendChild(docLink);\n",
              "      }\n",
              "    </script>\n",
              "  </div>\n",
              "\n",
              "    </div>\n",
              "  </div>\n"
            ]
          },
          "metadata": {},
          "execution_count": 28
        }
      ],
      "source": [
        "users_data_A1"
      ]
    },
    {
      "cell_type": "markdown",
      "metadata": {
        "id": "TNvitapU0pub"
      },
      "source": [
        "Стаитситческие критерии сообщают нам, что нет оснований считать группы А1 и А2 разными"
      ]
    },
    {
      "cell_type": "markdown",
      "metadata": {
        "id": "xFlsB44Z0pub"
      },
      "source": [
        "### Выберите самое популярное событие.\n",
        "* Посчитайте число пользователей, совершивших это событие в каждой из контрольных групп.\n",
        "* Посчитайте долю пользователей, совершивших это событие.\n",
        "* Проверьте, будет ли отличие между группами статистически достоверным.\n",
        "* Проделайте то же самое для всех других событий (удобно обернуть проверку в отдельную функцию).\n",
        "* Можно ли сказать, что разбиение на группы работает корректно?"
      ]
    },
    {
      "cell_type": "code",
      "execution_count": 30,
      "metadata": {
        "colab": {
          "base_uri": "https://localhost:8080/"
        },
        "id": "qWXVv8Uy0pub",
        "outputId": "605958fb-c1cd-4365-f027-8493d4df0724"
      },
      "outputs": [
        {
          "output_type": "stream",
          "name": "stdout",
          "text": [
            "Самым популярным событием является MainScreenAppear. Количество уникальных пользователей, совершивших это событие в группе А1 - 2450. В группе А2 - 2476, в группе В - 2493\n"
          ]
        }
      ],
      "source": [
        "#самое популярное событие\n",
        "most_popular_event = good_data.groupby('event_name') \\\n",
        "                    .agg({'user_id':'count'}) \\\n",
        "                    .sort_values(by='user_id', ascending=False) \\\n",
        "                    .reset_index() \\\n",
        "                    .iloc[0,0]\n",
        "def most_popular_event_users(data):\n",
        "    data.loc[data['event_name'] == most_popular_event]\n",
        "    most_popular_event_users = data.loc[0, 'unique_user_count']\n",
        "    return most_popular_event_users\n",
        "most_popular_event_A1_users = most_popular_event_users(users_data_A1)\n",
        "most_popular_event_A2_users = most_popular_event_users(users_data_A2)\n",
        "most_popular_event_B_users = most_popular_event_users(users_data_B)\n",
        "\n",
        "print(f'Самым популярным событием является {most_popular_event}. \\\n",
        "Количество уникальных пользователей, совершивших это событие в группе А1 - {most_popular_event_A1_users}. \\\n",
        "В группе А2 - {most_popular_event_A2_users}, в группе В - {most_popular_event_B_users}')\n"
      ]
    },
    {
      "cell_type": "markdown",
      "metadata": {
        "id": "NuYLChx20pub"
      },
      "source": [
        "Как мы выясняли в п.5.4 - общая доля пользователей, пришедших на MainScreenAppear - 98,55%"
      ]
    },
    {
      "cell_type": "code",
      "execution_count": 31,
      "metadata": {
        "colab": {
          "base_uri": "https://localhost:8080/",
          "height": 272
        },
        "id": "CCoyUjss0pub",
        "outputId": "b05f8bef-fc53-4ef0-e94a-de4ed85a6d63"
      },
      "outputs": [
        {
          "output_type": "display_data",
          "data": {
            "text/plain": [
              "         event_name  unique_user_count  user_count  unique_users  ratio_%  \\\n",
              "0  MainScreenAppear               2450       37676          2483    98.67   \n",
              "\n",
              "   %_of_prev_step  \n",
              "0             NaN  "
            ],
            "text/html": [
              "\n",
              "  <div id=\"df-98d28bc0-84a8-454a-a6b0-37befeece041\" class=\"colab-df-container\">\n",
              "    <div>\n",
              "<style scoped>\n",
              "    .dataframe tbody tr th:only-of-type {\n",
              "        vertical-align: middle;\n",
              "    }\n",
              "\n",
              "    .dataframe tbody tr th {\n",
              "        vertical-align: top;\n",
              "    }\n",
              "\n",
              "    .dataframe thead th {\n",
              "        text-align: right;\n",
              "    }\n",
              "</style>\n",
              "<table border=\"1\" class=\"dataframe\">\n",
              "  <thead>\n",
              "    <tr style=\"text-align: right;\">\n",
              "      <th></th>\n",
              "      <th>event_name</th>\n",
              "      <th>unique_user_count</th>\n",
              "      <th>user_count</th>\n",
              "      <th>unique_users</th>\n",
              "      <th>ratio_%</th>\n",
              "      <th>%_of_prev_step</th>\n",
              "    </tr>\n",
              "  </thead>\n",
              "  <tbody>\n",
              "    <tr>\n",
              "      <th>0</th>\n",
              "      <td>MainScreenAppear</td>\n",
              "      <td>2450</td>\n",
              "      <td>37676</td>\n",
              "      <td>2483</td>\n",
              "      <td>98.67</td>\n",
              "      <td>NaN</td>\n",
              "    </tr>\n",
              "  </tbody>\n",
              "</table>\n",
              "</div>\n",
              "    <div class=\"colab-df-buttons\">\n",
              "\n",
              "  <div class=\"colab-df-container\">\n",
              "    <button class=\"colab-df-convert\" onclick=\"convertToInteractive('df-98d28bc0-84a8-454a-a6b0-37befeece041')\"\n",
              "            title=\"Convert this dataframe to an interactive table.\"\n",
              "            style=\"display:none;\">\n",
              "\n",
              "  <svg xmlns=\"http://www.w3.org/2000/svg\" height=\"24px\" viewBox=\"0 -960 960 960\">\n",
              "    <path d=\"M120-120v-720h720v720H120Zm60-500h600v-160H180v160Zm220 220h160v-160H400v160Zm0 220h160v-160H400v160ZM180-400h160v-160H180v160Zm440 0h160v-160H620v160ZM180-180h160v-160H180v160Zm440 0h160v-160H620v160Z\"/>\n",
              "  </svg>\n",
              "    </button>\n",
              "\n",
              "  <style>\n",
              "    .colab-df-container {\n",
              "      display:flex;\n",
              "      gap: 12px;\n",
              "    }\n",
              "\n",
              "    .colab-df-convert {\n",
              "      background-color: #E8F0FE;\n",
              "      border: none;\n",
              "      border-radius: 50%;\n",
              "      cursor: pointer;\n",
              "      display: none;\n",
              "      fill: #1967D2;\n",
              "      height: 32px;\n",
              "      padding: 0 0 0 0;\n",
              "      width: 32px;\n",
              "    }\n",
              "\n",
              "    .colab-df-convert:hover {\n",
              "      background-color: #E2EBFA;\n",
              "      box-shadow: 0px 1px 2px rgba(60, 64, 67, 0.3), 0px 1px 3px 1px rgba(60, 64, 67, 0.15);\n",
              "      fill: #174EA6;\n",
              "    }\n",
              "\n",
              "    .colab-df-buttons div {\n",
              "      margin-bottom: 4px;\n",
              "    }\n",
              "\n",
              "    [theme=dark] .colab-df-convert {\n",
              "      background-color: #3B4455;\n",
              "      fill: #D2E3FC;\n",
              "    }\n",
              "\n",
              "    [theme=dark] .colab-df-convert:hover {\n",
              "      background-color: #434B5C;\n",
              "      box-shadow: 0px 1px 3px 1px rgba(0, 0, 0, 0.15);\n",
              "      filter: drop-shadow(0px 1px 2px rgba(0, 0, 0, 0.3));\n",
              "      fill: #FFFFFF;\n",
              "    }\n",
              "  </style>\n",
              "\n",
              "    <script>\n",
              "      const buttonEl =\n",
              "        document.querySelector('#df-98d28bc0-84a8-454a-a6b0-37befeece041 button.colab-df-convert');\n",
              "      buttonEl.style.display =\n",
              "        google.colab.kernel.accessAllowed ? 'block' : 'none';\n",
              "\n",
              "      async function convertToInteractive(key) {\n",
              "        const element = document.querySelector('#df-98d28bc0-84a8-454a-a6b0-37befeece041');\n",
              "        const dataTable =\n",
              "          await google.colab.kernel.invokeFunction('convertToInteractive',\n",
              "                                                    [key], {});\n",
              "        if (!dataTable) return;\n",
              "\n",
              "        const docLinkHtml = 'Like what you see? Visit the ' +\n",
              "          '<a target=\"_blank\" href=https://colab.research.google.com/notebooks/data_table.ipynb>data table notebook</a>'\n",
              "          + ' to learn more about interactive tables.';\n",
              "        element.innerHTML = '';\n",
              "        dataTable['output_type'] = 'display_data';\n",
              "        await google.colab.output.renderOutput(dataTable, element);\n",
              "        const docLink = document.createElement('div');\n",
              "        docLink.innerHTML = docLinkHtml;\n",
              "        element.appendChild(docLink);\n",
              "      }\n",
              "    </script>\n",
              "  </div>\n",
              "\n",
              "    </div>\n",
              "  </div>\n"
            ]
          },
          "metadata": {}
        },
        {
          "output_type": "display_data",
          "data": {
            "text/plain": [
              "         event_name  unique_user_count  user_count  unique_users  ratio_%  \\\n",
              "0  MainScreenAppear               2476       39090          2512    98.57   \n",
              "\n",
              "   %_of_prev_step  \n",
              "0             NaN  "
            ],
            "text/html": [
              "\n",
              "  <div id=\"df-36477d70-ab6c-4136-b61d-767a4d22555e\" class=\"colab-df-container\">\n",
              "    <div>\n",
              "<style scoped>\n",
              "    .dataframe tbody tr th:only-of-type {\n",
              "        vertical-align: middle;\n",
              "    }\n",
              "\n",
              "    .dataframe tbody tr th {\n",
              "        vertical-align: top;\n",
              "    }\n",
              "\n",
              "    .dataframe thead th {\n",
              "        text-align: right;\n",
              "    }\n",
              "</style>\n",
              "<table border=\"1\" class=\"dataframe\">\n",
              "  <thead>\n",
              "    <tr style=\"text-align: right;\">\n",
              "      <th></th>\n",
              "      <th>event_name</th>\n",
              "      <th>unique_user_count</th>\n",
              "      <th>user_count</th>\n",
              "      <th>unique_users</th>\n",
              "      <th>ratio_%</th>\n",
              "      <th>%_of_prev_step</th>\n",
              "    </tr>\n",
              "  </thead>\n",
              "  <tbody>\n",
              "    <tr>\n",
              "      <th>0</th>\n",
              "      <td>MainScreenAppear</td>\n",
              "      <td>2476</td>\n",
              "      <td>39090</td>\n",
              "      <td>2512</td>\n",
              "      <td>98.57</td>\n",
              "      <td>NaN</td>\n",
              "    </tr>\n",
              "  </tbody>\n",
              "</table>\n",
              "</div>\n",
              "    <div class=\"colab-df-buttons\">\n",
              "\n",
              "  <div class=\"colab-df-container\">\n",
              "    <button class=\"colab-df-convert\" onclick=\"convertToInteractive('df-36477d70-ab6c-4136-b61d-767a4d22555e')\"\n",
              "            title=\"Convert this dataframe to an interactive table.\"\n",
              "            style=\"display:none;\">\n",
              "\n",
              "  <svg xmlns=\"http://www.w3.org/2000/svg\" height=\"24px\" viewBox=\"0 -960 960 960\">\n",
              "    <path d=\"M120-120v-720h720v720H120Zm60-500h600v-160H180v160Zm220 220h160v-160H400v160Zm0 220h160v-160H400v160ZM180-400h160v-160H180v160Zm440 0h160v-160H620v160ZM180-180h160v-160H180v160Zm440 0h160v-160H620v160Z\"/>\n",
              "  </svg>\n",
              "    </button>\n",
              "\n",
              "  <style>\n",
              "    .colab-df-container {\n",
              "      display:flex;\n",
              "      gap: 12px;\n",
              "    }\n",
              "\n",
              "    .colab-df-convert {\n",
              "      background-color: #E8F0FE;\n",
              "      border: none;\n",
              "      border-radius: 50%;\n",
              "      cursor: pointer;\n",
              "      display: none;\n",
              "      fill: #1967D2;\n",
              "      height: 32px;\n",
              "      padding: 0 0 0 0;\n",
              "      width: 32px;\n",
              "    }\n",
              "\n",
              "    .colab-df-convert:hover {\n",
              "      background-color: #E2EBFA;\n",
              "      box-shadow: 0px 1px 2px rgba(60, 64, 67, 0.3), 0px 1px 3px 1px rgba(60, 64, 67, 0.15);\n",
              "      fill: #174EA6;\n",
              "    }\n",
              "\n",
              "    .colab-df-buttons div {\n",
              "      margin-bottom: 4px;\n",
              "    }\n",
              "\n",
              "    [theme=dark] .colab-df-convert {\n",
              "      background-color: #3B4455;\n",
              "      fill: #D2E3FC;\n",
              "    }\n",
              "\n",
              "    [theme=dark] .colab-df-convert:hover {\n",
              "      background-color: #434B5C;\n",
              "      box-shadow: 0px 1px 3px 1px rgba(0, 0, 0, 0.15);\n",
              "      filter: drop-shadow(0px 1px 2px rgba(0, 0, 0, 0.3));\n",
              "      fill: #FFFFFF;\n",
              "    }\n",
              "  </style>\n",
              "\n",
              "    <script>\n",
              "      const buttonEl =\n",
              "        document.querySelector('#df-36477d70-ab6c-4136-b61d-767a4d22555e button.colab-df-convert');\n",
              "      buttonEl.style.display =\n",
              "        google.colab.kernel.accessAllowed ? 'block' : 'none';\n",
              "\n",
              "      async function convertToInteractive(key) {\n",
              "        const element = document.querySelector('#df-36477d70-ab6c-4136-b61d-767a4d22555e');\n",
              "        const dataTable =\n",
              "          await google.colab.kernel.invokeFunction('convertToInteractive',\n",
              "                                                    [key], {});\n",
              "        if (!dataTable) return;\n",
              "\n",
              "        const docLinkHtml = 'Like what you see? Visit the ' +\n",
              "          '<a target=\"_blank\" href=https://colab.research.google.com/notebooks/data_table.ipynb>data table notebook</a>'\n",
              "          + ' to learn more about interactive tables.';\n",
              "        element.innerHTML = '';\n",
              "        dataTable['output_type'] = 'display_data';\n",
              "        await google.colab.output.renderOutput(dataTable, element);\n",
              "        const docLink = document.createElement('div');\n",
              "        docLink.innerHTML = docLinkHtml;\n",
              "        element.appendChild(docLink);\n",
              "      }\n",
              "    </script>\n",
              "  </div>\n",
              "\n",
              "    </div>\n",
              "  </div>\n"
            ]
          },
          "metadata": {}
        },
        {
          "output_type": "display_data",
          "data": {
            "text/plain": [
              "         event_name  unique_user_count  user_count  unique_users  ratio_%  \\\n",
              "0  MainScreenAppear               2493       40562          2535    98.34   \n",
              "\n",
              "   %_of_prev_step  \n",
              "0             NaN  "
            ],
            "text/html": [
              "\n",
              "  <div id=\"df-b904498f-db1b-43f3-89f2-fa98f1984bc6\" class=\"colab-df-container\">\n",
              "    <div>\n",
              "<style scoped>\n",
              "    .dataframe tbody tr th:only-of-type {\n",
              "        vertical-align: middle;\n",
              "    }\n",
              "\n",
              "    .dataframe tbody tr th {\n",
              "        vertical-align: top;\n",
              "    }\n",
              "\n",
              "    .dataframe thead th {\n",
              "        text-align: right;\n",
              "    }\n",
              "</style>\n",
              "<table border=\"1\" class=\"dataframe\">\n",
              "  <thead>\n",
              "    <tr style=\"text-align: right;\">\n",
              "      <th></th>\n",
              "      <th>event_name</th>\n",
              "      <th>unique_user_count</th>\n",
              "      <th>user_count</th>\n",
              "      <th>unique_users</th>\n",
              "      <th>ratio_%</th>\n",
              "      <th>%_of_prev_step</th>\n",
              "    </tr>\n",
              "  </thead>\n",
              "  <tbody>\n",
              "    <tr>\n",
              "      <th>0</th>\n",
              "      <td>MainScreenAppear</td>\n",
              "      <td>2493</td>\n",
              "      <td>40562</td>\n",
              "      <td>2535</td>\n",
              "      <td>98.34</td>\n",
              "      <td>NaN</td>\n",
              "    </tr>\n",
              "  </tbody>\n",
              "</table>\n",
              "</div>\n",
              "    <div class=\"colab-df-buttons\">\n",
              "\n",
              "  <div class=\"colab-df-container\">\n",
              "    <button class=\"colab-df-convert\" onclick=\"convertToInteractive('df-b904498f-db1b-43f3-89f2-fa98f1984bc6')\"\n",
              "            title=\"Convert this dataframe to an interactive table.\"\n",
              "            style=\"display:none;\">\n",
              "\n",
              "  <svg xmlns=\"http://www.w3.org/2000/svg\" height=\"24px\" viewBox=\"0 -960 960 960\">\n",
              "    <path d=\"M120-120v-720h720v720H120Zm60-500h600v-160H180v160Zm220 220h160v-160H400v160Zm0 220h160v-160H400v160ZM180-400h160v-160H180v160Zm440 0h160v-160H620v160ZM180-180h160v-160H180v160Zm440 0h160v-160H620v160Z\"/>\n",
              "  </svg>\n",
              "    </button>\n",
              "\n",
              "  <style>\n",
              "    .colab-df-container {\n",
              "      display:flex;\n",
              "      gap: 12px;\n",
              "    }\n",
              "\n",
              "    .colab-df-convert {\n",
              "      background-color: #E8F0FE;\n",
              "      border: none;\n",
              "      border-radius: 50%;\n",
              "      cursor: pointer;\n",
              "      display: none;\n",
              "      fill: #1967D2;\n",
              "      height: 32px;\n",
              "      padding: 0 0 0 0;\n",
              "      width: 32px;\n",
              "    }\n",
              "\n",
              "    .colab-df-convert:hover {\n",
              "      background-color: #E2EBFA;\n",
              "      box-shadow: 0px 1px 2px rgba(60, 64, 67, 0.3), 0px 1px 3px 1px rgba(60, 64, 67, 0.15);\n",
              "      fill: #174EA6;\n",
              "    }\n",
              "\n",
              "    .colab-df-buttons div {\n",
              "      margin-bottom: 4px;\n",
              "    }\n",
              "\n",
              "    [theme=dark] .colab-df-convert {\n",
              "      background-color: #3B4455;\n",
              "      fill: #D2E3FC;\n",
              "    }\n",
              "\n",
              "    [theme=dark] .colab-df-convert:hover {\n",
              "      background-color: #434B5C;\n",
              "      box-shadow: 0px 1px 3px 1px rgba(0, 0, 0, 0.15);\n",
              "      filter: drop-shadow(0px 1px 2px rgba(0, 0, 0, 0.3));\n",
              "      fill: #FFFFFF;\n",
              "    }\n",
              "  </style>\n",
              "\n",
              "    <script>\n",
              "      const buttonEl =\n",
              "        document.querySelector('#df-b904498f-db1b-43f3-89f2-fa98f1984bc6 button.colab-df-convert');\n",
              "      buttonEl.style.display =\n",
              "        google.colab.kernel.accessAllowed ? 'block' : 'none';\n",
              "\n",
              "      async function convertToInteractive(key) {\n",
              "        const element = document.querySelector('#df-b904498f-db1b-43f3-89f2-fa98f1984bc6');\n",
              "        const dataTable =\n",
              "          await google.colab.kernel.invokeFunction('convertToInteractive',\n",
              "                                                    [key], {});\n",
              "        if (!dataTable) return;\n",
              "\n",
              "        const docLinkHtml = 'Like what you see? Visit the ' +\n",
              "          '<a target=\"_blank\" href=https://colab.research.google.com/notebooks/data_table.ipynb>data table notebook</a>'\n",
              "          + ' to learn more about interactive tables.';\n",
              "        element.innerHTML = '';\n",
              "        dataTable['output_type'] = 'display_data';\n",
              "        await google.colab.output.renderOutput(dataTable, element);\n",
              "        const docLink = document.createElement('div');\n",
              "        docLink.innerHTML = docLinkHtml;\n",
              "        element.appendChild(docLink);\n",
              "      }\n",
              "    </script>\n",
              "  </div>\n",
              "\n",
              "    </div>\n",
              "  </div>\n"
            ]
          },
          "metadata": {}
        },
        {
          "output_type": "display_data",
          "data": {
            "text/plain": [
              "         event_name  user_count  unique_users  ratio_%  %_of_prev_step\n",
              "0  MainScreenAppear        7419          7530    98.53             NaN"
            ],
            "text/html": [
              "\n",
              "  <div id=\"df-6a00726e-f504-4966-991a-22c6dec65159\" class=\"colab-df-container\">\n",
              "    <div>\n",
              "<style scoped>\n",
              "    .dataframe tbody tr th:only-of-type {\n",
              "        vertical-align: middle;\n",
              "    }\n",
              "\n",
              "    .dataframe tbody tr th {\n",
              "        vertical-align: top;\n",
              "    }\n",
              "\n",
              "    .dataframe thead th {\n",
              "        text-align: right;\n",
              "    }\n",
              "</style>\n",
              "<table border=\"1\" class=\"dataframe\">\n",
              "  <thead>\n",
              "    <tr style=\"text-align: right;\">\n",
              "      <th></th>\n",
              "      <th>event_name</th>\n",
              "      <th>user_count</th>\n",
              "      <th>unique_users</th>\n",
              "      <th>ratio_%</th>\n",
              "      <th>%_of_prev_step</th>\n",
              "    </tr>\n",
              "  </thead>\n",
              "  <tbody>\n",
              "    <tr>\n",
              "      <th>0</th>\n",
              "      <td>MainScreenAppear</td>\n",
              "      <td>7419</td>\n",
              "      <td>7530</td>\n",
              "      <td>98.53</td>\n",
              "      <td>NaN</td>\n",
              "    </tr>\n",
              "  </tbody>\n",
              "</table>\n",
              "</div>\n",
              "    <div class=\"colab-df-buttons\">\n",
              "\n",
              "  <div class=\"colab-df-container\">\n",
              "    <button class=\"colab-df-convert\" onclick=\"convertToInteractive('df-6a00726e-f504-4966-991a-22c6dec65159')\"\n",
              "            title=\"Convert this dataframe to an interactive table.\"\n",
              "            style=\"display:none;\">\n",
              "\n",
              "  <svg xmlns=\"http://www.w3.org/2000/svg\" height=\"24px\" viewBox=\"0 -960 960 960\">\n",
              "    <path d=\"M120-120v-720h720v720H120Zm60-500h600v-160H180v160Zm220 220h160v-160H400v160Zm0 220h160v-160H400v160ZM180-400h160v-160H180v160Zm440 0h160v-160H620v160ZM180-180h160v-160H180v160Zm440 0h160v-160H620v160Z\"/>\n",
              "  </svg>\n",
              "    </button>\n",
              "\n",
              "  <style>\n",
              "    .colab-df-container {\n",
              "      display:flex;\n",
              "      gap: 12px;\n",
              "    }\n",
              "\n",
              "    .colab-df-convert {\n",
              "      background-color: #E8F0FE;\n",
              "      border: none;\n",
              "      border-radius: 50%;\n",
              "      cursor: pointer;\n",
              "      display: none;\n",
              "      fill: #1967D2;\n",
              "      height: 32px;\n",
              "      padding: 0 0 0 0;\n",
              "      width: 32px;\n",
              "    }\n",
              "\n",
              "    .colab-df-convert:hover {\n",
              "      background-color: #E2EBFA;\n",
              "      box-shadow: 0px 1px 2px rgba(60, 64, 67, 0.3), 0px 1px 3px 1px rgba(60, 64, 67, 0.15);\n",
              "      fill: #174EA6;\n",
              "    }\n",
              "\n",
              "    .colab-df-buttons div {\n",
              "      margin-bottom: 4px;\n",
              "    }\n",
              "\n",
              "    [theme=dark] .colab-df-convert {\n",
              "      background-color: #3B4455;\n",
              "      fill: #D2E3FC;\n",
              "    }\n",
              "\n",
              "    [theme=dark] .colab-df-convert:hover {\n",
              "      background-color: #434B5C;\n",
              "      box-shadow: 0px 1px 3px 1px rgba(0, 0, 0, 0.15);\n",
              "      filter: drop-shadow(0px 1px 2px rgba(0, 0, 0, 0.3));\n",
              "      fill: #FFFFFF;\n",
              "    }\n",
              "  </style>\n",
              "\n",
              "    <script>\n",
              "      const buttonEl =\n",
              "        document.querySelector('#df-6a00726e-f504-4966-991a-22c6dec65159 button.colab-df-convert');\n",
              "      buttonEl.style.display =\n",
              "        google.colab.kernel.accessAllowed ? 'block' : 'none';\n",
              "\n",
              "      async function convertToInteractive(key) {\n",
              "        const element = document.querySelector('#df-6a00726e-f504-4966-991a-22c6dec65159');\n",
              "        const dataTable =\n",
              "          await google.colab.kernel.invokeFunction('convertToInteractive',\n",
              "                                                    [key], {});\n",
              "        if (!dataTable) return;\n",
              "\n",
              "        const docLinkHtml = 'Like what you see? Visit the ' +\n",
              "          '<a target=\"_blank\" href=https://colab.research.google.com/notebooks/data_table.ipynb>data table notebook</a>'\n",
              "          + ' to learn more about interactive tables.';\n",
              "        element.innerHTML = '';\n",
              "        dataTable['output_type'] = 'display_data';\n",
              "        await google.colab.output.renderOutput(dataTable, element);\n",
              "        const docLink = document.createElement('div');\n",
              "        docLink.innerHTML = docLinkHtml;\n",
              "        element.appendChild(docLink);\n",
              "      }\n",
              "    </script>\n",
              "  </div>\n",
              "\n",
              "    </div>\n",
              "  </div>\n"
            ]
          },
          "metadata": {}
        }
      ],
      "source": [
        "display (users_data_A1.loc[:0])\n",
        "display (users_data_A2.loc[:0])\n",
        "display (users_data_B.loc[:0])\n",
        "display (users_data.loc[:0])"
      ]
    },
    {
      "cell_type": "markdown",
      "metadata": {
        "id": "nA_y5zy_0pub"
      },
      "source": [
        "Доли пользователей, пришедших на MainScreenAppear по группам:\n",
        "\n",
        "А1 - 98,67%\n",
        "\n",
        "А2 - 98,57%\n",
        "\n",
        "B - 98.34%"
      ]
    },
    {
      "cell_type": "markdown",
      "metadata": {
        "id": "48pWXNwQ0puc"
      },
      "source": [
        "Проверим, будет ли отличие между группами статистически достоверным.\n",
        "Опять же за нулевую гипотезу возьмем, что группы одинаковы. За альтернативную гипотезу - что группы разные"
      ]
    },
    {
      "cell_type": "code",
      "execution_count": 32,
      "metadata": {
        "id": "xxksUzJR0puc"
      },
      "outputs": [],
      "source": [
        "# названия колонок в Users_data немного отличаются - приведем к общему виду\n",
        "users_data.columns = ['event_name', 'unique_user_count', 'unique_users', 'ratio_%', '%_of_prev_step']"
      ]
    },
    {
      "cell_type": "code",
      "execution_count": 33,
      "metadata": {
        "id": "5gDwWgnn0puc"
      },
      "outputs": [],
      "source": [
        "#напишем функцию. В качестве аргументов она будет принимать датасеты для сравнения и наименование события\n",
        "def hypothesis_testing(data1, data2, event, alpha):\n",
        "    tab1 = data1.loc[data1['event_name'] == event]\n",
        "    tab2 = data2.loc[data2['event_name'] == event]\n",
        "    # пропорция успехов в первой группе\n",
        "    p1 = tab1['unique_user_count'].iloc[0] / tab1['unique_users'].iloc[0]\n",
        "# пропорция успехов во второй группе:\n",
        "    p2 = tab2['unique_user_count'].iloc[0] / tab2['unique_users'].iloc[0]\n",
        "\n",
        "# пропорция успехов в комбинированном датасете:\n",
        "    p_combined = (tab1['unique_user_count'].iloc[0] + tab2['unique_user_count'].iloc[0]) / \\\n",
        "            (tab1['unique_users'].iloc[0] + tab2['unique_users'].iloc[0])\n",
        "# разница пропорций в датасетах\n",
        "    difference = p1 - p2\n",
        "\n",
        "# считаем статистику в ст.отклонениях стандартного нормального распределения\n",
        "    z_value = difference / mth.sqrt(p_combined * (1 - p_combined) * \\\n",
        "                (1/tab1['unique_users'].iloc[0] + 1/tab2['unique_users'].iloc[0]))\n",
        "# задаем стандартное нормальное распределение (среднее 0, ст.отклонение 1)\n",
        "    distr = st.norm(0, 1)\n",
        "    p_value = (1 - distr.cdf(abs(z_value))) * 2\n",
        "    print('p-значение: ', p_value)\n",
        "    print('уровень значимости: ', alpha)\n",
        "    if p_value < alpha:\n",
        "        print(f'Отвергаем нулевую гипотезу: между группами есть значимая разница')\n",
        "    else:\n",
        "        print(f'Не получилось отвергнуть нулевую гипотезу, нет оснований считать группы разными')"
      ]
    },
    {
      "cell_type": "code",
      "execution_count": 34,
      "metadata": {
        "scrolled": true,
        "colab": {
          "base_uri": "https://localhost:8080/"
        },
        "id": "wdZog3eW0puc",
        "outputId": "59b96f4f-32f5-473c-a192-c8312add7f95"
      },
      "outputs": [
        {
          "output_type": "stream",
          "name": "stdout",
          "text": [
            "p-значение:  0.7526703436483038\n",
            "уровень значимости:  0.05\n",
            "Не получилось отвергнуть нулевую гипотезу, нет оснований считать группы разными\n"
          ]
        }
      ],
      "source": [
        "hypothesis_testing(users_data_A1, users_data_A2, 'MainScreenAppear', 0.05)\n"
      ]
    },
    {
      "cell_type": "markdown",
      "metadata": {
        "id": "ryUbouLt0puc"
      },
      "source": [
        "По событию MainScreenAppear между группами А1 и А2 нет статистической разницы."
      ]
    },
    {
      "cell_type": "code",
      "execution_count": 35,
      "metadata": {
        "scrolled": false,
        "colab": {
          "base_uri": "https://localhost:8080/"
        },
        "id": "Ro0ZKYno0puc",
        "outputId": "248b430d-649d-44f5-d76a-295f1530d513"
      },
      "outputs": [
        {
          "output_type": "stream",
          "name": "stdout",
          "text": [
            "\n",
            "Для события MainScreenAppear\n",
            "\n",
            "Группа А1 и группа А2\n",
            "p-значение:  0.7526703436483038\n",
            "уровень значимости:  0.05\n",
            "Не получилось отвергнуть нулевую гипотезу, нет оснований считать группы разными\n",
            "\n",
            "Для события OffersScreenAppear\n",
            "\n",
            "Группа А1 и группа А2\n",
            "p-значение:  0.24786096925282264\n",
            "уровень значимости:  0.05\n",
            "Не получилось отвергнуть нулевую гипотезу, нет оснований считать группы разными\n",
            "\n",
            "Для события CartScreenAppear\n",
            "\n",
            "Группа А1 и группа А2\n",
            "p-значение:  0.22867643757335676\n",
            "уровень значимости:  0.05\n",
            "Не получилось отвергнуть нулевую гипотезу, нет оснований считать группы разными\n",
            "\n",
            "Для события PaymentScreenSuccessful\n",
            "\n",
            "Группа А1 и группа А2\n",
            "p-значение:  0.11446627829276612\n",
            "уровень значимости:  0.05\n",
            "Не получилось отвергнуть нулевую гипотезу, нет оснований считать группы разными\n"
          ]
        }
      ],
      "source": [
        "for event in users_data['event_name']:\n",
        "    print (f'\\nДля события {event}')\n",
        "    print ('\\nГруппа А1 и группа А2')\n",
        "    hypothesis_testing(users_data_A1, users_data_A2, event, 0.05)\n",
        ""
      ]
    },
    {
      "cell_type": "markdown",
      "metadata": {
        "id": "dKEVb7BB0puc"
      },
      "source": [
        "По остальным событиям также не обнаружена статистическая разница. Таким образом делаем вывод, что разделение по группам проведено корректно"
      ]
    },
    {
      "cell_type": "markdown",
      "metadata": {
        "id": "TkXO9MfM0puc"
      },
      "source": [
        "### Аналогично поступите с группой с изменённым шрифтом. Сравните результаты с каждой из контрольных групп в отдельности по каждому событию. Сравните результаты с объединённой контрольной группой. Какие выводы из эксперимента можно сделать?"
      ]
    },
    {
      "cell_type": "markdown",
      "metadata": {
        "id": "UJVshNXA0puc"
      },
      "source": [
        "Ранее мы уже посчитали число пользователей, совершивших самое популярное событие в экспериментальной группе, а также долю пользователей. 2498 и 98,48% соответственно."
      ]
    },
    {
      "cell_type": "code",
      "execution_count": 36,
      "metadata": {
        "scrolled": false,
        "colab": {
          "base_uri": "https://localhost:8080/"
        },
        "id": "Pi_wbpJ10puc",
        "outputId": "84aa4d48-4fd0-4c06-bab4-58b9f84ccc3e"
      },
      "outputs": [
        {
          "output_type": "stream",
          "name": "stdout",
          "text": [
            "\n",
            "Для события MainScreenAppear\n",
            "\n",
            "Группа А1 и группа B\n",
            "p-значение:  0.3387114076159288\n",
            "уровень значимости:  0.05\n",
            "Не получилось отвергнуть нулевую гипотезу, нет оснований считать группы разными\n",
            "\n",
            "Группа А2 и группа B\n",
            "p-значение:  0.5194964354051703\n",
            "уровень значимости:  0.05\n",
            "Не получилось отвергнуть нулевую гипотезу, нет оснований считать группы разными\n",
            "\n",
            "Для события OffersScreenAppear\n",
            "\n",
            "Группа А1 и группа B\n",
            "p-значение:  0.21442476639710506\n",
            "уровень значимости:  0.05\n",
            "Не получилось отвергнуть нулевую гипотезу, нет оснований считать группы разными\n",
            "\n",
            "Группа А2 и группа B\n",
            "p-значение:  0.9333751305879443\n",
            "уровень значимости:  0.05\n",
            "Не получилось отвергнуть нулевую гипотезу, нет оснований считать группы разными\n",
            "\n",
            "Для события CartScreenAppear\n",
            "\n",
            "Группа А1 и группа B\n",
            "p-значение:  0.08067367598823139\n",
            "уровень значимости:  0.05\n",
            "Не получилось отвергнуть нулевую гипотезу, нет оснований считать группы разными\n",
            "\n",
            "Группа А2 и группа B\n",
            "p-значение:  0.5878284605111943\n",
            "уровень значимости:  0.05\n",
            "Не получилось отвергнуть нулевую гипотезу, нет оснований считать группы разными\n",
            "\n",
            "Для события PaymentScreenSuccessful\n",
            "\n",
            "Группа А1 и группа B\n",
            "p-значение:  0.21693033984516674\n",
            "уровень значимости:  0.05\n",
            "Не получилось отвергнуть нулевую гипотезу, нет оснований считать группы разными\n",
            "\n",
            "Группа А2 и группа B\n",
            "p-значение:  0.7275718682261119\n",
            "уровень значимости:  0.05\n",
            "Не получилось отвергнуть нулевую гипотезу, нет оснований считать группы разными\n"
          ]
        }
      ],
      "source": [
        "for event in users_data['event_name']:\n",
        "    print (f'\\nДля события {event}')\n",
        "    print ('\\nГруппа А1 и группа B')\n",
        "    hypothesis_testing(users_data_A1, users_data_B, event, 0.05)\n",
        "    print ('\\nГруппа А2 и группа B')\n",
        "    hypothesis_testing(users_data_A2, users_data_B, event, 0.05)"
      ]
    },
    {
      "cell_type": "code",
      "execution_count": 37,
      "metadata": {
        "scrolled": false,
        "colab": {
          "base_uri": "https://localhost:8080/"
        },
        "id": "pfkiDCnv0puc",
        "outputId": "4f72a9e7-7178-4f40-ccc6-d3c36b78b1b5"
      },
      "outputs": [
        {
          "output_type": "stream",
          "name": "stdout",
          "text": [
            "\n",
            "Для события MainScreenAppear\n",
            "\n",
            "Группа А12 и группа B\n",
            "p-значение:  0.3486684291093256\n",
            "уровень значимости:  0.05\n",
            "Не получилось отвергнуть нулевую гипотезу, нет оснований считать группы разными\n",
            "\n",
            "Для события OffersScreenAppear\n",
            "\n",
            "Группа А12 и группа B\n",
            "p-значение:  0.44582745409482394\n",
            "уровень значимости:  0.05\n",
            "Не получилось отвергнуть нулевую гипотезу, нет оснований считать группы разными\n",
            "\n",
            "Для события CartScreenAppear\n",
            "\n",
            "Группа А12 и группа B\n",
            "p-значение:  0.18683558686831558\n",
            "уровень значимости:  0.05\n",
            "Не получилось отвергнуть нулевую гипотезу, нет оснований считать группы разными\n",
            "\n",
            "Для события PaymentScreenSuccessful\n",
            "\n",
            "Группа А12 и группа B\n",
            "p-значение:  0.6107918742187335\n",
            "уровень значимости:  0.05\n",
            "Не получилось отвергнуть нулевую гипотезу, нет оснований считать группы разными\n"
          ]
        }
      ],
      "source": [
        "#создадим объединенную группу\n",
        "good_data_A12 = good_data.query('group == [246, 247]').reset_index(drop=True)\n",
        "users_data_A12 = user_data(good_data_A12)\n",
        "users_data_A12\n",
        "\n",
        "for event in users_data['event_name']:\n",
        "    print (f'\\nДля события {event}')\n",
        "    print ('\\nГруппа А12 и группа B')\n",
        "    hypothesis_testing(users_data_A12, users_data_B, event, 0.05)\n",
        ""
      ]
    },
    {
      "cell_type": "markdown",
      "metadata": {
        "id": "jCq6JqEE0puc"
      },
      "source": [
        "Из проведенного эксперимента можно сделать ввод, что изменение шрифтов никак не влияет на воронку пользователей. Все гурппы по всем событиям одинаковы."
      ]
    },
    {
      "cell_type": "markdown",
      "metadata": {
        "id": "13jKe1sz0puc"
      },
      "source": [
        "### Какой уровень значимости вы выбрали при проверке статистических гипотез выше? Посчитайте, сколько проверок статистических гипотез вы сделали. При уровне значимости 0.1 каждый десятый раз можно получать ложный результат. Какой уровень значимости стоит применить? Если вы хотите изменить его, проделайте предыдущие пункты и проверьте свои выводы."
      ]
    },
    {
      "cell_type": "markdown",
      "metadata": {
        "id": "omvhsLAN0pud"
      },
      "source": [
        "Мы провели 16 проверок статистических гипотез с уровнем значимости 0,05. При уровне значимости 0.05 каждый двадцатый раз можно получать ложный результат - ошибку 1 рода(ложнопозитивный результат). Можно снизить уровень значимости хоть до одной миллионной, но при этом мы увеличиваем возможность появления ложно негативного результата.\n",
        "Для уменьшения вероятности появления ошибок первого рода применяют различные поправки. Самой простой является поправка Бонферрони.\n",
        "Альфу делим на количество экспериментов - получаем необходимую статистическую значимость.\n",
        "\n",
        "Посчитаем поправку при *а*=0,05 и 16 экспериментах.\n",
        "\n",
        "И подставим ее в нашу функцию"
      ]
    },
    {
      "cell_type": "code",
      "execution_count": 38,
      "metadata": {
        "colab": {
          "base_uri": "https://localhost:8080/"
        },
        "id": "Zb-oE5Hl0pud",
        "outputId": "f8fdfd93-cfe7-47bf-9b4e-4370c30d630d"
      },
      "outputs": [
        {
          "output_type": "execute_result",
          "data": {
            "text/plain": [
              "0.003125"
            ]
          },
          "metadata": {},
          "execution_count": 38
        }
      ],
      "source": [
        "bonferroni = 0.05/16\n",
        "bonferroni"
      ]
    },
    {
      "cell_type": "code",
      "execution_count": 39,
      "metadata": {
        "colab": {
          "base_uri": "https://localhost:8080/"
        },
        "id": "m_8Y6n6F0pud",
        "outputId": "c1194d54-3d38-49fd-92e1-b6db3aef04fc"
      },
      "outputs": [
        {
          "output_type": "stream",
          "name": "stdout",
          "text": [
            "\n",
            "Для события MainScreenAppear\n",
            "\n",
            "Группа А1 и группа А2\n",
            "p-значение:  1.0\n",
            "уровень значимости:  0.003125\n",
            "Не получилось отвергнуть нулевую гипотезу, нет оснований считать группы разными\n",
            "\n",
            "Группа А1 и группа B\n",
            "p-значение:  0.3387114076159288\n",
            "уровень значимости:  0.003125\n",
            "Не получилось отвергнуть нулевую гипотезу, нет оснований считать группы разными\n",
            "\n",
            "Группа А2 и группа B\n",
            "p-значение:  0.3486684291093256\n",
            "уровень значимости:  0.003125\n",
            "Не получилось отвергнуть нулевую гипотезу, нет оснований считать группы разными\n",
            "\n",
            "Группа А12 и группа B\n",
            "p-значение:  0.3486684291093256\n",
            "уровень значимости:  0.003125\n",
            "Не получилось отвергнуть нулевую гипотезу, нет оснований считать группы разными\n",
            "\n",
            "Для события OffersScreenAppear\n",
            "\n",
            "Группа А1 и группа А2\n",
            "p-значение:  1.0\n",
            "уровень значимости:  0.003125\n",
            "Не получилось отвергнуть нулевую гипотезу, нет оснований считать группы разными\n",
            "\n",
            "Группа А1 и группа B\n",
            "p-значение:  0.21442476639710506\n",
            "уровень значимости:  0.003125\n",
            "Не получилось отвергнуть нулевую гипотезу, нет оснований считать группы разными\n",
            "\n",
            "Группа А2 и группа B\n",
            "p-значение:  0.44582745409482394\n",
            "уровень значимости:  0.003125\n",
            "Не получилось отвергнуть нулевую гипотезу, нет оснований считать группы разными\n",
            "\n",
            "Группа А12 и группа B\n",
            "p-значение:  0.44582745409482394\n",
            "уровень значимости:  0.003125\n",
            "Не получилось отвергнуть нулевую гипотезу, нет оснований считать группы разными\n",
            "\n",
            "Для события CartScreenAppear\n",
            "\n",
            "Группа А1 и группа А2\n",
            "p-значение:  1.0\n",
            "уровень значимости:  0.003125\n",
            "Не получилось отвергнуть нулевую гипотезу, нет оснований считать группы разными\n",
            "\n",
            "Группа А1 и группа B\n",
            "p-значение:  0.08067367598823139\n",
            "уровень значимости:  0.003125\n",
            "Не получилось отвергнуть нулевую гипотезу, нет оснований считать группы разными\n",
            "\n",
            "Группа А2 и группа B\n",
            "p-значение:  0.18683558686831558\n",
            "уровень значимости:  0.003125\n",
            "Не получилось отвергнуть нулевую гипотезу, нет оснований считать группы разными\n",
            "\n",
            "Группа А12 и группа B\n",
            "p-значение:  0.18683558686831558\n",
            "уровень значимости:  0.003125\n",
            "Не получилось отвергнуть нулевую гипотезу, нет оснований считать группы разными\n",
            "\n",
            "Для события PaymentScreenSuccessful\n",
            "\n",
            "Группа А1 и группа А2\n",
            "p-значение:  1.0\n",
            "уровень значимости:  0.003125\n",
            "Не получилось отвергнуть нулевую гипотезу, нет оснований считать группы разными\n",
            "\n",
            "Группа А1 и группа B\n",
            "p-значение:  0.21693033984516674\n",
            "уровень значимости:  0.003125\n",
            "Не получилось отвергнуть нулевую гипотезу, нет оснований считать группы разными\n",
            "\n",
            "Группа А2 и группа B\n",
            "p-значение:  0.6107918742187335\n",
            "уровень значимости:  0.003125\n",
            "Не получилось отвергнуть нулевую гипотезу, нет оснований считать группы разными\n",
            "\n",
            "Группа А12 и группа B\n",
            "p-значение:  0.6107918742187335\n",
            "уровень значимости:  0.003125\n",
            "Не получилось отвергнуть нулевую гипотезу, нет оснований считать группы разными\n"
          ]
        }
      ],
      "source": [
        "for event in users_data['event_name']:\n",
        "    print (f'\\nДля события {event}')\n",
        "    print ('\\nГруппа А1 и группа А2')\n",
        "    hypothesis_testing(users_data_A1, users_data_A1, event, bonferroni)\n",
        "    print ('\\nГруппа А1 и группа B')\n",
        "    hypothesis_testing(users_data_A1, users_data_B, event, bonferroni)\n",
        "    print ('\\nГруппа А2 и группа B')\n",
        "    hypothesis_testing(users_data_A12, users_data_B, event, bonferroni)\n",
        "    print ('\\nГруппа А12 и группа B')\n",
        "    hypothesis_testing(users_data_A12, users_data_B, event, bonferroni)"
      ]
    },
    {
      "cell_type": "markdown",
      "metadata": {
        "id": "W9vob-sk0pud"
      },
      "source": [
        "При изменении уровня значимости до рассчитанного с помощью поправки Бонферрони наша нулевая гипотеза - то, что между группами нет разницы подтверждается. (точнее - не отвергается)\n",
        "\n",
        "Таким образом делаем вывод, что нет нужды в изменении шрифтов, т.к. это не позволит увеличить конверсию ни на одном этапе."
      ]
    },
    {
      "cell_type": "markdown",
      "metadata": {
        "id": "l1n0di9i0pud"
      },
      "source": [
        "Мы получили логи проведенного A/A/B-теста, в котором экспериментальной группе были изменены шрифты в мобильном приложении. Нашей задачей было выяснить – какой шрифт лучше для пользователя  – старый или обновленный.\n",
        "Мы подготовили данные на первом  и втором шаге, доработки почти не потребовалось.\n",
        "\n",
        "После изучения данных мы обнаружили следующее:\n",
        "- Типов событий в логе -  5;\n",
        "- Уникальных пользователей в логе -  7551;\n",
        "- Среднее количество событий на одного пользователя : 32.28\n",
        "- данные в логе за временной промежуток 25-07-19 – 07-08-19;\n",
        "- по факту тест проводился с 01-08-19 по 07-08-19, данные за более ранние даты – старые логи из прошлого.\n",
        "- в результате чистки мы потеряли 1,16% событий и 0,23% пользователей;\n",
        "- Пользователи были разбиты на 3 группы в почти равных пропорциях\n",
        "- Воронка пользования приложения представляет собой следующие события - \"MainScreenAppear\" -> \"OffersScreenAppear\" -> \"CartScreenAppear\" -> \"PaymentScreenSuccessful\".\n",
        "- Событие \"Tutorial\" являтся обучением пользования программы и не является обязательным для пользователя. Его можно не учитывать.\n",
        "- Количество уникальных пользователей в группе 246 -  2483\n",
        "- Количество уникальных пользователей в группе 247 -  2512\n",
        "- Количество уникальных пользователей в группе 247 -  2535\n",
        "\n",
        "Мы построили таблицы для каждой группы, где данные были разбиты по воронке событий, были посчитаны относительные доли пользователей на каждом этапе, а также соотношения пользователи к предыдущему этапу.\n",
        "Пользователи  разбиты на группы А1 (контрольная), А2(контрольная), В(экспериментальная)\n",
        "\n",
        "После мы начали проверять -существуют ли статистическая разница между группами. Были проверены соотношения между группами А1 - А2, А1-В, А2-В. Также создали объеиненню контрольную группу А12 и проверили соотношение между А12-В.\n",
        "\n",
        "Проверялись следующие гипотезы:\n",
        "\n",
        "**Нулевая гипотеза**: доли уникальных посетителей, побывавших на этапе воронки, одинаковы.\n",
        "\n",
        "**Альтернативная гипотеза**: между долями уникальных посетителей, побывавших на этапе воронки, есть значимая разница.\n",
        "\n",
        "Проверка проводилась по каждому событию(всего 4 события)\n",
        "\n",
        "Результат статистической проверки не позволил опровергнуть нулевую гипотезу ни на одном этапе проверки.\n",
        "Т.к. проверок получилось 16, а это немало, то увеличивается возможность ошибки 1 рода(ложнопозитивный результат). Для уменьшения данной ошибки применили поправку Бонферрони и провели проверки заново уже со скорректированным уровнем статистической значимости. После повторной проверки снова не удалось опровергнуть нулевую гипотезу.\n",
        "\n",
        "По результатам проведенного А/В теста можно сделать вывод, что изменение шрифтов вообще никак не повлияло на конверсию пользователей ни на одном этапе пользования приложением.\n",
        "\n",
        "Вообще воронка событий пользователя выглядит достаточно плавной Не зная других параметров приложения, специфики товара – сложно предложить конкретные действия по улучшению конверсии.\n",
        "Тем не менее – чтобы увеличить конверсию перехода на OffersScreenAppear -предлагается выводить на главный экран предложения товаров по акции и со скидками.\n"
      ]
    }
  ],
  "metadata": {
    "ExecuteTimeLog": [
      {
        "duration": 446,
        "start_time": "2023-05-08T19:46:37.452Z"
      },
      {
        "duration": 919,
        "start_time": "2023-05-08T19:47:16.696Z"
      },
      {
        "duration": 15,
        "start_time": "2023-05-08T19:47:33.383Z"
      },
      {
        "duration": 163,
        "start_time": "2023-05-08T19:47:51.223Z"
      },
      {
        "duration": 10,
        "start_time": "2023-05-08T19:47:52.742Z"
      },
      {
        "duration": 32,
        "start_time": "2023-05-08T19:48:27.542Z"
      },
      {
        "duration": 78,
        "start_time": "2023-05-08T19:50:33.719Z"
      },
      {
        "duration": 74,
        "start_time": "2023-05-08T19:50:47.958Z"
      },
      {
        "duration": 167,
        "start_time": "2023-05-08T19:55:38.082Z"
      },
      {
        "duration": 80,
        "start_time": "2023-05-08T19:55:46.120Z"
      },
      {
        "duration": 86,
        "start_time": "2023-05-08T19:57:25.465Z"
      },
      {
        "duration": 2,
        "start_time": "2023-05-08T19:57:41.233Z"
      },
      {
        "duration": 188,
        "start_time": "2023-05-08T19:57:44.056Z"
      },
      {
        "duration": 54,
        "start_time": "2023-05-08T20:00:12.527Z"
      },
      {
        "duration": 66,
        "start_time": "2023-05-08T20:00:46.854Z"
      },
      {
        "duration": 114,
        "start_time": "2023-05-08T20:00:56.182Z"
      },
      {
        "duration": 3,
        "start_time": "2023-05-08T20:01:19.038Z"
      },
      {
        "duration": 3,
        "start_time": "2023-05-08T20:01:21.334Z"
      },
      {
        "duration": 11,
        "start_time": "2023-05-08T20:03:25.293Z"
      },
      {
        "duration": 2,
        "start_time": "2023-05-08T20:05:58.684Z"
      },
      {
        "duration": 750,
        "start_time": "2023-05-08T20:07:52.570Z"
      },
      {
        "duration": 10,
        "start_time": "2023-05-08T20:08:03.530Z"
      },
      {
        "duration": 8,
        "start_time": "2023-05-08T20:08:43.955Z"
      },
      {
        "duration": 50,
        "start_time": "2023-05-08T20:12:00.883Z"
      },
      {
        "duration": 54,
        "start_time": "2023-05-08T20:12:23.048Z"
      },
      {
        "duration": 18,
        "start_time": "2023-05-08T20:12:34.434Z"
      },
      {
        "duration": 418,
        "start_time": "2023-05-08T20:12:46.721Z"
      },
      {
        "duration": 171,
        "start_time": "2023-05-08T20:12:47.142Z"
      },
      {
        "duration": 98,
        "start_time": "2023-05-08T20:12:47.315Z"
      },
      {
        "duration": 143,
        "start_time": "2023-05-08T20:12:47.416Z"
      },
      {
        "duration": 8,
        "start_time": "2023-05-08T20:12:47.561Z"
      },
      {
        "duration": 60,
        "start_time": "2023-05-08T20:12:47.570Z"
      },
      {
        "duration": 66,
        "start_time": "2023-05-08T20:14:07.646Z"
      },
      {
        "duration": 411,
        "start_time": "2023-05-08T20:14:55.305Z"
      },
      {
        "duration": 157,
        "start_time": "2023-05-08T20:14:55.718Z"
      },
      {
        "duration": 83,
        "start_time": "2023-05-08T20:14:55.877Z"
      },
      {
        "duration": 142,
        "start_time": "2023-05-08T20:14:55.962Z"
      },
      {
        "duration": 12,
        "start_time": "2023-05-08T20:14:56.108Z"
      },
      {
        "duration": 28,
        "start_time": "2023-05-08T20:14:56.122Z"
      },
      {
        "duration": 66,
        "start_time": "2023-05-08T20:15:14.550Z"
      },
      {
        "duration": 9,
        "start_time": "2023-05-08T20:18:44.540Z"
      },
      {
        "duration": 424,
        "start_time": "2023-05-08T20:19:36.883Z"
      },
      {
        "duration": 204,
        "start_time": "2023-05-08T20:19:37.309Z"
      },
      {
        "duration": 114,
        "start_time": "2023-05-08T20:19:37.518Z"
      },
      {
        "duration": 161,
        "start_time": "2023-05-08T20:19:37.634Z"
      },
      {
        "duration": 9,
        "start_time": "2023-05-08T20:19:37.797Z"
      },
      {
        "duration": 829,
        "start_time": "2023-05-08T20:19:37.808Z"
      },
      {
        "duration": 23,
        "start_time": "2023-05-08T20:20:17.396Z"
      },
      {
        "duration": 7,
        "start_time": "2023-05-08T20:20:59.219Z"
      },
      {
        "duration": 17,
        "start_time": "2023-05-08T20:23:40.505Z"
      },
      {
        "duration": 12,
        "start_time": "2023-05-08T20:23:54.937Z"
      },
      {
        "duration": 60,
        "start_time": "2023-05-08T20:26:32.137Z"
      },
      {
        "duration": 52,
        "start_time": "2023-05-08T20:26:37.376Z"
      },
      {
        "duration": 41,
        "start_time": "2023-05-08T20:26:45.544Z"
      },
      {
        "duration": 46,
        "start_time": "2023-05-08T20:27:07.364Z"
      },
      {
        "duration": 39,
        "start_time": "2023-05-08T20:27:16.575Z"
      },
      {
        "duration": 35,
        "start_time": "2023-05-08T20:27:21.560Z"
      },
      {
        "duration": 41,
        "start_time": "2023-05-08T20:27:27.399Z"
      },
      {
        "duration": 395,
        "start_time": "2023-05-08T20:27:35.009Z"
      },
      {
        "duration": 160,
        "start_time": "2023-05-08T20:27:35.406Z"
      },
      {
        "duration": 90,
        "start_time": "2023-05-08T20:27:35.567Z"
      },
      {
        "duration": 135,
        "start_time": "2023-05-08T20:27:35.658Z"
      },
      {
        "duration": 9,
        "start_time": "2023-05-08T20:27:35.796Z"
      },
      {
        "duration": 55,
        "start_time": "2023-05-08T20:27:35.806Z"
      },
      {
        "duration": 100,
        "start_time": "2023-05-08T20:28:48.406Z"
      },
      {
        "duration": 130,
        "start_time": "2023-05-08T20:28:54.054Z"
      },
      {
        "duration": 105,
        "start_time": "2023-05-08T20:28:59.519Z"
      },
      {
        "duration": 106,
        "start_time": "2023-05-08T20:29:16.254Z"
      },
      {
        "duration": 204,
        "start_time": "2023-05-08T20:29:42.926Z"
      },
      {
        "duration": 229,
        "start_time": "2023-05-08T20:29:48.166Z"
      },
      {
        "duration": 35,
        "start_time": "2023-05-08T20:29:52.782Z"
      },
      {
        "duration": 164,
        "start_time": "2023-05-08T20:31:15.188Z"
      },
      {
        "duration": 416,
        "start_time": "2023-05-08T20:31:26.586Z"
      },
      {
        "duration": 170,
        "start_time": "2023-05-08T20:31:27.005Z"
      },
      {
        "duration": 87,
        "start_time": "2023-05-08T20:31:27.177Z"
      },
      {
        "duration": 165,
        "start_time": "2023-05-08T20:31:27.265Z"
      },
      {
        "duration": 9,
        "start_time": "2023-05-08T20:31:27.433Z"
      },
      {
        "duration": 178,
        "start_time": "2023-05-08T20:31:27.444Z"
      },
      {
        "duration": 370,
        "start_time": "2023-05-08T20:31:58.457Z"
      },
      {
        "duration": 157,
        "start_time": "2023-05-08T20:31:58.829Z"
      },
      {
        "duration": 82,
        "start_time": "2023-05-08T20:31:58.996Z"
      },
      {
        "duration": 151,
        "start_time": "2023-05-08T20:31:59.079Z"
      },
      {
        "duration": 8,
        "start_time": "2023-05-08T20:31:59.232Z"
      },
      {
        "duration": 167,
        "start_time": "2023-05-08T20:31:59.242Z"
      },
      {
        "duration": 997,
        "start_time": "2023-05-08T20:34:02.284Z"
      },
      {
        "duration": 29,
        "start_time": "2023-05-08T20:34:13.547Z"
      },
      {
        "duration": 425,
        "start_time": "2023-05-08T20:34:25.582Z"
      },
      {
        "duration": 160,
        "start_time": "2023-05-08T20:34:26.009Z"
      },
      {
        "duration": 86,
        "start_time": "2023-05-08T20:34:26.171Z"
      },
      {
        "duration": 146,
        "start_time": "2023-05-08T20:34:26.259Z"
      },
      {
        "duration": 8,
        "start_time": "2023-05-08T20:34:26.406Z"
      },
      {
        "duration": 27,
        "start_time": "2023-05-08T20:34:26.415Z"
      },
      {
        "duration": 30,
        "start_time": "2023-05-08T20:36:44.786Z"
      },
      {
        "duration": 20,
        "start_time": "2023-05-08T20:36:50.282Z"
      },
      {
        "duration": 35,
        "start_time": "2023-05-08T20:36:56.433Z"
      },
      {
        "duration": 31,
        "start_time": "2023-05-08T20:37:40.032Z"
      },
      {
        "duration": 45,
        "start_time": "2023-05-08T20:38:50.764Z"
      },
      {
        "duration": 47,
        "start_time": "2023-05-08T20:39:42.361Z"
      },
      {
        "duration": 49,
        "start_time": "2023-05-08T20:40:31.760Z"
      },
      {
        "duration": 9,
        "start_time": "2023-05-08T20:42:04.501Z"
      },
      {
        "duration": 9,
        "start_time": "2023-05-08T20:42:53.070Z"
      },
      {
        "duration": 6,
        "start_time": "2023-05-08T20:43:00.169Z"
      },
      {
        "duration": 4,
        "start_time": "2023-05-08T20:43:51.272Z"
      },
      {
        "duration": 5,
        "start_time": "2023-05-08T20:44:49.525Z"
      },
      {
        "duration": 33,
        "start_time": "2023-05-08T20:44:57.917Z"
      },
      {
        "duration": 44,
        "start_time": "2023-05-08T20:46:52.956Z"
      },
      {
        "duration": 26,
        "start_time": "2023-05-08T20:47:18.644Z"
      },
      {
        "duration": 88,
        "start_time": "2023-05-08T20:47:38.187Z"
      },
      {
        "duration": 29,
        "start_time": "2023-05-08T20:49:47.291Z"
      },
      {
        "duration": 29,
        "start_time": "2023-05-08T20:50:41.785Z"
      },
      {
        "duration": 30,
        "start_time": "2023-05-08T20:50:51.792Z"
      },
      {
        "duration": 54,
        "start_time": "2023-05-08T20:53:54.032Z"
      },
      {
        "duration": 31,
        "start_time": "2023-05-08T20:54:16.776Z"
      },
      {
        "duration": 30,
        "start_time": "2023-05-08T20:54:23.296Z"
      },
      {
        "duration": 29,
        "start_time": "2023-05-08T20:54:29.919Z"
      },
      {
        "duration": 33,
        "start_time": "2023-05-08T20:54:35.543Z"
      },
      {
        "duration": 28,
        "start_time": "2023-05-08T20:54:45.399Z"
      },
      {
        "duration": 28,
        "start_time": "2023-05-08T20:54:50.167Z"
      },
      {
        "duration": 34,
        "start_time": "2023-05-08T20:54:53.607Z"
      },
      {
        "duration": 37,
        "start_time": "2023-05-08T20:55:00.286Z"
      },
      {
        "duration": 32,
        "start_time": "2023-05-08T20:55:04.225Z"
      },
      {
        "duration": 30,
        "start_time": "2023-05-08T20:55:19.846Z"
      },
      {
        "duration": 6,
        "start_time": "2023-05-08T20:56:31.006Z"
      },
      {
        "duration": 6,
        "start_time": "2023-05-08T20:57:01.750Z"
      },
      {
        "duration": 6,
        "start_time": "2023-05-08T20:57:36.941Z"
      },
      {
        "duration": 3,
        "start_time": "2023-05-08T21:01:49.156Z"
      },
      {
        "duration": 11,
        "start_time": "2023-05-08T21:02:17.523Z"
      },
      {
        "duration": 789,
        "start_time": "2023-05-08T21:02:49.147Z"
      },
      {
        "duration": 10,
        "start_time": "2023-05-08T21:03:05.714Z"
      },
      {
        "duration": 5,
        "start_time": "2023-05-08T21:04:09.362Z"
      },
      {
        "duration": 6,
        "start_time": "2023-05-08T21:04:13.361Z"
      },
      {
        "duration": 6,
        "start_time": "2023-05-08T21:04:19.274Z"
      },
      {
        "duration": 9,
        "start_time": "2023-05-08T21:04:41.282Z"
      },
      {
        "duration": 9,
        "start_time": "2023-05-08T21:04:47.761Z"
      },
      {
        "duration": 10,
        "start_time": "2023-05-08T21:05:13.170Z"
      },
      {
        "duration": 9,
        "start_time": "2023-05-08T21:07:13.872Z"
      },
      {
        "duration": 7,
        "start_time": "2023-05-08T21:07:48.976Z"
      },
      {
        "duration": 684,
        "start_time": "2023-05-08T21:08:32.846Z"
      },
      {
        "duration": 234,
        "start_time": "2023-05-08T21:09:02.399Z"
      },
      {
        "duration": 214,
        "start_time": "2023-05-08T21:09:26.311Z"
      },
      {
        "duration": 287,
        "start_time": "2023-05-08T21:09:30.742Z"
      },
      {
        "duration": 11,
        "start_time": "2023-05-08T21:12:54.469Z"
      },
      {
        "duration": 10,
        "start_time": "2023-05-08T21:13:04.525Z"
      },
      {
        "duration": 7,
        "start_time": "2023-05-08T21:13:11.597Z"
      },
      {
        "duration": 10,
        "start_time": "2023-05-08T21:14:34.508Z"
      },
      {
        "duration": 13,
        "start_time": "2023-05-08T21:15:47.612Z"
      },
      {
        "duration": 9,
        "start_time": "2023-05-08T21:16:48.754Z"
      },
      {
        "duration": 9,
        "start_time": "2023-05-08T21:17:06.834Z"
      },
      {
        "duration": 10,
        "start_time": "2023-05-08T21:17:32.002Z"
      },
      {
        "duration": 16,
        "start_time": "2023-05-08T21:18:29.193Z"
      },
      {
        "duration": 208,
        "start_time": "2023-05-08T21:18:38.937Z"
      },
      {
        "duration": 214,
        "start_time": "2023-05-08T21:20:13.769Z"
      },
      {
        "duration": 209,
        "start_time": "2023-05-08T21:20:19.090Z"
      },
      {
        "duration": 185,
        "start_time": "2023-05-08T21:20:22.521Z"
      },
      {
        "duration": 206,
        "start_time": "2023-05-08T21:23:31.928Z"
      },
      {
        "duration": 188,
        "start_time": "2023-05-08T21:23:36.743Z"
      },
      {
        "duration": 25,
        "start_time": "2023-05-08T21:26:47.253Z"
      },
      {
        "duration": 24,
        "start_time": "2023-05-08T21:27:12.933Z"
      },
      {
        "duration": 24,
        "start_time": "2023-05-08T21:28:46.916Z"
      },
      {
        "duration": 192,
        "start_time": "2023-05-08T21:28:51.500Z"
      },
      {
        "duration": 38,
        "start_time": "2023-05-08T21:28:55.043Z"
      },
      {
        "duration": 44,
        "start_time": "2023-05-08T21:29:17.083Z"
      },
      {
        "duration": 405,
        "start_time": "2023-05-08T21:29:48.719Z"
      },
      {
        "duration": 182,
        "start_time": "2023-05-08T21:29:49.127Z"
      },
      {
        "duration": 93,
        "start_time": "2023-05-08T21:29:49.311Z"
      },
      {
        "duration": 143,
        "start_time": "2023-05-08T21:29:49.406Z"
      },
      {
        "duration": 9,
        "start_time": "2023-05-08T21:29:49.551Z"
      },
      {
        "duration": 48,
        "start_time": "2023-05-08T21:29:49.561Z"
      },
      {
        "duration": 69,
        "start_time": "2023-05-08T21:29:49.611Z"
      },
      {
        "duration": 13,
        "start_time": "2023-05-08T21:29:49.693Z"
      },
      {
        "duration": 47,
        "start_time": "2023-05-08T21:29:49.709Z"
      },
      {
        "duration": 6,
        "start_time": "2023-05-08T21:29:49.759Z"
      },
      {
        "duration": 613,
        "start_time": "2023-05-08T21:29:49.767Z"
      },
      {
        "duration": 15,
        "start_time": "2023-05-08T21:29:50.383Z"
      },
      {
        "duration": 268,
        "start_time": "2023-05-08T21:29:50.400Z"
      },
      {
        "duration": 82,
        "start_time": "2023-05-08T21:29:50.671Z"
      },
      {
        "duration": 45,
        "start_time": "2023-05-08T21:30:27.004Z"
      },
      {
        "duration": 20,
        "start_time": "2023-05-08T21:31:20.811Z"
      },
      {
        "duration": 6,
        "start_time": "2023-05-08T21:31:43.549Z"
      },
      {
        "duration": 5,
        "start_time": "2023-05-08T21:31:47.898Z"
      },
      {
        "duration": 49,
        "start_time": "2023-05-08T21:31:54.049Z"
      },
      {
        "duration": 71,
        "start_time": "2023-05-08T21:31:56.746Z"
      },
      {
        "duration": 7,
        "start_time": "2023-05-08T21:32:01.476Z"
      },
      {
        "duration": 30,
        "start_time": "2023-05-08T21:32:42.066Z"
      },
      {
        "duration": 28,
        "start_time": "2023-05-08T21:32:59.274Z"
      },
      {
        "duration": 39,
        "start_time": "2023-05-08T21:33:41.290Z"
      },
      {
        "duration": 43,
        "start_time": "2023-05-08T21:33:49.058Z"
      },
      {
        "duration": 34,
        "start_time": "2023-05-08T21:33:59.965Z"
      },
      {
        "duration": 28,
        "start_time": "2023-05-08T21:34:20.011Z"
      },
      {
        "duration": 29,
        "start_time": "2023-05-08T21:36:17.153Z"
      },
      {
        "duration": 27,
        "start_time": "2023-05-08T21:36:30.298Z"
      },
      {
        "duration": 32,
        "start_time": "2023-05-08T21:36:48.113Z"
      },
      {
        "duration": 29,
        "start_time": "2023-05-08T21:36:58.849Z"
      },
      {
        "duration": 32,
        "start_time": "2023-05-08T21:37:09.531Z"
      },
      {
        "duration": 35,
        "start_time": "2023-05-08T21:37:14.945Z"
      },
      {
        "duration": 32,
        "start_time": "2023-05-08T21:37:19.032Z"
      },
      {
        "duration": 32,
        "start_time": "2023-05-08T21:37:32.289Z"
      },
      {
        "duration": 30,
        "start_time": "2023-05-08T21:37:38.393Z"
      },
      {
        "duration": 33,
        "start_time": "2023-05-08T21:38:04.897Z"
      },
      {
        "duration": 32,
        "start_time": "2023-05-08T21:38:31.113Z"
      },
      {
        "duration": 42,
        "start_time": "2023-05-08T21:38:57.265Z"
      },
      {
        "duration": 30,
        "start_time": "2023-05-08T21:39:14.248Z"
      },
      {
        "duration": 53,
        "start_time": "2023-05-08T21:39:25.569Z"
      },
      {
        "duration": 39,
        "start_time": "2023-05-08T21:39:38.681Z"
      },
      {
        "duration": 31,
        "start_time": "2023-05-08T21:40:06.344Z"
      },
      {
        "duration": 31,
        "start_time": "2023-05-08T21:40:11.400Z"
      },
      {
        "duration": 456,
        "start_time": "2023-05-08T21:40:54.712Z"
      },
      {
        "duration": 461,
        "start_time": "2023-05-08T21:41:01.241Z"
      },
      {
        "duration": 40,
        "start_time": "2023-05-08T21:41:11.665Z"
      },
      {
        "duration": 32,
        "start_time": "2023-05-08T21:41:29.706Z"
      },
      {
        "duration": 37,
        "start_time": "2023-05-08T21:41:43.448Z"
      },
      {
        "duration": 36,
        "start_time": "2023-05-08T21:43:58.632Z"
      },
      {
        "duration": 38,
        "start_time": "2023-05-08T21:44:17.695Z"
      },
      {
        "duration": 46,
        "start_time": "2023-05-08T21:44:42.791Z"
      },
      {
        "duration": 48,
        "start_time": "2023-05-08T21:44:47.031Z"
      },
      {
        "duration": 37,
        "start_time": "2023-05-08T21:44:49.607Z"
      },
      {
        "duration": 44,
        "start_time": "2023-05-08T21:46:07.415Z"
      },
      {
        "duration": 35,
        "start_time": "2023-05-08T21:46:46.958Z"
      },
      {
        "duration": 53,
        "start_time": "2023-05-08T21:47:01.968Z"
      },
      {
        "duration": 37,
        "start_time": "2023-05-08T21:47:09.382Z"
      },
      {
        "duration": 37,
        "start_time": "2023-05-08T21:47:16.166Z"
      },
      {
        "duration": 38,
        "start_time": "2023-05-08T21:47:40.765Z"
      },
      {
        "duration": 45,
        "start_time": "2023-05-08T21:47:47.165Z"
      },
      {
        "duration": 41,
        "start_time": "2023-05-08T21:48:02.070Z"
      },
      {
        "duration": 36,
        "start_time": "2023-05-08T21:48:11.813Z"
      },
      {
        "duration": 52,
        "start_time": "2023-05-08T21:48:31.365Z"
      },
      {
        "duration": 49,
        "start_time": "2023-05-08T21:48:53.125Z"
      },
      {
        "duration": 50,
        "start_time": "2023-05-08T21:49:00.429Z"
      },
      {
        "duration": 31,
        "start_time": "2023-05-08T21:54:07.059Z"
      },
      {
        "duration": 79,
        "start_time": "2023-05-08T21:56:30.194Z"
      },
      {
        "duration": 97,
        "start_time": "2023-05-08T21:56:37.250Z"
      },
      {
        "duration": 80,
        "start_time": "2023-05-08T21:57:41.401Z"
      },
      {
        "duration": 87,
        "start_time": "2023-05-08T21:58:13.280Z"
      },
      {
        "duration": 81,
        "start_time": "2023-05-08T21:58:38.536Z"
      },
      {
        "duration": 75,
        "start_time": "2023-05-08T21:59:19.864Z"
      },
      {
        "duration": 84,
        "start_time": "2023-05-08T22:00:09.592Z"
      },
      {
        "duration": 54,
        "start_time": "2023-05-08T22:00:45.343Z"
      },
      {
        "duration": 55,
        "start_time": "2023-05-08T22:01:22.534Z"
      },
      {
        "duration": 119,
        "start_time": "2023-05-10T05:01:09.871Z"
      },
      {
        "duration": 414,
        "start_time": "2023-05-10T05:01:17.356Z"
      },
      {
        "duration": 542,
        "start_time": "2023-05-10T05:01:17.772Z"
      },
      {
        "duration": 90,
        "start_time": "2023-05-10T05:01:18.316Z"
      },
      {
        "duration": 147,
        "start_time": "2023-05-10T05:01:18.408Z"
      },
      {
        "duration": 9,
        "start_time": "2023-05-10T05:01:18.557Z"
      },
      {
        "duration": 31,
        "start_time": "2023-05-10T05:01:18.567Z"
      },
      {
        "duration": 73,
        "start_time": "2023-05-10T05:01:18.600Z"
      },
      {
        "duration": 9,
        "start_time": "2023-05-10T05:01:18.675Z"
      },
      {
        "duration": 54,
        "start_time": "2023-05-10T05:01:18.686Z"
      },
      {
        "duration": 5,
        "start_time": "2023-05-10T05:01:18.742Z"
      },
      {
        "duration": 873,
        "start_time": "2023-05-10T05:01:18.748Z"
      },
      {
        "duration": 17,
        "start_time": "2023-05-10T05:01:19.623Z"
      },
      {
        "duration": 240,
        "start_time": "2023-05-10T05:01:19.642Z"
      },
      {
        "duration": 59,
        "start_time": "2023-05-10T05:01:19.885Z"
      },
      {
        "duration": 112,
        "start_time": "2023-05-10T05:01:19.946Z"
      },
      {
        "duration": 74,
        "start_time": "2023-05-10T05:01:20.060Z"
      },
      {
        "duration": 113,
        "start_time": "2023-05-10T05:01:20.136Z"
      },
      {
        "duration": 93,
        "start_time": "2023-05-10T05:45:37.810Z"
      },
      {
        "duration": 10,
        "start_time": "2023-05-10T05:45:49.258Z"
      },
      {
        "duration": 207,
        "start_time": "2023-05-10T05:46:39.769Z"
      },
      {
        "duration": 14,
        "start_time": "2023-05-10T05:46:44.984Z"
      },
      {
        "duration": 19,
        "start_time": "2023-05-10T05:47:35.487Z"
      },
      {
        "duration": 312,
        "start_time": "2023-05-10T05:47:49.423Z"
      },
      {
        "duration": 13,
        "start_time": "2023-05-10T05:47:53.766Z"
      },
      {
        "duration": 439,
        "start_time": "2023-05-10T05:48:07.656Z"
      },
      {
        "duration": 173,
        "start_time": "2023-05-10T05:48:08.097Z"
      },
      {
        "duration": 86,
        "start_time": "2023-05-10T05:48:08.272Z"
      },
      {
        "duration": 135,
        "start_time": "2023-05-10T05:48:08.360Z"
      },
      {
        "duration": 9,
        "start_time": "2023-05-10T05:48:08.498Z"
      },
      {
        "duration": 81,
        "start_time": "2023-05-10T05:48:08.509Z"
      },
      {
        "duration": 47,
        "start_time": "2023-05-10T05:48:08.592Z"
      },
      {
        "duration": 8,
        "start_time": "2023-05-10T05:48:08.641Z"
      },
      {
        "duration": 57,
        "start_time": "2023-05-10T05:48:08.651Z"
      },
      {
        "duration": 5,
        "start_time": "2023-05-10T05:48:08.709Z"
      },
      {
        "duration": 538,
        "start_time": "2023-05-10T05:48:08.716Z"
      },
      {
        "duration": 9,
        "start_time": "2023-05-10T05:48:09.256Z"
      },
      {
        "duration": 219,
        "start_time": "2023-05-10T05:48:09.267Z"
      },
      {
        "duration": 56,
        "start_time": "2023-05-10T05:48:09.489Z"
      },
      {
        "duration": 123,
        "start_time": "2023-05-10T05:48:09.547Z"
      },
      {
        "duration": 74,
        "start_time": "2023-05-10T05:48:09.672Z"
      },
      {
        "duration": 11,
        "start_time": "2023-05-10T05:48:09.748Z"
      },
      {
        "duration": 71,
        "start_time": "2023-05-10T05:49:10.558Z"
      },
      {
        "duration": 23,
        "start_time": "2023-05-10T05:49:32.808Z"
      },
      {
        "duration": 25,
        "start_time": "2023-05-10T05:51:10.083Z"
      },
      {
        "duration": 22,
        "start_time": "2023-05-10T05:51:16.171Z"
      },
      {
        "duration": 23,
        "start_time": "2023-05-10T05:51:20.260Z"
      },
      {
        "duration": 6,
        "start_time": "2023-05-10T05:53:48.849Z"
      },
      {
        "duration": 11,
        "start_time": "2023-05-10T05:53:52.529Z"
      },
      {
        "duration": 39,
        "start_time": "2023-05-10T05:56:53.223Z"
      },
      {
        "duration": 108,
        "start_time": "2023-05-10T05:57:26.110Z"
      },
      {
        "duration": 75,
        "start_time": "2023-05-10T05:57:39.550Z"
      },
      {
        "duration": 55,
        "start_time": "2023-05-10T05:58:07.549Z"
      },
      {
        "duration": 50,
        "start_time": "2023-05-10T05:58:27.268Z"
      },
      {
        "duration": 55,
        "start_time": "2023-05-10T06:00:40.661Z"
      },
      {
        "duration": 124,
        "start_time": "2023-05-10T06:09:13.090Z"
      },
      {
        "duration": 62,
        "start_time": "2023-05-10T06:09:17.642Z"
      },
      {
        "duration": 76,
        "start_time": "2023-05-10T06:09:28.083Z"
      },
      {
        "duration": 70,
        "start_time": "2023-05-10T06:09:48.210Z"
      },
      {
        "duration": 5,
        "start_time": "2023-05-10T06:10:43.184Z"
      },
      {
        "duration": 49,
        "start_time": "2023-05-10T06:11:31.983Z"
      },
      {
        "duration": 33,
        "start_time": "2023-05-10T06:11:37.959Z"
      },
      {
        "duration": 14,
        "start_time": "2023-05-10T06:12:00.582Z"
      },
      {
        "duration": 98,
        "start_time": "2023-05-10T06:12:12.558Z"
      },
      {
        "duration": 46,
        "start_time": "2023-05-10T06:12:18.582Z"
      },
      {
        "duration": 89,
        "start_time": "2023-05-10T06:16:18.876Z"
      },
      {
        "duration": 77,
        "start_time": "2023-05-10T06:17:43.009Z"
      },
      {
        "duration": 28,
        "start_time": "2023-05-10T06:17:52.152Z"
      },
      {
        "duration": 60,
        "start_time": "2023-05-10T06:17:59.817Z"
      },
      {
        "duration": 52,
        "start_time": "2023-05-10T06:18:53.209Z"
      },
      {
        "duration": 64,
        "start_time": "2023-05-10T06:19:06.911Z"
      },
      {
        "duration": 69,
        "start_time": "2023-05-10T06:19:26.431Z"
      },
      {
        "duration": 28,
        "start_time": "2023-05-10T06:22:43.972Z"
      },
      {
        "duration": 8,
        "start_time": "2023-05-10T06:23:16.850Z"
      },
      {
        "duration": 9,
        "start_time": "2023-05-10T06:23:22.313Z"
      },
      {
        "duration": 67,
        "start_time": "2023-05-10T06:23:36.209Z"
      },
      {
        "duration": 24,
        "start_time": "2023-05-10T06:24:01.978Z"
      },
      {
        "duration": 68,
        "start_time": "2023-05-10T06:24:11.274Z"
      },
      {
        "duration": 32,
        "start_time": "2023-05-10T06:24:27.410Z"
      },
      {
        "duration": 71,
        "start_time": "2023-05-10T06:24:36.923Z"
      },
      {
        "duration": 92,
        "start_time": "2023-05-10T06:26:28.111Z"
      },
      {
        "duration": 101,
        "start_time": "2023-05-10T06:26:34.015Z"
      },
      {
        "duration": 55,
        "start_time": "2023-05-10T06:26:42.522Z"
      },
      {
        "duration": 57,
        "start_time": "2023-05-10T06:27:18.959Z"
      },
      {
        "duration": 76,
        "start_time": "2023-05-10T06:34:36.192Z"
      },
      {
        "duration": 143,
        "start_time": "2023-05-10T06:35:09.320Z"
      },
      {
        "duration": 69,
        "start_time": "2023-05-10T06:35:51.639Z"
      },
      {
        "duration": 58,
        "start_time": "2023-05-10T06:35:57.381Z"
      },
      {
        "duration": 65,
        "start_time": "2023-05-10T06:36:06.934Z"
      },
      {
        "duration": 73,
        "start_time": "2023-05-10T06:36:55.891Z"
      },
      {
        "duration": 63,
        "start_time": "2023-05-10T06:37:04.908Z"
      },
      {
        "duration": 59,
        "start_time": "2023-05-10T06:37:15.717Z"
      },
      {
        "duration": 67,
        "start_time": "2023-05-10T06:37:21.822Z"
      },
      {
        "duration": 84,
        "start_time": "2023-05-10T06:37:45.497Z"
      },
      {
        "duration": 64,
        "start_time": "2023-05-10T06:37:52.980Z"
      },
      {
        "duration": 64,
        "start_time": "2023-05-10T06:37:59.509Z"
      },
      {
        "duration": 62,
        "start_time": "2023-05-10T06:42:22.560Z"
      },
      {
        "duration": 68,
        "start_time": "2023-05-10T06:46:13.684Z"
      },
      {
        "duration": 60,
        "start_time": "2023-05-10T06:46:19.547Z"
      },
      {
        "duration": 67,
        "start_time": "2023-05-10T06:46:26.620Z"
      },
      {
        "duration": 68,
        "start_time": "2023-05-10T06:47:01.019Z"
      },
      {
        "duration": 72,
        "start_time": "2023-05-10T06:47:23.315Z"
      },
      {
        "duration": 70,
        "start_time": "2023-05-10T06:47:44.763Z"
      },
      {
        "duration": 71,
        "start_time": "2023-05-10T06:48:00.882Z"
      },
      {
        "duration": 68,
        "start_time": "2023-05-10T06:48:05.130Z"
      },
      {
        "duration": 74,
        "start_time": "2023-05-10T06:48:10.826Z"
      },
      {
        "duration": 66,
        "start_time": "2023-05-10T06:48:14.482Z"
      },
      {
        "duration": 71,
        "start_time": "2023-05-10T06:51:23.003Z"
      },
      {
        "duration": 71,
        "start_time": "2023-05-10T06:53:09.008Z"
      },
      {
        "duration": 60,
        "start_time": "2023-05-10T06:53:19.907Z"
      },
      {
        "duration": 77,
        "start_time": "2023-05-10T06:53:40.116Z"
      },
      {
        "duration": 59,
        "start_time": "2023-05-10T06:56:33.308Z"
      },
      {
        "duration": 62,
        "start_time": "2023-05-10T06:56:45.762Z"
      },
      {
        "duration": 91,
        "start_time": "2023-05-10T06:57:47.888Z"
      },
      {
        "duration": 78,
        "start_time": "2023-05-10T06:58:08.271Z"
      },
      {
        "duration": 79,
        "start_time": "2023-05-10T07:02:42.778Z"
      },
      {
        "duration": 63,
        "start_time": "2023-05-10T07:02:52.466Z"
      },
      {
        "duration": 62,
        "start_time": "2023-05-10T07:02:57.482Z"
      },
      {
        "duration": 70,
        "start_time": "2023-05-10T07:03:08.406Z"
      },
      {
        "duration": 66,
        "start_time": "2023-05-10T07:03:11.609Z"
      },
      {
        "duration": 4,
        "start_time": "2023-05-10T07:15:45.727Z"
      },
      {
        "duration": 245,
        "start_time": "2023-05-10T07:16:08.772Z"
      },
      {
        "duration": 300,
        "start_time": "2023-05-10T07:16:44.057Z"
      },
      {
        "duration": 69,
        "start_time": "2023-05-10T07:16:58.083Z"
      },
      {
        "duration": 3044,
        "start_time": "2023-05-10T07:17:14.363Z"
      },
      {
        "duration": 79,
        "start_time": "2023-05-10T07:17:26.619Z"
      },
      {
        "duration": 247,
        "start_time": "2023-05-10T07:18:24.199Z"
      },
      {
        "duration": 74,
        "start_time": "2023-05-10T07:18:29.147Z"
      },
      {
        "duration": 68,
        "start_time": "2023-05-10T07:18:39.522Z"
      },
      {
        "duration": 220,
        "start_time": "2023-05-10T07:19:29.206Z"
      },
      {
        "duration": 159,
        "start_time": "2023-05-10T07:21:02.616Z"
      },
      {
        "duration": 3627,
        "start_time": "2023-05-10T07:21:09.615Z"
      },
      {
        "duration": 121,
        "start_time": "2023-05-10T07:21:16.898Z"
      },
      {
        "duration": 151,
        "start_time": "2023-05-10T07:21:43.023Z"
      },
      {
        "duration": 129,
        "start_time": "2023-05-10T07:22:11.827Z"
      },
      {
        "duration": 112,
        "start_time": "2023-05-10T07:22:19.574Z"
      },
      {
        "duration": 60,
        "start_time": "2023-05-10T07:22:43.446Z"
      },
      {
        "duration": 73,
        "start_time": "2023-05-10T07:24:16.241Z"
      },
      {
        "duration": 72,
        "start_time": "2023-05-10T07:24:41.956Z"
      },
      {
        "duration": 72,
        "start_time": "2023-05-10T07:24:49.363Z"
      },
      {
        "duration": 77,
        "start_time": "2023-05-10T07:24:54.915Z"
      },
      {
        "duration": 4,
        "start_time": "2023-05-10T07:25:54.789Z"
      },
      {
        "duration": 69,
        "start_time": "2023-05-10T07:26:07.633Z"
      },
      {
        "duration": 34,
        "start_time": "2023-05-10T07:26:29.041Z"
      },
      {
        "duration": 79,
        "start_time": "2023-05-10T07:27:05.536Z"
      },
      {
        "duration": 88,
        "start_time": "2023-05-10T07:27:39.702Z"
      },
      {
        "duration": 70,
        "start_time": "2023-05-10T07:28:04.935Z"
      },
      {
        "duration": 63,
        "start_time": "2023-05-10T07:28:12.271Z"
      },
      {
        "duration": 91,
        "start_time": "2023-05-10T07:28:27.678Z"
      },
      {
        "duration": 90,
        "start_time": "2023-05-10T07:31:11.428Z"
      },
      {
        "duration": 76,
        "start_time": "2023-05-10T10:49:43.721Z"
      },
      {
        "duration": 83,
        "start_time": "2023-05-10T10:50:10.560Z"
      },
      {
        "duration": 441,
        "start_time": "2023-05-10T10:50:23.483Z"
      },
      {
        "duration": 218,
        "start_time": "2023-05-10T10:50:23.926Z"
      },
      {
        "duration": 105,
        "start_time": "2023-05-10T10:50:24.146Z"
      },
      {
        "duration": 159,
        "start_time": "2023-05-10T10:50:24.254Z"
      },
      {
        "duration": 9,
        "start_time": "2023-05-10T10:50:24.415Z"
      },
      {
        "duration": 30,
        "start_time": "2023-05-10T10:50:24.434Z"
      },
      {
        "duration": 83,
        "start_time": "2023-05-10T10:50:24.467Z"
      },
      {
        "duration": 10,
        "start_time": "2023-05-10T10:50:24.551Z"
      },
      {
        "duration": 44,
        "start_time": "2023-05-10T10:50:24.563Z"
      },
      {
        "duration": 26,
        "start_time": "2023-05-10T10:50:24.612Z"
      },
      {
        "duration": 616,
        "start_time": "2023-05-10T10:50:24.640Z"
      },
      {
        "duration": 10,
        "start_time": "2023-05-10T10:50:25.258Z"
      },
      {
        "duration": 245,
        "start_time": "2023-05-10T10:50:25.270Z"
      },
      {
        "duration": 74,
        "start_time": "2023-05-10T10:50:25.520Z"
      },
      {
        "duration": 107,
        "start_time": "2023-05-10T10:50:25.596Z"
      },
      {
        "duration": 86,
        "start_time": "2023-05-10T10:50:25.705Z"
      },
      {
        "duration": 26,
        "start_time": "2023-05-10T10:50:25.793Z"
      },
      {
        "duration": 11,
        "start_time": "2023-05-10T10:50:25.833Z"
      },
      {
        "duration": 468,
        "start_time": "2023-05-10T10:50:25.845Z"
      },
      {
        "duration": 94,
        "start_time": "2023-05-10T10:50:28.799Z"
      },
      {
        "duration": 90,
        "start_time": "2023-05-10T10:50:34.567Z"
      },
      {
        "duration": 101,
        "start_time": "2023-05-10T10:50:50.751Z"
      },
      {
        "duration": 80,
        "start_time": "2023-05-10T10:57:17.804Z"
      },
      {
        "duration": 229,
        "start_time": "2023-05-10T10:57:31.452Z"
      },
      {
        "duration": 247,
        "start_time": "2023-05-10T10:59:33.938Z"
      },
      {
        "duration": 212,
        "start_time": "2023-05-10T10:59:51.545Z"
      },
      {
        "duration": 54,
        "start_time": "2023-05-10T11:00:08.434Z"
      },
      {
        "duration": 30,
        "start_time": "2023-05-10T11:00:29.808Z"
      },
      {
        "duration": 33,
        "start_time": "2023-05-10T11:00:53.395Z"
      },
      {
        "duration": 39,
        "start_time": "2023-05-10T11:01:37.983Z"
      },
      {
        "duration": 74,
        "start_time": "2023-05-10T11:02:02.638Z"
      },
      {
        "duration": 79,
        "start_time": "2023-05-10T11:04:37.043Z"
      },
      {
        "duration": 61,
        "start_time": "2023-05-10T11:05:10.609Z"
      },
      {
        "duration": 98,
        "start_time": "2023-05-10T11:48:58.199Z"
      },
      {
        "duration": 94,
        "start_time": "2023-05-10T11:50:53.405Z"
      },
      {
        "duration": 98,
        "start_time": "2023-05-10T11:56:43.174Z"
      },
      {
        "duration": 92,
        "start_time": "2023-05-10T11:56:47.886Z"
      },
      {
        "duration": 102,
        "start_time": "2023-05-10T11:57:19.294Z"
      },
      {
        "duration": 161,
        "start_time": "2023-05-10T11:58:39.062Z"
      },
      {
        "duration": 99,
        "start_time": "2023-05-10T11:58:44.863Z"
      },
      {
        "duration": 1691,
        "start_time": "2023-05-10T12:00:51.975Z"
      },
      {
        "duration": 3671,
        "start_time": "2023-05-10T12:01:02.319Z"
      },
      {
        "duration": 91,
        "start_time": "2023-05-10T12:01:15.559Z"
      },
      {
        "duration": 131,
        "start_time": "2023-05-10T12:01:33.118Z"
      },
      {
        "duration": 86,
        "start_time": "2023-05-10T12:02:43.542Z"
      },
      {
        "duration": 87,
        "start_time": "2023-05-10T12:02:52.807Z"
      },
      {
        "duration": 88,
        "start_time": "2023-05-10T12:02:58.038Z"
      },
      {
        "duration": 88,
        "start_time": "2023-05-10T12:03:22.118Z"
      },
      {
        "duration": 3,
        "start_time": "2023-05-10T12:11:15.979Z"
      },
      {
        "duration": 3,
        "start_time": "2023-05-10T12:11:19.611Z"
      },
      {
        "duration": 7,
        "start_time": "2023-05-10T12:12:20.882Z"
      },
      {
        "duration": 6,
        "start_time": "2023-05-10T12:13:21.278Z"
      },
      {
        "duration": 8,
        "start_time": "2023-05-10T12:13:40.225Z"
      },
      {
        "duration": 7,
        "start_time": "2023-05-10T12:13:57.494Z"
      },
      {
        "duration": 5,
        "start_time": "2023-05-10T12:14:08.292Z"
      },
      {
        "duration": 6,
        "start_time": "2023-05-10T12:15:19.386Z"
      },
      {
        "duration": 31,
        "start_time": "2023-05-10T12:18:03.646Z"
      },
      {
        "duration": 23,
        "start_time": "2023-05-10T12:38:45.274Z"
      },
      {
        "duration": 14,
        "start_time": "2023-05-10T12:38:52.586Z"
      },
      {
        "duration": 31,
        "start_time": "2023-05-10T12:39:07.257Z"
      },
      {
        "duration": 16,
        "start_time": "2023-05-10T12:39:09.410Z"
      },
      {
        "duration": 29,
        "start_time": "2023-05-10T12:39:33.041Z"
      },
      {
        "duration": 17,
        "start_time": "2023-05-10T12:39:35.943Z"
      },
      {
        "duration": 35,
        "start_time": "2023-05-10T12:39:48.530Z"
      },
      {
        "duration": 13,
        "start_time": "2023-05-10T12:39:51.802Z"
      },
      {
        "duration": 16,
        "start_time": "2023-05-10T12:39:57.002Z"
      },
      {
        "duration": 496,
        "start_time": "2023-05-10T12:40:29.952Z"
      },
      {
        "duration": 11375,
        "start_time": "2023-05-10T12:41:12.979Z"
      },
      {
        "duration": 45,
        "start_time": "2023-05-10T12:41:45.014Z"
      },
      {
        "duration": 10035,
        "start_time": "2023-05-10T12:42:16.111Z"
      },
      {
        "duration": 9126,
        "start_time": "2023-05-10T12:44:02.179Z"
      },
      {
        "duration": 3,
        "start_time": "2023-05-10T12:55:40.328Z"
      },
      {
        "duration": 878,
        "start_time": "2023-05-11T05:03:57.071Z"
      },
      {
        "duration": 623,
        "start_time": "2023-05-11T05:03:57.951Z"
      },
      {
        "duration": 98,
        "start_time": "2023-05-11T05:03:58.576Z"
      },
      {
        "duration": 154,
        "start_time": "2023-05-11T05:03:58.676Z"
      },
      {
        "duration": 9,
        "start_time": "2023-05-11T05:03:58.832Z"
      },
      {
        "duration": 34,
        "start_time": "2023-05-11T05:03:58.842Z"
      },
      {
        "duration": 73,
        "start_time": "2023-05-11T05:03:58.878Z"
      },
      {
        "duration": 10,
        "start_time": "2023-05-11T05:03:58.953Z"
      },
      {
        "duration": 75,
        "start_time": "2023-05-11T05:03:58.964Z"
      },
      {
        "duration": 5,
        "start_time": "2023-05-11T05:03:59.043Z"
      },
      {
        "duration": 969,
        "start_time": "2023-05-11T05:03:59.049Z"
      },
      {
        "duration": 11,
        "start_time": "2023-05-11T05:04:00.027Z"
      },
      {
        "duration": 226,
        "start_time": "2023-05-11T05:04:00.040Z"
      },
      {
        "duration": 83,
        "start_time": "2023-05-11T05:04:00.269Z"
      },
      {
        "duration": 107,
        "start_time": "2023-05-11T05:04:00.354Z"
      },
      {
        "duration": 76,
        "start_time": "2023-05-11T05:04:00.465Z"
      },
      {
        "duration": 25,
        "start_time": "2023-05-11T05:04:00.543Z"
      },
      {
        "duration": 159,
        "start_time": "2023-05-11T05:04:00.569Z"
      },
      {
        "duration": 101,
        "start_time": "2023-05-11T05:04:00.730Z"
      },
      {
        "duration": 6,
        "start_time": "2023-05-11T05:04:00.833Z"
      },
      {
        "duration": 66,
        "start_time": "2023-05-11T05:04:00.841Z"
      },
      {
        "duration": 46,
        "start_time": "2023-05-11T05:04:00.915Z"
      },
      {
        "duration": 19,
        "start_time": "2023-05-11T05:04:00.962Z"
      },
      {
        "duration": 3,
        "start_time": "2023-05-11T05:04:14.842Z"
      },
      {
        "duration": 8,
        "start_time": "2023-05-11T05:05:27.352Z"
      },
      {
        "duration": 156,
        "start_time": "2023-05-11T05:23:30.176Z"
      },
      {
        "duration": 26,
        "start_time": "2023-05-11T05:23:51.921Z"
      },
      {
        "duration": 22,
        "start_time": "2023-05-11T05:23:58.921Z"
      },
      {
        "duration": 44,
        "start_time": "2023-05-11T05:24:05.873Z"
      },
      {
        "duration": 26,
        "start_time": "2023-05-11T05:25:12.699Z"
      },
      {
        "duration": 25,
        "start_time": "2023-05-11T05:25:19.334Z"
      },
      {
        "duration": 21,
        "start_time": "2023-05-11T05:25:39.567Z"
      },
      {
        "duration": 35,
        "start_time": "2023-05-11T05:27:35.513Z"
      },
      {
        "duration": 36,
        "start_time": "2023-05-11T05:28:33.821Z"
      },
      {
        "duration": 40,
        "start_time": "2023-05-11T05:29:11.692Z"
      },
      {
        "duration": 33,
        "start_time": "2023-05-11T05:29:56.398Z"
      },
      {
        "duration": 78,
        "start_time": "2023-05-11T05:30:51.546Z"
      },
      {
        "duration": 90,
        "start_time": "2023-05-11T05:32:02.186Z"
      },
      {
        "duration": 80,
        "start_time": "2023-05-11T05:33:17.448Z"
      },
      {
        "duration": 76,
        "start_time": "2023-05-11T05:33:42.405Z"
      },
      {
        "duration": 34,
        "start_time": "2023-05-11T05:35:20.526Z"
      },
      {
        "duration": 4,
        "start_time": "2023-05-11T05:37:21.227Z"
      },
      {
        "duration": 10,
        "start_time": "2023-05-11T05:38:02.451Z"
      },
      {
        "duration": 5,
        "start_time": "2023-05-11T05:38:08.115Z"
      },
      {
        "duration": 8,
        "start_time": "2023-05-11T05:38:14.914Z"
      },
      {
        "duration": 4,
        "start_time": "2023-05-11T05:38:35.226Z"
      },
      {
        "duration": 5,
        "start_time": "2023-05-11T05:44:04.349Z"
      },
      {
        "duration": 4,
        "start_time": "2023-05-11T05:45:44.084Z"
      },
      {
        "duration": 6,
        "start_time": "2023-05-11T05:46:27.042Z"
      },
      {
        "duration": 6,
        "start_time": "2023-05-11T05:48:40.280Z"
      },
      {
        "duration": 6,
        "start_time": "2023-05-11T05:49:55.288Z"
      },
      {
        "duration": 10,
        "start_time": "2023-05-11T05:50:48.135Z"
      },
      {
        "duration": 9,
        "start_time": "2023-05-11T05:51:48.907Z"
      },
      {
        "duration": 8,
        "start_time": "2023-05-11T05:52:00.685Z"
      },
      {
        "duration": 6,
        "start_time": "2023-05-11T05:52:27.366Z"
      },
      {
        "duration": 11,
        "start_time": "2023-05-11T05:52:39.427Z"
      },
      {
        "duration": 8,
        "start_time": "2023-05-11T05:53:04.422Z"
      },
      {
        "duration": 9,
        "start_time": "2023-05-11T05:56:19.962Z"
      },
      {
        "duration": 3,
        "start_time": "2023-05-11T09:20:38.373Z"
      },
      {
        "duration": 5,
        "start_time": "2023-05-11T09:20:43.132Z"
      },
      {
        "duration": 32,
        "start_time": "2023-05-11T09:21:09.112Z"
      },
      {
        "duration": 80,
        "start_time": "2023-05-11T09:21:36.452Z"
      },
      {
        "duration": 64,
        "start_time": "2023-05-11T09:22:20.105Z"
      },
      {
        "duration": 73,
        "start_time": "2023-05-11T09:22:30.059Z"
      },
      {
        "duration": 67,
        "start_time": "2023-05-11T09:22:42.251Z"
      },
      {
        "duration": 67,
        "start_time": "2023-05-11T09:23:10.946Z"
      },
      {
        "duration": 1549,
        "start_time": "2023-05-11T09:27:35.639Z"
      },
      {
        "duration": 72,
        "start_time": "2023-05-11T09:27:45.608Z"
      },
      {
        "duration": 77,
        "start_time": "2023-05-11T09:28:00.411Z"
      },
      {
        "duration": 73,
        "start_time": "2023-05-11T09:28:20.142Z"
      },
      {
        "duration": 98,
        "start_time": "2023-05-11T09:28:34.047Z"
      },
      {
        "duration": 66,
        "start_time": "2023-05-11T09:28:39.733Z"
      },
      {
        "duration": 194,
        "start_time": "2023-05-11T09:28:51.623Z"
      },
      {
        "duration": 90,
        "start_time": "2023-05-11T09:29:07.085Z"
      },
      {
        "duration": 78,
        "start_time": "2023-05-11T09:30:52.852Z"
      },
      {
        "duration": 82,
        "start_time": "2023-05-11T09:31:19.036Z"
      },
      {
        "duration": 34,
        "start_time": "2023-05-11T09:50:09.639Z"
      },
      {
        "duration": 161,
        "start_time": "2023-05-11T09:50:32.717Z"
      },
      {
        "duration": 25,
        "start_time": "2023-05-11T09:50:37.549Z"
      },
      {
        "duration": 28,
        "start_time": "2023-05-11T09:51:06.013Z"
      },
      {
        "duration": 24,
        "start_time": "2023-05-11T09:51:14.853Z"
      },
      {
        "duration": 29,
        "start_time": "2023-05-11T09:51:18.277Z"
      },
      {
        "duration": 35,
        "start_time": "2023-05-11T09:51:27.414Z"
      },
      {
        "duration": 24,
        "start_time": "2023-05-11T09:51:55.419Z"
      },
      {
        "duration": 28,
        "start_time": "2023-05-11T09:53:06.311Z"
      },
      {
        "duration": 12,
        "start_time": "2023-05-11T09:53:30.216Z"
      },
      {
        "duration": 42,
        "start_time": "2023-05-11T09:53:37.089Z"
      },
      {
        "duration": 22,
        "start_time": "2023-05-11T09:53:41.754Z"
      },
      {
        "duration": 13,
        "start_time": "2023-05-11T09:53:53.690Z"
      },
      {
        "duration": 25,
        "start_time": "2023-05-11T09:54:59.073Z"
      },
      {
        "duration": 25,
        "start_time": "2023-05-11T09:55:18.121Z"
      },
      {
        "duration": 47,
        "start_time": "2023-05-11T09:55:38.991Z"
      },
      {
        "duration": 25,
        "start_time": "2023-05-11T09:56:12.920Z"
      },
      {
        "duration": 25,
        "start_time": "2023-05-11T09:56:33.912Z"
      },
      {
        "duration": 333,
        "start_time": "2023-05-11T09:57:21.319Z"
      },
      {
        "duration": 46,
        "start_time": "2023-05-11T09:57:29.886Z"
      },
      {
        "duration": 4644,
        "start_time": "2023-05-11T09:59:23.548Z"
      },
      {
        "duration": 73,
        "start_time": "2023-05-11T09:59:50.919Z"
      },
      {
        "duration": 87,
        "start_time": "2023-05-11T10:00:09.259Z"
      },
      {
        "duration": 92,
        "start_time": "2023-05-11T10:02:02.769Z"
      },
      {
        "duration": 82,
        "start_time": "2023-05-11T10:02:16.718Z"
      },
      {
        "duration": 105,
        "start_time": "2023-05-11T10:03:14.881Z"
      },
      {
        "duration": 88,
        "start_time": "2023-05-11T10:03:34.647Z"
      },
      {
        "duration": 75,
        "start_time": "2023-05-11T10:03:48.848Z"
      },
      {
        "duration": 56,
        "start_time": "2023-05-11T10:03:57.321Z"
      },
      {
        "duration": 85,
        "start_time": "2023-05-11T10:04:07.630Z"
      },
      {
        "duration": 25,
        "start_time": "2023-05-11T10:04:37.726Z"
      },
      {
        "duration": 33,
        "start_time": "2023-05-11T10:06:20.971Z"
      },
      {
        "duration": 27,
        "start_time": "2023-05-11T10:07:28.621Z"
      },
      {
        "duration": 26,
        "start_time": "2023-05-11T10:08:31.866Z"
      },
      {
        "duration": 29,
        "start_time": "2023-05-11T10:09:01.019Z"
      },
      {
        "duration": 34,
        "start_time": "2023-05-11T10:11:02.040Z"
      },
      {
        "duration": 33,
        "start_time": "2023-05-11T10:11:17.055Z"
      },
      {
        "duration": 31,
        "start_time": "2023-05-11T10:11:29.351Z"
      },
      {
        "duration": 3113,
        "start_time": "2023-05-11T10:11:38.568Z"
      },
      {
        "duration": 2941,
        "start_time": "2023-05-11T10:11:52.478Z"
      },
      {
        "duration": 5906,
        "start_time": "2023-05-11T10:12:21.015Z"
      },
      {
        "duration": 402,
        "start_time": "2023-05-11T10:12:31.350Z"
      },
      {
        "duration": 47,
        "start_time": "2023-05-11T10:13:56.525Z"
      },
      {
        "duration": 47,
        "start_time": "2023-05-11T10:14:34.468Z"
      },
      {
        "duration": 23,
        "start_time": "2023-05-11T10:14:44.268Z"
      },
      {
        "duration": 24,
        "start_time": "2023-05-11T10:15:10.348Z"
      },
      {
        "duration": 22,
        "start_time": "2023-05-11T10:18:28.335Z"
      },
      {
        "duration": 79,
        "start_time": "2023-05-11T10:19:09.935Z"
      },
      {
        "duration": 34,
        "start_time": "2023-05-11T10:19:35.921Z"
      },
      {
        "duration": 89,
        "start_time": "2023-05-11T10:19:43.758Z"
      },
      {
        "duration": 87,
        "start_time": "2023-05-11T10:19:58.174Z"
      },
      {
        "duration": 74,
        "start_time": "2023-05-11T10:20:10.815Z"
      },
      {
        "duration": 93,
        "start_time": "2023-05-11T10:20:16.542Z"
      },
      {
        "duration": 174,
        "start_time": "2023-05-11T10:20:53.445Z"
      },
      {
        "duration": 294,
        "start_time": "2023-05-11T10:20:58.621Z"
      },
      {
        "duration": 43,
        "start_time": "2023-05-11T10:21:02.989Z"
      },
      {
        "duration": 33,
        "start_time": "2023-05-11T10:21:24.417Z"
      },
      {
        "duration": 0,
        "start_time": "2023-05-11T10:21:38.064Z"
      },
      {
        "duration": 27,
        "start_time": "2023-05-11T10:21:51.156Z"
      },
      {
        "duration": 25,
        "start_time": "2023-05-11T10:21:57.660Z"
      },
      {
        "duration": 34,
        "start_time": "2023-05-11T10:22:07.883Z"
      },
      {
        "duration": 28,
        "start_time": "2023-05-11T10:22:39.277Z"
      },
      {
        "duration": 27,
        "start_time": "2023-05-11T10:22:42.660Z"
      },
      {
        "duration": 34,
        "start_time": "2023-05-11T10:22:45.920Z"
      },
      {
        "duration": 33,
        "start_time": "2023-05-11T10:22:51.883Z"
      },
      {
        "duration": 27,
        "start_time": "2023-05-11T10:23:04.234Z"
      },
      {
        "duration": 26,
        "start_time": "2023-05-11T10:23:26.427Z"
      },
      {
        "duration": 25,
        "start_time": "2023-05-11T10:23:48.875Z"
      },
      {
        "duration": 25,
        "start_time": "2023-05-11T10:23:59.049Z"
      },
      {
        "duration": 48,
        "start_time": "2023-05-11T10:24:15.177Z"
      },
      {
        "duration": 24,
        "start_time": "2023-05-11T10:24:19.958Z"
      },
      {
        "duration": 28,
        "start_time": "2023-05-11T10:24:27.980Z"
      },
      {
        "duration": 29,
        "start_time": "2023-05-11T10:25:07.832Z"
      },
      {
        "duration": 23,
        "start_time": "2023-05-11T10:25:17.118Z"
      },
      {
        "duration": 24,
        "start_time": "2023-05-11T10:26:57.440Z"
      },
      {
        "duration": 27,
        "start_time": "2023-05-11T10:27:09.166Z"
      },
      {
        "duration": 29,
        "start_time": "2023-05-11T10:27:26.418Z"
      },
      {
        "duration": 35,
        "start_time": "2023-05-11T10:27:47.913Z"
      },
      {
        "duration": 35,
        "start_time": "2023-05-11T10:30:52.074Z"
      },
      {
        "duration": 53,
        "start_time": "2023-05-11T10:30:59.786Z"
      },
      {
        "duration": 24,
        "start_time": "2023-05-11T10:31:08.215Z"
      },
      {
        "duration": 37,
        "start_time": "2023-05-11T10:31:33.025Z"
      },
      {
        "duration": 173,
        "start_time": "2023-05-11T10:31:42.241Z"
      },
      {
        "duration": 33,
        "start_time": "2023-05-11T10:31:47.621Z"
      },
      {
        "duration": 35,
        "start_time": "2023-05-11T10:33:34.100Z"
      },
      {
        "duration": 23,
        "start_time": "2023-05-11T10:33:50.808Z"
      },
      {
        "duration": 22,
        "start_time": "2023-05-11T10:34:06.063Z"
      },
      {
        "duration": 24,
        "start_time": "2023-05-11T10:34:24.343Z"
      },
      {
        "duration": 144,
        "start_time": "2023-05-11T10:36:46.420Z"
      },
      {
        "duration": 159,
        "start_time": "2023-05-11T10:36:50.028Z"
      },
      {
        "duration": 34,
        "start_time": "2023-05-11T10:36:53.156Z"
      },
      {
        "duration": 36,
        "start_time": "2023-05-11T10:36:56.852Z"
      },
      {
        "duration": 39,
        "start_time": "2023-05-11T10:37:33.587Z"
      },
      {
        "duration": 38,
        "start_time": "2023-05-11T10:38:23.513Z"
      },
      {
        "duration": 35,
        "start_time": "2023-05-11T10:39:50.742Z"
      },
      {
        "duration": 31,
        "start_time": "2023-05-11T10:49:20.006Z"
      },
      {
        "duration": 31,
        "start_time": "2023-05-11T10:49:27.537Z"
      },
      {
        "duration": 32,
        "start_time": "2023-05-11T10:49:31.361Z"
      },
      {
        "duration": 155,
        "start_time": "2023-05-11T10:49:36.969Z"
      },
      {
        "duration": 81,
        "start_time": "2023-05-11T10:50:00.331Z"
      },
      {
        "duration": 66,
        "start_time": "2023-05-11T10:51:26.015Z"
      },
      {
        "duration": 46,
        "start_time": "2023-05-11T10:51:34.880Z"
      },
      {
        "duration": 79,
        "start_time": "2023-05-11T10:51:45.791Z"
      },
      {
        "duration": 36,
        "start_time": "2023-05-11T10:52:54.158Z"
      },
      {
        "duration": 75,
        "start_time": "2023-05-11T10:53:13.453Z"
      },
      {
        "duration": 118,
        "start_time": "2023-05-11T10:55:41.836Z"
      },
      {
        "duration": 247,
        "start_time": "2023-05-11T10:55:50.109Z"
      },
      {
        "duration": 70,
        "start_time": "2023-05-11T10:55:54.922Z"
      },
      {
        "duration": 86,
        "start_time": "2023-05-11T10:56:18.630Z"
      },
      {
        "duration": 87,
        "start_time": "2023-05-11T10:56:27.724Z"
      },
      {
        "duration": 42,
        "start_time": "2023-05-11T10:57:04.371Z"
      },
      {
        "duration": 33,
        "start_time": "2023-05-11T10:58:00.737Z"
      },
      {
        "duration": 26,
        "start_time": "2023-05-11T10:58:07.034Z"
      },
      {
        "duration": 33,
        "start_time": "2023-05-11T11:04:29.317Z"
      },
      {
        "duration": 47,
        "start_time": "2023-05-11T11:06:21.888Z"
      },
      {
        "duration": 32,
        "start_time": "2023-05-11T11:07:27.721Z"
      },
      {
        "duration": 24,
        "start_time": "2023-05-11T11:08:10.256Z"
      },
      {
        "duration": 31,
        "start_time": "2023-05-11T11:08:20.939Z"
      },
      {
        "duration": 15,
        "start_time": "2023-05-11T11:09:06.693Z"
      },
      {
        "duration": 9,
        "start_time": "2023-05-11T11:53:14.917Z"
      },
      {
        "duration": 9,
        "start_time": "2023-05-11T11:54:10.319Z"
      },
      {
        "duration": 9,
        "start_time": "2023-05-11T11:54:27.581Z"
      },
      {
        "duration": 3522,
        "start_time": "2023-05-11T12:04:42.960Z"
      },
      {
        "duration": 15,
        "start_time": "2023-05-11T12:04:56.585Z"
      },
      {
        "duration": 13,
        "start_time": "2023-05-11T12:05:05.841Z"
      },
      {
        "duration": 12,
        "start_time": "2023-05-11T12:05:16.961Z"
      },
      {
        "duration": 11,
        "start_time": "2023-05-11T12:05:22.828Z"
      },
      {
        "duration": 10,
        "start_time": "2023-05-11T12:05:30.032Z"
      },
      {
        "duration": 7,
        "start_time": "2023-05-11T12:05:45.931Z"
      },
      {
        "duration": 12,
        "start_time": "2023-05-11T12:05:56.436Z"
      },
      {
        "duration": 8,
        "start_time": "2023-05-11T12:06:08.240Z"
      },
      {
        "duration": 28,
        "start_time": "2023-05-11T12:06:38.497Z"
      },
      {
        "duration": 764,
        "start_time": "2023-05-11T12:13:12.763Z"
      },
      {
        "duration": 26,
        "start_time": "2023-05-11T12:13:26.141Z"
      },
      {
        "duration": 15,
        "start_time": "2023-05-11T12:14:33.512Z"
      },
      {
        "duration": 781,
        "start_time": "2023-05-12T02:12:59.050Z"
      },
      {
        "duration": 514,
        "start_time": "2023-05-12T02:12:59.833Z"
      },
      {
        "duration": 85,
        "start_time": "2023-05-12T02:13:00.351Z"
      },
      {
        "duration": 145,
        "start_time": "2023-05-12T02:13:00.439Z"
      },
      {
        "duration": 12,
        "start_time": "2023-05-12T02:13:00.587Z"
      },
      {
        "duration": 39,
        "start_time": "2023-05-12T02:13:00.601Z"
      },
      {
        "duration": 55,
        "start_time": "2023-05-12T02:13:00.642Z"
      },
      {
        "duration": 10,
        "start_time": "2023-05-12T02:13:00.699Z"
      },
      {
        "duration": 45,
        "start_time": "2023-05-12T02:13:00.711Z"
      },
      {
        "duration": 7,
        "start_time": "2023-05-12T02:13:00.758Z"
      },
      {
        "duration": 777,
        "start_time": "2023-05-12T02:13:00.767Z"
      },
      {
        "duration": 9,
        "start_time": "2023-05-12T02:13:01.546Z"
      },
      {
        "duration": 248,
        "start_time": "2023-05-12T02:13:01.558Z"
      },
      {
        "duration": 53,
        "start_time": "2023-05-12T02:13:01.808Z"
      },
      {
        "duration": 131,
        "start_time": "2023-05-12T02:13:01.863Z"
      },
      {
        "duration": 56,
        "start_time": "2023-05-12T02:13:01.996Z"
      },
      {
        "duration": 24,
        "start_time": "2023-05-12T02:13:02.053Z"
      },
      {
        "duration": 105,
        "start_time": "2023-05-12T02:13:02.079Z"
      },
      {
        "duration": 93,
        "start_time": "2023-05-12T02:13:02.186Z"
      },
      {
        "duration": 27,
        "start_time": "2023-05-12T02:13:02.281Z"
      },
      {
        "duration": 67,
        "start_time": "2023-05-12T02:13:02.310Z"
      },
      {
        "duration": 41,
        "start_time": "2023-05-12T02:13:02.378Z"
      },
      {
        "duration": 86,
        "start_time": "2023-05-12T02:13:02.421Z"
      },
      {
        "duration": 8,
        "start_time": "2023-05-12T02:13:02.509Z"
      },
      {
        "duration": 162,
        "start_time": "2023-05-12T02:13:02.519Z"
      },
      {
        "duration": 0,
        "start_time": "2023-05-12T02:13:02.683Z"
      },
      {
        "duration": 0,
        "start_time": "2023-05-12T02:13:02.684Z"
      },
      {
        "duration": 0,
        "start_time": "2023-05-12T02:13:02.686Z"
      },
      {
        "duration": 29,
        "start_time": "2023-05-12T02:14:04.799Z"
      },
      {
        "duration": 7,
        "start_time": "2023-05-12T02:14:08.127Z"
      },
      {
        "duration": 19,
        "start_time": "2023-05-12T02:14:09.504Z"
      },
      {
        "duration": 6,
        "start_time": "2023-05-12T02:14:11.352Z"
      },
      {
        "duration": 81,
        "start_time": "2023-05-12T02:15:31.701Z"
      },
      {
        "duration": 156,
        "start_time": "2023-05-12T02:15:42.839Z"
      },
      {
        "duration": 18,
        "start_time": "2023-05-12T02:16:24.967Z"
      },
      {
        "duration": 16,
        "start_time": "2023-05-12T02:16:44.299Z"
      },
      {
        "duration": 17,
        "start_time": "2023-05-12T02:16:49.999Z"
      },
      {
        "duration": 9,
        "start_time": "2023-05-12T02:22:51.370Z"
      },
      {
        "duration": 6,
        "start_time": "2023-05-12T02:23:14.898Z"
      },
      {
        "duration": 14,
        "start_time": "2023-05-12T02:23:48.002Z"
      },
      {
        "duration": 1159,
        "start_time": "2023-05-12T02:24:06.730Z"
      },
      {
        "duration": 11,
        "start_time": "2023-05-12T02:24:12.442Z"
      },
      {
        "duration": 6,
        "start_time": "2023-05-12T02:26:28.712Z"
      },
      {
        "duration": 13,
        "start_time": "2023-05-12T02:26:35.385Z"
      },
      {
        "duration": 11,
        "start_time": "2023-05-12T02:28:06.304Z"
      },
      {
        "duration": 7,
        "start_time": "2023-05-12T02:28:21.272Z"
      },
      {
        "duration": 6,
        "start_time": "2023-05-12T02:29:14.599Z"
      },
      {
        "duration": 8,
        "start_time": "2023-05-12T02:29:21.722Z"
      },
      {
        "duration": 28,
        "start_time": "2023-05-12T02:29:51.303Z"
      },
      {
        "duration": 24,
        "start_time": "2023-05-12T02:30:09.500Z"
      },
      {
        "duration": 29,
        "start_time": "2023-05-12T02:30:47.414Z"
      },
      {
        "duration": 1226,
        "start_time": "2023-05-12T02:30:54.801Z"
      },
      {
        "duration": 1144,
        "start_time": "2023-05-12T02:31:06.462Z"
      },
      {
        "duration": 28,
        "start_time": "2023-05-12T02:31:20.725Z"
      },
      {
        "duration": 30,
        "start_time": "2023-05-12T02:31:35.600Z"
      },
      {
        "duration": 23,
        "start_time": "2023-05-12T02:31:58.358Z"
      },
      {
        "duration": 8,
        "start_time": "2023-05-12T02:32:41.605Z"
      },
      {
        "duration": 7,
        "start_time": "2023-05-12T02:33:03.909Z"
      },
      {
        "duration": 7,
        "start_time": "2023-05-12T02:34:32.605Z"
      },
      {
        "duration": 8,
        "start_time": "2023-05-12T02:34:46.302Z"
      },
      {
        "duration": 12,
        "start_time": "2023-05-12T02:35:43.252Z"
      },
      {
        "duration": 9,
        "start_time": "2023-05-12T02:35:57.201Z"
      },
      {
        "duration": 24,
        "start_time": "2023-05-12T02:38:28.875Z"
      },
      {
        "duration": 115,
        "start_time": "2023-05-12T02:40:55.802Z"
      },
      {
        "duration": 6,
        "start_time": "2023-05-12T02:41:57.047Z"
      },
      {
        "duration": 18,
        "start_time": "2023-05-12T02:43:14.327Z"
      },
      {
        "duration": 7,
        "start_time": "2023-05-12T02:44:40.439Z"
      },
      {
        "duration": 7,
        "start_time": "2023-05-12T02:45:32.918Z"
      },
      {
        "duration": 16,
        "start_time": "2023-05-12T02:45:40.678Z"
      },
      {
        "duration": 8,
        "start_time": "2023-05-12T02:45:48.706Z"
      },
      {
        "duration": 5,
        "start_time": "2023-05-12T02:45:54.951Z"
      },
      {
        "duration": 5,
        "start_time": "2023-05-12T02:46:05.525Z"
      },
      {
        "duration": 5,
        "start_time": "2023-05-12T02:46:12.342Z"
      },
      {
        "duration": 8,
        "start_time": "2023-05-12T02:46:15.534Z"
      },
      {
        "duration": 5,
        "start_time": "2023-05-12T02:46:28.814Z"
      },
      {
        "duration": 8,
        "start_time": "2023-05-12T02:46:45.709Z"
      },
      {
        "duration": 10,
        "start_time": "2023-05-12T02:47:30.437Z"
      },
      {
        "duration": 6,
        "start_time": "2023-05-12T02:47:31.508Z"
      },
      {
        "duration": 8,
        "start_time": "2023-05-12T02:47:32.781Z"
      },
      {
        "duration": 28,
        "start_time": "2023-05-12T02:48:18.413Z"
      },
      {
        "duration": 5,
        "start_time": "2023-05-12T02:48:28.709Z"
      },
      {
        "duration": 17,
        "start_time": "2023-05-12T02:48:30.653Z"
      },
      {
        "duration": 80,
        "start_time": "2023-05-12T02:49:58.276Z"
      },
      {
        "duration": 82,
        "start_time": "2023-05-12T02:50:24.459Z"
      },
      {
        "duration": 17,
        "start_time": "2023-05-12T02:50:27.709Z"
      },
      {
        "duration": 21,
        "start_time": "2023-05-12T02:51:19.595Z"
      },
      {
        "duration": 10,
        "start_time": "2023-05-12T02:51:28.979Z"
      },
      {
        "duration": 3,
        "start_time": "2023-05-12T02:51:42.619Z"
      },
      {
        "duration": 7,
        "start_time": "2023-05-12T02:51:45.386Z"
      },
      {
        "duration": 4,
        "start_time": "2023-05-12T02:52:26.707Z"
      },
      {
        "duration": 1470,
        "start_time": "2023-05-12T02:52:29.138Z"
      },
      {
        "duration": 8,
        "start_time": "2023-05-12T02:52:38.346Z"
      },
      {
        "duration": 3,
        "start_time": "2023-05-12T02:52:47.635Z"
      },
      {
        "duration": 4,
        "start_time": "2023-05-12T02:52:54.036Z"
      },
      {
        "duration": 1247,
        "start_time": "2023-05-12T02:52:57.938Z"
      },
      {
        "duration": 4,
        "start_time": "2023-05-12T02:53:18.410Z"
      },
      {
        "duration": 1227,
        "start_time": "2023-05-12T02:53:20.306Z"
      },
      {
        "duration": 82,
        "start_time": "2023-05-12T02:53:36.874Z"
      },
      {
        "duration": 1260,
        "start_time": "2023-05-12T02:53:46.209Z"
      },
      {
        "duration": 9,
        "start_time": "2023-05-12T02:53:49.817Z"
      },
      {
        "duration": 4,
        "start_time": "2023-05-12T02:53:51.433Z"
      },
      {
        "duration": 8,
        "start_time": "2023-05-12T02:53:53.508Z"
      },
      {
        "duration": 1308,
        "start_time": "2023-05-12T02:54:04.977Z"
      },
      {
        "duration": 4,
        "start_time": "2023-05-12T02:56:50.528Z"
      },
      {
        "duration": 1548,
        "start_time": "2023-05-12T02:56:52.687Z"
      },
      {
        "duration": 3,
        "start_time": "2023-05-12T02:57:28.392Z"
      },
      {
        "duration": 3,
        "start_time": "2023-05-12T02:57:31.409Z"
      },
      {
        "duration": 1244,
        "start_time": "2023-05-12T02:57:35.016Z"
      },
      {
        "duration": 3,
        "start_time": "2023-05-12T02:58:44.583Z"
      },
      {
        "duration": 4,
        "start_time": "2023-05-12T02:58:45.766Z"
      },
      {
        "duration": 869,
        "start_time": "2023-05-12T02:59:04.559Z"
      },
      {
        "duration": 183,
        "start_time": "2023-05-12T02:59:05.430Z"
      },
      {
        "duration": 83,
        "start_time": "2023-05-12T02:59:05.615Z"
      },
      {
        "duration": 126,
        "start_time": "2023-05-12T02:59:05.703Z"
      },
      {
        "duration": 7,
        "start_time": "2023-05-12T02:59:05.831Z"
      },
      {
        "duration": 32,
        "start_time": "2023-05-12T02:59:05.840Z"
      },
      {
        "duration": 63,
        "start_time": "2023-05-12T02:59:05.874Z"
      },
      {
        "duration": 7,
        "start_time": "2023-05-12T02:59:05.939Z"
      },
      {
        "duration": 56,
        "start_time": "2023-05-12T02:59:05.948Z"
      },
      {
        "duration": 6,
        "start_time": "2023-05-12T02:59:06.006Z"
      },
      {
        "duration": 540,
        "start_time": "2023-05-12T02:59:06.013Z"
      },
      {
        "duration": 7,
        "start_time": "2023-05-12T02:59:06.554Z"
      },
      {
        "duration": 211,
        "start_time": "2023-05-12T02:59:06.563Z"
      },
      {
        "duration": 55,
        "start_time": "2023-05-12T02:59:06.776Z"
      },
      {
        "duration": 84,
        "start_time": "2023-05-12T02:59:06.833Z"
      },
      {
        "duration": 45,
        "start_time": "2023-05-12T02:59:06.918Z"
      },
      {
        "duration": 39,
        "start_time": "2023-05-12T02:59:06.964Z"
      },
      {
        "duration": 76,
        "start_time": "2023-05-12T02:59:07.005Z"
      },
      {
        "duration": 82,
        "start_time": "2023-05-12T02:59:07.083Z"
      },
      {
        "duration": 4,
        "start_time": "2023-05-12T02:59:07.167Z"
      },
      {
        "duration": 45,
        "start_time": "2023-05-12T02:59:07.172Z"
      },
      {
        "duration": 25,
        "start_time": "2023-05-12T02:59:07.219Z"
      },
      {
        "duration": 102,
        "start_time": "2023-05-12T02:59:07.245Z"
      },
      {
        "duration": 8,
        "start_time": "2023-05-12T02:59:07.348Z"
      },
      {
        "duration": 55,
        "start_time": "2023-05-12T02:59:07.358Z"
      },
      {
        "duration": 12,
        "start_time": "2023-05-12T02:59:07.415Z"
      },
      {
        "duration": 23,
        "start_time": "2023-05-12T02:59:07.428Z"
      },
      {
        "duration": 19,
        "start_time": "2023-05-12T02:59:07.452Z"
      },
      {
        "duration": 16,
        "start_time": "2023-05-12T02:59:07.472Z"
      },
      {
        "duration": 6,
        "start_time": "2023-05-12T02:59:07.490Z"
      },
      {
        "duration": 1363,
        "start_time": "2023-05-12T02:59:07.498Z"
      },
      {
        "duration": 3,
        "start_time": "2023-05-12T02:59:43.143Z"
      },
      {
        "duration": 3,
        "start_time": "2023-05-12T02:59:45.270Z"
      },
      {
        "duration": 4,
        "start_time": "2023-05-12T02:59:57.908Z"
      },
      {
        "duration": 1301,
        "start_time": "2023-05-12T03:00:00.150Z"
      },
      {
        "duration": 4,
        "start_time": "2023-05-12T03:00:20.182Z"
      },
      {
        "duration": 7,
        "start_time": "2023-05-12T03:00:22.470Z"
      },
      {
        "duration": 3,
        "start_time": "2023-05-12T03:00:55.959Z"
      },
      {
        "duration": 1312,
        "start_time": "2023-05-12T03:00:59.525Z"
      },
      {
        "duration": 4,
        "start_time": "2023-05-12T03:01:18.510Z"
      },
      {
        "duration": 1250,
        "start_time": "2023-05-12T03:01:20.958Z"
      },
      {
        "duration": 3,
        "start_time": "2023-05-12T03:02:43.254Z"
      },
      {
        "duration": 1147,
        "start_time": "2023-05-12T03:02:45.765Z"
      },
      {
        "duration": 3,
        "start_time": "2023-05-12T03:02:55.029Z"
      },
      {
        "duration": 1156,
        "start_time": "2023-05-12T03:02:57.524Z"
      },
      {
        "duration": 3,
        "start_time": "2023-05-12T03:03:06.405Z"
      },
      {
        "duration": 3,
        "start_time": "2023-05-12T03:03:29.829Z"
      },
      {
        "duration": 11,
        "start_time": "2023-05-12T03:03:33.564Z"
      },
      {
        "duration": 3,
        "start_time": "2023-05-12T03:03:40.484Z"
      },
      {
        "duration": 1220,
        "start_time": "2023-05-12T03:03:41.787Z"
      },
      {
        "duration": 4,
        "start_time": "2023-05-12T03:03:59.428Z"
      },
      {
        "duration": 1188,
        "start_time": "2023-05-12T03:04:02.412Z"
      },
      {
        "duration": 7,
        "start_time": "2023-05-12T03:04:27.948Z"
      },
      {
        "duration": 9,
        "start_time": "2023-05-12T03:04:42.515Z"
      },
      {
        "duration": 3,
        "start_time": "2023-05-12T03:04:51.804Z"
      },
      {
        "duration": 1367,
        "start_time": "2023-05-12T03:04:54.564Z"
      },
      {
        "duration": 3,
        "start_time": "2023-05-12T03:05:10.068Z"
      },
      {
        "duration": 1627,
        "start_time": "2023-05-12T03:05:12.659Z"
      },
      {
        "duration": 4,
        "start_time": "2023-05-12T03:05:40.291Z"
      },
      {
        "duration": 3,
        "start_time": "2023-05-12T03:05:42.139Z"
      },
      {
        "duration": 4,
        "start_time": "2023-05-12T03:05:55.659Z"
      },
      {
        "duration": 7,
        "start_time": "2023-05-12T03:05:57.379Z"
      },
      {
        "duration": 4,
        "start_time": "2023-05-12T03:06:20.226Z"
      },
      {
        "duration": 3,
        "start_time": "2023-05-12T03:06:22.843Z"
      },
      {
        "duration": 8,
        "start_time": "2023-05-12T03:06:24.787Z"
      },
      {
        "duration": 4,
        "start_time": "2023-05-12T03:06:33.506Z"
      },
      {
        "duration": 6,
        "start_time": "2023-05-12T03:06:34.251Z"
      },
      {
        "duration": 3,
        "start_time": "2023-05-12T03:06:46.915Z"
      },
      {
        "duration": 6,
        "start_time": "2023-05-12T03:06:48.707Z"
      },
      {
        "duration": 3,
        "start_time": "2023-05-12T03:07:22.123Z"
      },
      {
        "duration": 6,
        "start_time": "2023-05-12T03:07:22.977Z"
      },
      {
        "duration": 6,
        "start_time": "2023-05-12T03:07:48.194Z"
      },
      {
        "duration": 6,
        "start_time": "2023-05-12T03:07:49.081Z"
      },
      {
        "duration": 5,
        "start_time": "2023-05-12T03:09:05.122Z"
      },
      {
        "duration": 10,
        "start_time": "2023-05-12T03:09:06.089Z"
      },
      {
        "duration": 6,
        "start_time": "2023-05-12T03:10:16.368Z"
      },
      {
        "duration": 9,
        "start_time": "2023-05-12T03:10:18.873Z"
      },
      {
        "duration": 6,
        "start_time": "2023-05-12T03:10:33.809Z"
      },
      {
        "duration": 6,
        "start_time": "2023-05-12T03:10:48.952Z"
      },
      {
        "duration": 17,
        "start_time": "2023-05-12T03:10:51.744Z"
      },
      {
        "duration": 919,
        "start_time": "2023-05-12T07:43:48.278Z"
      },
      {
        "duration": 911,
        "start_time": "2023-05-12T07:43:49.199Z"
      },
      {
        "duration": 113,
        "start_time": "2023-05-12T07:43:50.111Z"
      },
      {
        "duration": 156,
        "start_time": "2023-05-12T07:43:50.225Z"
      },
      {
        "duration": 10,
        "start_time": "2023-05-12T07:43:50.384Z"
      },
      {
        "duration": 25,
        "start_time": "2023-05-12T07:43:50.396Z"
      },
      {
        "duration": 83,
        "start_time": "2023-05-12T07:43:50.423Z"
      },
      {
        "duration": 12,
        "start_time": "2023-05-12T07:43:50.509Z"
      },
      {
        "duration": 64,
        "start_time": "2023-05-12T07:43:50.523Z"
      },
      {
        "duration": 5,
        "start_time": "2023-05-12T07:43:50.591Z"
      },
      {
        "duration": 850,
        "start_time": "2023-05-12T07:43:50.598Z"
      },
      {
        "duration": 9,
        "start_time": "2023-05-12T07:43:51.450Z"
      },
      {
        "duration": 273,
        "start_time": "2023-05-12T07:43:51.461Z"
      },
      {
        "duration": 66,
        "start_time": "2023-05-12T07:43:51.739Z"
      },
      {
        "duration": 95,
        "start_time": "2023-05-12T07:43:51.807Z"
      },
      {
        "duration": 59,
        "start_time": "2023-05-12T07:43:51.904Z"
      },
      {
        "duration": 36,
        "start_time": "2023-05-12T07:43:51.964Z"
      },
      {
        "duration": 122,
        "start_time": "2023-05-12T07:43:52.002Z"
      },
      {
        "duration": 159,
        "start_time": "2023-05-12T07:43:52.126Z"
      },
      {
        "duration": 6,
        "start_time": "2023-05-12T07:43:52.287Z"
      },
      {
        "duration": 82,
        "start_time": "2023-05-12T07:43:52.295Z"
      },
      {
        "duration": 31,
        "start_time": "2023-05-12T07:43:52.379Z"
      },
      {
        "duration": 104,
        "start_time": "2023-05-12T07:43:52.412Z"
      },
      {
        "duration": 11,
        "start_time": "2023-05-12T07:43:52.518Z"
      },
      {
        "duration": 100,
        "start_time": "2023-05-12T07:43:52.531Z"
      },
      {
        "duration": 11,
        "start_time": "2023-05-12T07:43:52.634Z"
      },
      {
        "duration": 30,
        "start_time": "2023-05-12T07:43:52.647Z"
      },
      {
        "duration": 10,
        "start_time": "2023-05-12T07:43:52.678Z"
      },
      {
        "duration": 17,
        "start_time": "2023-05-12T07:43:52.695Z"
      },
      {
        "duration": 9,
        "start_time": "2023-05-12T07:43:52.715Z"
      },
      {
        "duration": 157,
        "start_time": "2023-05-12T07:43:52.726Z"
      },
      {
        "duration": 27,
        "start_time": "2023-05-12T07:50:39.091Z"
      },
      {
        "duration": 13,
        "start_time": "2023-05-12T07:50:47.177Z"
      },
      {
        "duration": 133,
        "start_time": "2023-05-12T07:50:54.191Z"
      },
      {
        "duration": 16,
        "start_time": "2023-05-12T07:51:25.082Z"
      },
      {
        "duration": 13,
        "start_time": "2023-05-12T07:51:42.776Z"
      },
      {
        "duration": 8,
        "start_time": "2023-05-12T07:52:38.316Z"
      },
      {
        "duration": 16,
        "start_time": "2023-05-12T07:53:11.681Z"
      },
      {
        "duration": 16,
        "start_time": "2023-05-12T07:53:14.346Z"
      },
      {
        "duration": 10,
        "start_time": "2023-05-12T07:53:29.530Z"
      },
      {
        "duration": 124,
        "start_time": "2023-05-12T07:55:54.332Z"
      },
      {
        "duration": 9,
        "start_time": "2023-05-12T07:55:58.040Z"
      },
      {
        "duration": 21,
        "start_time": "2023-05-12T07:56:21.880Z"
      },
      {
        "duration": 10,
        "start_time": "2023-05-12T07:56:24.227Z"
      },
      {
        "duration": 12,
        "start_time": "2023-05-12T07:56:48.526Z"
      },
      {
        "duration": 23,
        "start_time": "2023-05-12T07:57:06.673Z"
      },
      {
        "duration": 22,
        "start_time": "2023-05-12T07:58:19.903Z"
      },
      {
        "duration": 87,
        "start_time": "2023-05-12T07:58:46.507Z"
      },
      {
        "duration": 43,
        "start_time": "2023-05-12T10:09:58.085Z"
      },
      {
        "duration": 10,
        "start_time": "2023-05-12T10:10:04.014Z"
      },
      {
        "duration": 10,
        "start_time": "2023-05-12T10:11:51.836Z"
      },
      {
        "duration": 11,
        "start_time": "2023-05-12T10:11:59.677Z"
      },
      {
        "duration": 16,
        "start_time": "2023-05-12T10:12:13.389Z"
      },
      {
        "duration": 28,
        "start_time": "2023-05-12T10:13:24.893Z"
      },
      {
        "duration": 16,
        "start_time": "2023-05-12T10:13:51.195Z"
      },
      {
        "duration": 24,
        "start_time": "2023-05-12T10:14:04.943Z"
      },
      {
        "duration": 20,
        "start_time": "2023-05-12T10:14:11.677Z"
      },
      {
        "duration": 41,
        "start_time": "2023-05-12T10:14:16.445Z"
      },
      {
        "duration": 82,
        "start_time": "2023-05-12T10:15:20.914Z"
      },
      {
        "duration": 75,
        "start_time": "2023-05-12T10:15:32.271Z"
      },
      {
        "duration": 83,
        "start_time": "2023-05-12T10:17:57.206Z"
      },
      {
        "duration": 96,
        "start_time": "2023-05-12T10:18:16.300Z"
      },
      {
        "duration": 9,
        "start_time": "2023-05-12T10:41:05.275Z"
      },
      {
        "duration": 28,
        "start_time": "2023-05-12T10:41:49.634Z"
      },
      {
        "duration": 7,
        "start_time": "2023-05-12T10:48:46.307Z"
      },
      {
        "duration": 29,
        "start_time": "2023-05-12T10:55:20.295Z"
      },
      {
        "duration": 9,
        "start_time": "2023-05-12T10:56:36.689Z"
      },
      {
        "duration": 10,
        "start_time": "2023-05-12T10:57:30.035Z"
      },
      {
        "duration": 13,
        "start_time": "2023-05-12T10:57:34.619Z"
      },
      {
        "duration": 48,
        "start_time": "2023-05-12T10:57:46.930Z"
      },
      {
        "duration": 41,
        "start_time": "2023-05-12T10:58:00.875Z"
      },
      {
        "duration": 103,
        "start_time": "2023-05-12T10:58:35.575Z"
      },
      {
        "duration": 90,
        "start_time": "2023-05-12T10:59:30.070Z"
      },
      {
        "duration": 15,
        "start_time": "2023-05-12T11:11:25.101Z"
      },
      {
        "duration": 6,
        "start_time": "2023-05-12T11:11:30.230Z"
      },
      {
        "duration": 7,
        "start_time": "2023-05-12T11:11:32.412Z"
      },
      {
        "duration": 42,
        "start_time": "2023-05-12T11:11:41.287Z"
      },
      {
        "duration": 28,
        "start_time": "2023-05-12T11:12:01.602Z"
      },
      {
        "duration": 84,
        "start_time": "2023-05-12T11:12:15.977Z"
      },
      {
        "duration": 56,
        "start_time": "2023-05-12T11:15:20.028Z"
      },
      {
        "duration": 62,
        "start_time": "2023-05-12T12:33:10.843Z"
      },
      {
        "duration": 955,
        "start_time": "2023-05-12T12:33:22.782Z"
      },
      {
        "duration": 186,
        "start_time": "2023-05-12T12:33:23.739Z"
      },
      {
        "duration": 107,
        "start_time": "2023-05-12T12:33:23.927Z"
      },
      {
        "duration": 175,
        "start_time": "2023-05-12T12:33:24.037Z"
      },
      {
        "duration": 11,
        "start_time": "2023-05-12T12:33:24.214Z"
      },
      {
        "duration": 82,
        "start_time": "2023-05-12T12:33:24.227Z"
      },
      {
        "duration": 56,
        "start_time": "2023-05-12T12:33:24.312Z"
      },
      {
        "duration": 28,
        "start_time": "2023-05-12T12:33:24.371Z"
      },
      {
        "duration": 35,
        "start_time": "2023-05-12T12:33:24.407Z"
      },
      {
        "duration": 6,
        "start_time": "2023-05-12T12:33:24.445Z"
      },
      {
        "duration": 731,
        "start_time": "2023-05-12T12:33:24.453Z"
      },
      {
        "duration": 19,
        "start_time": "2023-05-12T12:33:25.189Z"
      },
      {
        "duration": 263,
        "start_time": "2023-05-12T12:33:25.212Z"
      },
      {
        "duration": 92,
        "start_time": "2023-05-12T12:33:25.477Z"
      },
      {
        "duration": 148,
        "start_time": "2023-05-12T12:33:25.572Z"
      },
      {
        "duration": 84,
        "start_time": "2023-05-12T12:33:25.724Z"
      },
      {
        "duration": 24,
        "start_time": "2023-05-12T12:33:25.809Z"
      },
      {
        "duration": 91,
        "start_time": "2023-05-12T12:33:25.834Z"
      },
      {
        "duration": 121,
        "start_time": "2023-05-12T12:33:25.928Z"
      },
      {
        "duration": 7,
        "start_time": "2023-05-12T12:33:26.051Z"
      },
      {
        "duration": 53,
        "start_time": "2023-05-12T12:33:26.060Z"
      },
      {
        "duration": 33,
        "start_time": "2023-05-12T12:33:26.115Z"
      },
      {
        "duration": 128,
        "start_time": "2023-05-12T12:33:26.149Z"
      },
      {
        "duration": 18,
        "start_time": "2023-05-12T12:33:26.279Z"
      },
      {
        "duration": 8,
        "start_time": "2023-05-12T12:36:17.302Z"
      },
      {
        "duration": 2146,
        "start_time": "2023-05-12T12:36:20.017Z"
      },
      {
        "duration": 4,
        "start_time": "2023-05-12T12:36:39.146Z"
      },
      {
        "duration": 199,
        "start_time": "2023-05-12T12:36:39.153Z"
      },
      {
        "duration": 106,
        "start_time": "2023-05-12T12:36:39.354Z"
      },
      {
        "duration": 165,
        "start_time": "2023-05-12T12:36:39.462Z"
      },
      {
        "duration": 11,
        "start_time": "2023-05-12T12:36:39.631Z"
      },
      {
        "duration": 59,
        "start_time": "2023-05-12T12:36:39.645Z"
      },
      {
        "duration": 68,
        "start_time": "2023-05-12T12:36:39.718Z"
      },
      {
        "duration": 9,
        "start_time": "2023-05-12T12:36:39.788Z"
      },
      {
        "duration": 46,
        "start_time": "2023-05-12T12:36:39.801Z"
      },
      {
        "duration": 7,
        "start_time": "2023-05-12T12:36:39.850Z"
      },
      {
        "duration": 315,
        "start_time": "2023-05-12T12:36:39.861Z"
      },
      {
        "duration": 20,
        "start_time": "2023-05-12T12:36:40.178Z"
      },
      {
        "duration": 310,
        "start_time": "2023-05-12T12:36:40.202Z"
      },
      {
        "duration": 84,
        "start_time": "2023-05-12T12:36:40.515Z"
      },
      {
        "duration": 134,
        "start_time": "2023-05-12T12:36:40.605Z"
      },
      {
        "duration": 87,
        "start_time": "2023-05-12T12:36:40.741Z"
      },
      {
        "duration": 38,
        "start_time": "2023-05-12T12:36:40.830Z"
      },
      {
        "duration": 99,
        "start_time": "2023-05-12T12:36:40.891Z"
      },
      {
        "duration": 144,
        "start_time": "2023-05-12T12:36:40.993Z"
      },
      {
        "duration": 8,
        "start_time": "2023-05-12T12:36:41.140Z"
      },
      {
        "duration": 60,
        "start_time": "2023-05-12T12:36:41.151Z"
      },
      {
        "duration": 39,
        "start_time": "2023-05-12T12:36:41.216Z"
      },
      {
        "duration": 142,
        "start_time": "2023-05-12T12:36:41.258Z"
      },
      {
        "duration": 22,
        "start_time": "2023-05-12T12:36:41.402Z"
      },
      {
        "duration": 49,
        "start_time": "2023-05-12T12:36:41.432Z"
      },
      {
        "duration": 14,
        "start_time": "2023-05-12T12:36:41.483Z"
      },
      {
        "duration": 40,
        "start_time": "2023-05-12T12:36:41.499Z"
      },
      {
        "duration": 7,
        "start_time": "2023-05-12T12:36:41.542Z"
      },
      {
        "duration": 7,
        "start_time": "2023-05-12T12:36:43.535Z"
      },
      {
        "duration": 8,
        "start_time": "2023-05-12T12:36:45.974Z"
      },
      {
        "duration": 27,
        "start_time": "2023-05-12T12:36:51.389Z"
      },
      {
        "duration": 9,
        "start_time": "2023-05-12T12:37:35.133Z"
      },
      {
        "duration": 9,
        "start_time": "2023-05-12T12:37:36.946Z"
      },
      {
        "duration": 22,
        "start_time": "2023-05-12T12:37:42.357Z"
      },
      {
        "duration": 8,
        "start_time": "2023-05-12T12:38:18.362Z"
      },
      {
        "duration": 8,
        "start_time": "2023-05-12T12:38:19.148Z"
      },
      {
        "duration": 18,
        "start_time": "2023-05-12T12:38:20.961Z"
      },
      {
        "duration": 44,
        "start_time": "2023-05-13T19:39:22.300Z"
      },
      {
        "duration": 807,
        "start_time": "2023-05-13T19:39:30.304Z"
      },
      {
        "duration": 801,
        "start_time": "2023-05-13T19:39:31.113Z"
      },
      {
        "duration": 101,
        "start_time": "2023-05-13T19:39:31.917Z"
      },
      {
        "duration": 190,
        "start_time": "2023-05-13T19:39:32.019Z"
      },
      {
        "duration": 862,
        "start_time": "2023-05-13T19:39:32.212Z"
      },
      {
        "duration": 0,
        "start_time": "2023-05-13T19:39:33.076Z"
      },
      {
        "duration": 0,
        "start_time": "2023-05-13T19:39:33.078Z"
      },
      {
        "duration": 0,
        "start_time": "2023-05-13T19:39:33.079Z"
      },
      {
        "duration": 0,
        "start_time": "2023-05-13T19:39:33.080Z"
      },
      {
        "duration": 0,
        "start_time": "2023-05-13T19:39:33.081Z"
      },
      {
        "duration": 1,
        "start_time": "2023-05-13T19:39:33.082Z"
      },
      {
        "duration": 0,
        "start_time": "2023-05-13T19:39:33.084Z"
      },
      {
        "duration": 0,
        "start_time": "2023-05-13T19:39:33.088Z"
      },
      {
        "duration": 0,
        "start_time": "2023-05-13T19:39:33.089Z"
      },
      {
        "duration": 0,
        "start_time": "2023-05-13T19:39:33.089Z"
      },
      {
        "duration": 0,
        "start_time": "2023-05-13T19:39:33.090Z"
      },
      {
        "duration": 0,
        "start_time": "2023-05-13T19:39:33.091Z"
      },
      {
        "duration": 0,
        "start_time": "2023-05-13T19:39:33.091Z"
      },
      {
        "duration": 0,
        "start_time": "2023-05-13T19:39:33.092Z"
      },
      {
        "duration": 0,
        "start_time": "2023-05-13T19:39:33.093Z"
      },
      {
        "duration": 0,
        "start_time": "2023-05-13T19:39:33.104Z"
      },
      {
        "duration": 0,
        "start_time": "2023-05-13T19:39:33.105Z"
      },
      {
        "duration": 0,
        "start_time": "2023-05-13T19:39:33.106Z"
      },
      {
        "duration": 0,
        "start_time": "2023-05-13T19:39:33.111Z"
      },
      {
        "duration": 0,
        "start_time": "2023-05-13T19:39:33.112Z"
      },
      {
        "duration": 0,
        "start_time": "2023-05-13T19:39:33.114Z"
      },
      {
        "duration": 0,
        "start_time": "2023-05-13T19:39:33.114Z"
      },
      {
        "duration": 0,
        "start_time": "2023-05-13T19:39:33.115Z"
      },
      {
        "duration": 0,
        "start_time": "2023-05-13T19:39:33.117Z"
      },
      {
        "duration": 0,
        "start_time": "2023-05-13T19:39:33.118Z"
      },
      {
        "duration": 0,
        "start_time": "2023-05-13T19:39:33.119Z"
      },
      {
        "duration": 0,
        "start_time": "2023-05-13T19:39:33.120Z"
      },
      {
        "duration": 0,
        "start_time": "2023-05-13T19:39:33.121Z"
      },
      {
        "duration": 0,
        "start_time": "2023-05-13T19:39:33.122Z"
      },
      {
        "duration": 326,
        "start_time": "2023-05-13T19:40:43.362Z"
      },
      {
        "duration": 93,
        "start_time": "2023-05-13T19:41:13.480Z"
      },
      {
        "duration": 169,
        "start_time": "2023-05-13T19:41:16.301Z"
      },
      {
        "duration": 453,
        "start_time": "2023-05-13T19:41:18.904Z"
      },
      {
        "duration": 10,
        "start_time": "2023-05-13T19:41:22.742Z"
      },
      {
        "duration": 87,
        "start_time": "2023-05-13T19:41:40.321Z"
      },
      {
        "duration": 800,
        "start_time": "2023-05-13T19:41:47.180Z"
      },
      {
        "duration": 158,
        "start_time": "2023-05-13T19:41:47.981Z"
      },
      {
        "duration": 69,
        "start_time": "2023-05-13T19:41:48.142Z"
      },
      {
        "duration": 154,
        "start_time": "2023-05-13T19:41:48.213Z"
      },
      {
        "duration": 0,
        "start_time": "2023-05-13T19:41:48.370Z"
      },
      {
        "duration": 0,
        "start_time": "2023-05-13T19:41:48.372Z"
      },
      {
        "duration": 0,
        "start_time": "2023-05-13T19:41:48.373Z"
      },
      {
        "duration": 0,
        "start_time": "2023-05-13T19:41:48.374Z"
      },
      {
        "duration": 0,
        "start_time": "2023-05-13T19:41:48.387Z"
      },
      {
        "duration": 0,
        "start_time": "2023-05-13T19:41:48.387Z"
      },
      {
        "duration": 0,
        "start_time": "2023-05-13T19:41:48.388Z"
      },
      {
        "duration": 0,
        "start_time": "2023-05-13T19:41:48.389Z"
      },
      {
        "duration": 0,
        "start_time": "2023-05-13T19:41:48.394Z"
      },
      {
        "duration": 0,
        "start_time": "2023-05-13T19:41:48.397Z"
      },
      {
        "duration": 0,
        "start_time": "2023-05-13T19:41:48.398Z"
      },
      {
        "duration": 0,
        "start_time": "2023-05-13T19:41:48.399Z"
      },
      {
        "duration": 0,
        "start_time": "2023-05-13T19:41:48.400Z"
      },
      {
        "duration": 0,
        "start_time": "2023-05-13T19:41:48.401Z"
      },
      {
        "duration": 0,
        "start_time": "2023-05-13T19:41:48.406Z"
      },
      {
        "duration": 0,
        "start_time": "2023-05-13T19:41:48.410Z"
      },
      {
        "duration": 0,
        "start_time": "2023-05-13T19:41:48.414Z"
      },
      {
        "duration": 0,
        "start_time": "2023-05-13T19:41:48.415Z"
      },
      {
        "duration": 0,
        "start_time": "2023-05-13T19:41:48.416Z"
      },
      {
        "duration": 0,
        "start_time": "2023-05-13T19:41:48.417Z"
      },
      {
        "duration": 0,
        "start_time": "2023-05-13T19:41:48.419Z"
      },
      {
        "duration": 0,
        "start_time": "2023-05-13T19:41:48.420Z"
      },
      {
        "duration": 0,
        "start_time": "2023-05-13T19:41:48.421Z"
      },
      {
        "duration": 0,
        "start_time": "2023-05-13T19:41:48.423Z"
      },
      {
        "duration": 0,
        "start_time": "2023-05-13T19:41:48.424Z"
      },
      {
        "duration": 0,
        "start_time": "2023-05-13T19:41:48.425Z"
      },
      {
        "duration": 0,
        "start_time": "2023-05-13T19:41:48.426Z"
      },
      {
        "duration": 0,
        "start_time": "2023-05-13T19:41:48.427Z"
      },
      {
        "duration": 0,
        "start_time": "2023-05-13T19:41:48.429Z"
      },
      {
        "duration": 0,
        "start_time": "2023-05-13T19:41:48.430Z"
      },
      {
        "duration": 0,
        "start_time": "2023-05-13T19:41:48.431Z"
      },
      {
        "duration": 3,
        "start_time": "2023-05-13T19:42:28.214Z"
      },
      {
        "duration": 2,
        "start_time": "2023-05-13T19:42:31.335Z"
      },
      {
        "duration": 9,
        "start_time": "2023-05-13T19:42:36.823Z"
      },
      {
        "duration": 2,
        "start_time": "2023-05-13T19:42:39.823Z"
      },
      {
        "duration": 9,
        "start_time": "2023-05-13T19:42:44.543Z"
      },
      {
        "duration": 804,
        "start_time": "2023-05-13T19:43:01.319Z"
      },
      {
        "duration": 227,
        "start_time": "2023-05-13T19:43:02.125Z"
      },
      {
        "duration": 107,
        "start_time": "2023-05-13T19:43:02.354Z"
      },
      {
        "duration": 177,
        "start_time": "2023-05-13T19:43:02.464Z"
      },
      {
        "duration": 8,
        "start_time": "2023-05-13T19:43:13.504Z"
      },
      {
        "duration": 9,
        "start_time": "2023-05-13T19:44:17.899Z"
      },
      {
        "duration": 8,
        "start_time": "2023-05-13T19:45:08.107Z"
      },
      {
        "duration": 7,
        "start_time": "2023-05-13T19:45:25.600Z"
      },
      {
        "duration": 192,
        "start_time": "2023-05-13T19:45:32.726Z"
      },
      {
        "duration": 86,
        "start_time": "2023-05-13T19:45:36.404Z"
      },
      {
        "duration": 6,
        "start_time": "2023-05-13T19:45:39.847Z"
      },
      {
        "duration": 105,
        "start_time": "2023-05-13T19:45:43.703Z"
      },
      {
        "duration": 83,
        "start_time": "2023-05-13T19:46:02.681Z"
      },
      {
        "duration": 8,
        "start_time": "2023-05-13T19:46:16.645Z"
      },
      {
        "duration": 164,
        "start_time": "2023-05-13T19:46:23.102Z"
      },
      {
        "duration": 66,
        "start_time": "2023-05-13T19:46:25.549Z"
      },
      {
        "duration": 7,
        "start_time": "2023-05-13T19:46:27.326Z"
      },
      {
        "duration": 105,
        "start_time": "2023-05-13T19:46:28.413Z"
      },
      {
        "duration": 19,
        "start_time": "2023-05-13T19:46:33.082Z"
      },
      {
        "duration": 150,
        "start_time": "2023-05-13T19:46:58.177Z"
      },
      {
        "duration": 12,
        "start_time": "2023-05-13T19:47:02.110Z"
      },
      {
        "duration": 155,
        "start_time": "2023-05-13T19:47:05.677Z"
      },
      {
        "duration": 7,
        "start_time": "2023-05-13T19:47:07.623Z"
      },
      {
        "duration": 159,
        "start_time": "2023-05-13T19:47:11.518Z"
      },
      {
        "duration": 64,
        "start_time": "2023-05-13T19:47:14.008Z"
      },
      {
        "duration": 8,
        "start_time": "2023-05-13T19:47:16.136Z"
      },
      {
        "duration": 122,
        "start_time": "2023-05-13T19:47:17.689Z"
      },
      {
        "duration": 13,
        "start_time": "2023-05-13T19:47:19.977Z"
      },
      {
        "duration": 821,
        "start_time": "2023-05-13T19:47:41.558Z"
      },
      {
        "duration": 211,
        "start_time": "2023-05-13T19:47:42.382Z"
      },
      {
        "duration": 103,
        "start_time": "2023-05-13T19:47:42.599Z"
      },
      {
        "duration": 8,
        "start_time": "2023-05-13T19:47:42.704Z"
      },
      {
        "duration": 130,
        "start_time": "2023-05-13T19:47:42.714Z"
      },
      {
        "duration": 13,
        "start_time": "2023-05-13T19:47:42.846Z"
      },
      {
        "duration": 10,
        "start_time": "2023-05-13T19:47:42.861Z"
      },
      {
        "duration": 56,
        "start_time": "2023-05-13T19:47:42.872Z"
      },
      {
        "duration": 49,
        "start_time": "2023-05-13T19:47:42.930Z"
      },
      {
        "duration": 22,
        "start_time": "2023-05-13T19:47:42.983Z"
      },
      {
        "duration": 29,
        "start_time": "2023-05-13T19:47:43.007Z"
      },
      {
        "duration": 5,
        "start_time": "2023-05-13T19:47:43.038Z"
      },
      {
        "duration": 799,
        "start_time": "2023-05-13T19:47:43.045Z"
      },
      {
        "duration": 11,
        "start_time": "2023-05-13T19:47:43.846Z"
      },
      {
        "duration": 208,
        "start_time": "2023-05-13T19:47:43.858Z"
      },
      {
        "duration": 50,
        "start_time": "2023-05-13T19:47:44.068Z"
      },
      {
        "duration": 83,
        "start_time": "2023-05-13T19:47:44.120Z"
      },
      {
        "duration": 61,
        "start_time": "2023-05-13T19:47:44.206Z"
      },
      {
        "duration": 48,
        "start_time": "2023-05-13T19:47:44.269Z"
      },
      {
        "duration": 58,
        "start_time": "2023-05-13T19:47:44.319Z"
      },
      {
        "duration": 90,
        "start_time": "2023-05-13T19:47:44.380Z"
      },
      {
        "duration": 35,
        "start_time": "2023-05-13T19:47:44.471Z"
      },
      {
        "duration": 32,
        "start_time": "2023-05-13T19:47:44.507Z"
      },
      {
        "duration": 21,
        "start_time": "2023-05-13T19:47:44.541Z"
      },
      {
        "duration": 93,
        "start_time": "2023-05-13T19:47:44.564Z"
      },
      {
        "duration": 7,
        "start_time": "2023-05-13T19:47:44.658Z"
      },
      {
        "duration": 56,
        "start_time": "2023-05-13T19:47:44.667Z"
      },
      {
        "duration": 8,
        "start_time": "2023-05-13T19:47:44.726Z"
      },
      {
        "duration": 28,
        "start_time": "2023-05-13T19:47:44.735Z"
      },
      {
        "duration": 25,
        "start_time": "2023-05-13T19:47:44.765Z"
      },
      {
        "duration": 8,
        "start_time": "2023-05-13T19:47:44.803Z"
      },
      {
        "duration": 11,
        "start_time": "2023-05-13T19:47:44.813Z"
      },
      {
        "duration": 17,
        "start_time": "2023-05-13T19:47:44.826Z"
      },
      {
        "duration": 23,
        "start_time": "2023-05-13T19:47:44.844Z"
      },
      {
        "duration": 81,
        "start_time": "2023-05-13T19:47:44.869Z"
      },
      {
        "duration": 63,
        "start_time": "2023-05-13T19:47:44.952Z"
      },
      {
        "duration": 265,
        "start_time": "2023-05-13T19:51:54.482Z"
      },
      {
        "duration": 5,
        "start_time": "2023-05-13T19:53:43.242Z"
      },
      {
        "duration": 103,
        "start_time": "2023-05-13T19:54:07.720Z"
      },
      {
        "duration": 48,
        "start_time": "2023-05-13T19:54:12.505Z"
      },
      {
        "duration": 189,
        "start_time": "2023-05-13T19:54:41.345Z"
      },
      {
        "duration": 49,
        "start_time": "2023-05-13T19:55:40.217Z"
      },
      {
        "duration": 48,
        "start_time": "2023-05-13T19:55:57.503Z"
      },
      {
        "duration": 186,
        "start_time": "2023-05-13T19:56:02.404Z"
      },
      {
        "duration": 51,
        "start_time": "2023-05-13T19:56:14.502Z"
      },
      {
        "duration": 185,
        "start_time": "2023-05-13T19:56:48.977Z"
      },
      {
        "duration": 63,
        "start_time": "2023-05-13T19:57:13.075Z"
      },
      {
        "duration": 51,
        "start_time": "2023-05-13T19:57:34.744Z"
      },
      {
        "duration": 64,
        "start_time": "2023-05-13T19:57:43.387Z"
      },
      {
        "duration": 32,
        "start_time": "2023-05-13T19:57:48.978Z"
      },
      {
        "duration": 23,
        "start_time": "2023-05-13T19:58:35.012Z"
      },
      {
        "duration": 203,
        "start_time": "2023-05-13T19:58:40.632Z"
      },
      {
        "duration": 209,
        "start_time": "2023-05-13T19:59:02.980Z"
      },
      {
        "duration": 38,
        "start_time": "2023-05-13T19:59:11.378Z"
      },
      {
        "duration": 6,
        "start_time": "2023-05-13T20:01:40.530Z"
      },
      {
        "duration": 5,
        "start_time": "2023-05-13T20:05:18.342Z"
      },
      {
        "duration": 27,
        "start_time": "2023-05-13T20:05:56.815Z"
      },
      {
        "duration": 747,
        "start_time": "2023-05-13T20:09:43.751Z"
      },
      {
        "duration": 153,
        "start_time": "2023-05-13T20:09:44.500Z"
      },
      {
        "duration": 74,
        "start_time": "2023-05-13T20:09:44.654Z"
      },
      {
        "duration": 6,
        "start_time": "2023-05-13T20:09:44.730Z"
      },
      {
        "duration": 123,
        "start_time": "2023-05-13T20:09:44.738Z"
      },
      {
        "duration": 7,
        "start_time": "2023-05-13T20:09:44.863Z"
      },
      {
        "duration": 41,
        "start_time": "2023-05-13T20:09:44.871Z"
      },
      {
        "duration": 43,
        "start_time": "2023-05-13T20:09:44.913Z"
      },
      {
        "duration": 6,
        "start_time": "2023-05-13T20:09:44.958Z"
      },
      {
        "duration": 40,
        "start_time": "2023-05-13T20:09:44.966Z"
      },
      {
        "duration": 4,
        "start_time": "2023-05-13T20:09:45.008Z"
      },
      {
        "duration": 501,
        "start_time": "2023-05-13T20:09:45.014Z"
      },
      {
        "duration": 8,
        "start_time": "2023-05-13T20:09:45.517Z"
      },
      {
        "duration": 179,
        "start_time": "2023-05-13T20:09:48.325Z"
      },
      {
        "duration": 28,
        "start_time": "2023-05-13T20:10:48.853Z"
      },
      {
        "duration": 49,
        "start_time": "2023-05-13T20:12:48.678Z"
      },
      {
        "duration": 50,
        "start_time": "2023-05-13T20:13:09.611Z"
      },
      {
        "duration": 48,
        "start_time": "2023-05-13T20:13:14.196Z"
      },
      {
        "duration": 101,
        "start_time": "2023-05-13T20:14:41.680Z"
      },
      {
        "duration": 95,
        "start_time": "2023-05-13T20:14:58.826Z"
      },
      {
        "duration": 192,
        "start_time": "2023-05-13T20:15:36.156Z"
      },
      {
        "duration": 112,
        "start_time": "2023-05-13T20:16:54.152Z"
      },
      {
        "duration": 95,
        "start_time": "2023-05-13T20:18:52.781Z"
      },
      {
        "duration": 4,
        "start_time": "2023-05-13T20:39:39.053Z"
      },
      {
        "duration": 24,
        "start_time": "2023-05-13T20:39:51.904Z"
      },
      {
        "duration": 41,
        "start_time": "2023-05-13T20:40:52.634Z"
      },
      {
        "duration": 756,
        "start_time": "2023-05-13T20:41:20.512Z"
      },
      {
        "duration": 170,
        "start_time": "2023-05-13T20:41:21.270Z"
      },
      {
        "duration": 77,
        "start_time": "2023-05-13T20:41:21.442Z"
      },
      {
        "duration": 6,
        "start_time": "2023-05-13T20:41:21.521Z"
      },
      {
        "duration": 128,
        "start_time": "2023-05-13T20:41:21.529Z"
      },
      {
        "duration": 7,
        "start_time": "2023-05-13T20:41:21.658Z"
      },
      {
        "duration": 46,
        "start_time": "2023-05-13T20:41:21.667Z"
      },
      {
        "duration": 45,
        "start_time": "2023-05-13T20:41:21.714Z"
      },
      {
        "duration": 8,
        "start_time": "2023-05-13T20:41:21.760Z"
      },
      {
        "duration": 28,
        "start_time": "2023-05-13T20:41:21.794Z"
      },
      {
        "duration": 6,
        "start_time": "2023-05-13T20:41:21.823Z"
      },
      {
        "duration": 514,
        "start_time": "2023-05-13T20:41:21.830Z"
      },
      {
        "duration": 9,
        "start_time": "2023-05-13T20:41:22.346Z"
      },
      {
        "duration": 183,
        "start_time": "2023-05-13T20:41:22.357Z"
      },
      {
        "duration": 18,
        "start_time": "2023-05-13T20:41:22.542Z"
      },
      {
        "duration": 112,
        "start_time": "2023-05-13T20:41:22.561Z"
      },
      {
        "duration": 79,
        "start_time": "2023-05-13T20:41:22.675Z"
      },
      {
        "duration": 57,
        "start_time": "2023-05-13T20:41:22.755Z"
      },
      {
        "duration": 31,
        "start_time": "2023-05-13T20:41:22.814Z"
      },
      {
        "duration": 40,
        "start_time": "2023-05-13T20:41:39.404Z"
      },
      {
        "duration": 24,
        "start_time": "2023-05-13T20:43:19.293Z"
      },
      {
        "duration": 68,
        "start_time": "2023-05-13T20:43:21.295Z"
      },
      {
        "duration": 76,
        "start_time": "2023-05-13T20:43:26.745Z"
      },
      {
        "duration": 5,
        "start_time": "2023-05-13T20:43:49.368Z"
      },
      {
        "duration": 106,
        "start_time": "2023-05-13T20:44:50.363Z"
      },
      {
        "duration": 73,
        "start_time": "2023-05-13T20:45:44.601Z"
      },
      {
        "duration": 12,
        "start_time": "2023-05-13T20:46:31.527Z"
      },
      {
        "duration": 9,
        "start_time": "2023-05-13T20:46:35.615Z"
      },
      {
        "duration": 9,
        "start_time": "2023-05-13T20:46:51.928Z"
      },
      {
        "duration": 8,
        "start_time": "2023-05-13T20:47:27.135Z"
      },
      {
        "duration": 26,
        "start_time": "2023-05-13T20:47:47.975Z"
      },
      {
        "duration": 95,
        "start_time": "2023-05-13T20:48:22.719Z"
      },
      {
        "duration": 15,
        "start_time": "2023-05-13T20:48:28.079Z"
      },
      {
        "duration": 9,
        "start_time": "2023-05-13T20:48:33.215Z"
      },
      {
        "duration": 16,
        "start_time": "2023-05-13T20:48:35.408Z"
      },
      {
        "duration": 13,
        "start_time": "2023-05-13T20:48:54.808Z"
      },
      {
        "duration": 448,
        "start_time": "2023-05-13T20:49:05.986Z"
      },
      {
        "duration": 87,
        "start_time": "2023-05-13T20:49:14.504Z"
      },
      {
        "duration": 46,
        "start_time": "2023-05-13T20:49:18.728Z"
      },
      {
        "duration": 121,
        "start_time": "2023-05-13T20:49:41.919Z"
      },
      {
        "duration": 42,
        "start_time": "2023-05-13T20:59:22.916Z"
      },
      {
        "duration": 11,
        "start_time": "2023-05-13T21:00:15.411Z"
      },
      {
        "duration": 11,
        "start_time": "2023-05-13T21:00:52.302Z"
      },
      {
        "duration": 9,
        "start_time": "2023-05-13T21:01:01.274Z"
      },
      {
        "duration": 41,
        "start_time": "2023-05-13T21:01:07.105Z"
      },
      {
        "duration": 48,
        "start_time": "2023-05-13T21:04:06.169Z"
      },
      {
        "duration": 109,
        "start_time": "2023-05-13T21:04:07.204Z"
      },
      {
        "duration": 50,
        "start_time": "2023-05-13T21:05:02.182Z"
      },
      {
        "duration": 17,
        "start_time": "2023-05-13T21:05:25.717Z"
      },
      {
        "duration": 16,
        "start_time": "2023-05-13T21:05:45.340Z"
      },
      {
        "duration": 55,
        "start_time": "2023-05-13T21:05:53.416Z"
      },
      {
        "duration": 8,
        "start_time": "2023-05-13T21:13:33.860Z"
      },
      {
        "duration": 14,
        "start_time": "2023-05-13T21:16:07.400Z"
      },
      {
        "duration": 28,
        "start_time": "2023-05-13T21:16:19.778Z"
      },
      {
        "duration": 9,
        "start_time": "2023-05-13T21:16:35.369Z"
      },
      {
        "duration": 13,
        "start_time": "2023-05-13T21:17:02.666Z"
      },
      {
        "duration": 11,
        "start_time": "2023-05-13T21:18:25.257Z"
      },
      {
        "duration": 4,
        "start_time": "2023-05-13T21:18:40.945Z"
      },
      {
        "duration": 8,
        "start_time": "2023-05-13T21:18:49.056Z"
      },
      {
        "duration": 5,
        "start_time": "2023-05-13T21:18:57.632Z"
      },
      {
        "duration": 7,
        "start_time": "2023-05-13T21:21:27.007Z"
      },
      {
        "duration": 42,
        "start_time": "2023-05-13T21:22:40.417Z"
      },
      {
        "duration": 76,
        "start_time": "2023-05-13T21:23:11.572Z"
      },
      {
        "duration": 27,
        "start_time": "2023-05-13T21:23:22.944Z"
      },
      {
        "duration": 8,
        "start_time": "2023-05-13T21:26:16.617Z"
      },
      {
        "duration": 17,
        "start_time": "2023-05-13T21:26:18.241Z"
      },
      {
        "duration": 306,
        "start_time": "2023-05-13T21:26:44.501Z"
      },
      {
        "duration": 19,
        "start_time": "2023-05-13T21:27:41.323Z"
      },
      {
        "duration": 5,
        "start_time": "2023-05-13T21:28:21.626Z"
      },
      {
        "duration": 398,
        "start_time": "2023-05-13T21:28:36.082Z"
      },
      {
        "duration": 940,
        "start_time": "2023-05-13T21:28:56.458Z"
      },
      {
        "duration": 158,
        "start_time": "2023-05-13T21:28:57.401Z"
      },
      {
        "duration": 91,
        "start_time": "2023-05-13T21:28:57.560Z"
      },
      {
        "duration": 7,
        "start_time": "2023-05-13T21:28:57.652Z"
      },
      {
        "duration": 164,
        "start_time": "2023-05-13T21:28:57.661Z"
      },
      {
        "duration": 10,
        "start_time": "2023-05-13T21:28:57.827Z"
      },
      {
        "duration": 64,
        "start_time": "2023-05-13T21:28:57.839Z"
      },
      {
        "duration": 61,
        "start_time": "2023-05-13T21:28:57.905Z"
      },
      {
        "duration": 9,
        "start_time": "2023-05-13T21:28:57.967Z"
      },
      {
        "duration": 39,
        "start_time": "2023-05-13T21:28:57.978Z"
      },
      {
        "duration": 5,
        "start_time": "2023-05-13T21:28:58.019Z"
      },
      {
        "duration": 489,
        "start_time": "2023-05-13T21:28:58.026Z"
      },
      {
        "duration": 7,
        "start_time": "2023-05-13T21:28:58.517Z"
      },
      {
        "duration": 177,
        "start_time": "2023-05-13T21:28:58.527Z"
      },
      {
        "duration": 18,
        "start_time": "2023-05-13T21:28:58.706Z"
      },
      {
        "duration": 138,
        "start_time": "2023-05-13T21:28:58.725Z"
      },
      {
        "duration": 86,
        "start_time": "2023-05-13T21:28:58.865Z"
      },
      {
        "duration": 56,
        "start_time": "2023-05-13T21:28:58.952Z"
      },
      {
        "duration": 29,
        "start_time": "2023-05-13T21:28:59.009Z"
      },
      {
        "duration": 19,
        "start_time": "2023-05-13T21:28:59.039Z"
      },
      {
        "duration": 80,
        "start_time": "2023-05-13T21:28:59.060Z"
      },
      {
        "duration": 74,
        "start_time": "2023-05-13T21:28:59.141Z"
      },
      {
        "duration": 4,
        "start_time": "2023-05-13T21:28:59.217Z"
      },
      {
        "duration": 433,
        "start_time": "2023-05-13T21:28:59.222Z"
      },
      {
        "duration": 25,
        "start_time": "2023-05-13T21:28:59.657Z"
      },
      {
        "duration": 25,
        "start_time": "2023-05-13T21:28:59.683Z"
      },
      {
        "duration": 140,
        "start_time": "2023-05-13T21:28:59.709Z"
      },
      {
        "duration": 7,
        "start_time": "2023-05-13T21:28:59.850Z"
      },
      {
        "duration": 29,
        "start_time": "2023-05-13T21:28:59.859Z"
      },
      {
        "duration": 22,
        "start_time": "2023-05-13T21:28:59.889Z"
      },
      {
        "duration": 30,
        "start_time": "2023-05-13T21:28:59.913Z"
      },
      {
        "duration": 10,
        "start_time": "2023-05-13T21:28:59.946Z"
      },
      {
        "duration": 44,
        "start_time": "2023-05-13T21:28:59.958Z"
      },
      {
        "duration": 8,
        "start_time": "2023-05-13T21:29:00.004Z"
      },
      {
        "duration": 8,
        "start_time": "2023-05-13T21:29:15.169Z"
      },
      {
        "duration": 5,
        "start_time": "2023-05-13T21:30:39.219Z"
      },
      {
        "duration": 7,
        "start_time": "2023-05-13T21:31:29.407Z"
      },
      {
        "duration": 14,
        "start_time": "2023-05-13T21:33:44.830Z"
      },
      {
        "duration": 8,
        "start_time": "2023-05-13T22:09:40.264Z"
      },
      {
        "duration": 10,
        "start_time": "2023-05-13T22:11:34.228Z"
      },
      {
        "duration": 13,
        "start_time": "2023-05-13T22:12:13.874Z"
      },
      {
        "duration": 34,
        "start_time": "2023-05-13T22:14:29.305Z"
      },
      {
        "duration": 1440,
        "start_time": "2023-05-13T22:15:29.757Z"
      },
      {
        "duration": 16,
        "start_time": "2023-05-13T22:15:48.129Z"
      },
      {
        "duration": 11,
        "start_time": "2023-05-13T22:16:10.457Z"
      },
      {
        "duration": 11,
        "start_time": "2023-05-13T22:16:14.042Z"
      },
      {
        "duration": 36,
        "start_time": "2023-05-13T22:18:17.847Z"
      },
      {
        "duration": 25,
        "start_time": "2023-05-13T22:18:22.407Z"
      },
      {
        "duration": 17,
        "start_time": "2023-05-13T22:19:00.584Z"
      },
      {
        "duration": 19,
        "start_time": "2023-05-13T22:20:00.705Z"
      },
      {
        "duration": 21,
        "start_time": "2023-05-13T22:20:27.126Z"
      },
      {
        "duration": 8,
        "start_time": "2023-05-13T22:32:00.255Z"
      },
      {
        "duration": 883,
        "start_time": "2023-05-13T22:39:10.307Z"
      },
      {
        "duration": 157,
        "start_time": "2023-05-13T22:39:11.192Z"
      },
      {
        "duration": 73,
        "start_time": "2023-05-13T22:39:11.350Z"
      },
      {
        "duration": 7,
        "start_time": "2023-05-13T22:39:11.425Z"
      },
      {
        "duration": 166,
        "start_time": "2023-05-13T22:39:11.433Z"
      },
      {
        "duration": 10,
        "start_time": "2023-05-13T22:39:11.601Z"
      },
      {
        "duration": 37,
        "start_time": "2023-05-13T22:39:11.613Z"
      },
      {
        "duration": 75,
        "start_time": "2023-05-13T22:39:11.651Z"
      },
      {
        "duration": 8,
        "start_time": "2023-05-13T22:39:11.727Z"
      },
      {
        "duration": 48,
        "start_time": "2023-05-13T22:39:11.737Z"
      },
      {
        "duration": 5,
        "start_time": "2023-05-13T22:39:11.786Z"
      },
      {
        "duration": 478,
        "start_time": "2023-05-13T22:39:11.792Z"
      },
      {
        "duration": 18,
        "start_time": "2023-05-13T22:39:12.271Z"
      },
      {
        "duration": 177,
        "start_time": "2023-05-13T22:39:12.291Z"
      },
      {
        "duration": 28,
        "start_time": "2023-05-13T22:39:12.470Z"
      },
      {
        "duration": 110,
        "start_time": "2023-05-13T22:39:12.500Z"
      },
      {
        "duration": 80,
        "start_time": "2023-05-13T22:39:12.611Z"
      },
      {
        "duration": 50,
        "start_time": "2023-05-13T22:39:12.692Z"
      },
      {
        "duration": 51,
        "start_time": "2023-05-13T22:39:12.743Z"
      },
      {
        "duration": 22,
        "start_time": "2023-05-13T22:39:12.795Z"
      },
      {
        "duration": 72,
        "start_time": "2023-05-13T22:39:12.819Z"
      },
      {
        "duration": 74,
        "start_time": "2023-05-13T22:39:12.893Z"
      },
      {
        "duration": 16,
        "start_time": "2023-05-13T22:39:12.968Z"
      },
      {
        "duration": 398,
        "start_time": "2023-05-13T22:39:12.986Z"
      },
      {
        "duration": 25,
        "start_time": "2023-05-13T22:39:13.386Z"
      },
      {
        "duration": 75,
        "start_time": "2023-05-13T22:39:13.413Z"
      },
      {
        "duration": 114,
        "start_time": "2023-05-13T22:39:13.489Z"
      },
      {
        "duration": 9,
        "start_time": "2023-05-13T22:39:13.607Z"
      },
      {
        "duration": 20,
        "start_time": "2023-05-13T22:39:13.618Z"
      },
      {
        "duration": 35,
        "start_time": "2023-05-13T22:39:13.640Z"
      },
      {
        "duration": 25,
        "start_time": "2023-05-13T22:39:13.676Z"
      },
      {
        "duration": 2,
        "start_time": "2023-05-13T22:39:13.703Z"
      },
      {
        "duration": 16,
        "start_time": "2023-05-13T22:39:13.707Z"
      },
      {
        "duration": 15,
        "start_time": "2023-05-13T22:39:13.726Z"
      },
      {
        "duration": 18,
        "start_time": "2023-05-13T22:39:24.523Z"
      },
      {
        "duration": 26,
        "start_time": "2023-05-13T22:39:51.225Z"
      },
      {
        "duration": 63,
        "start_time": "2023-05-13T22:39:55.145Z"
      },
      {
        "duration": 8,
        "start_time": "2023-05-13T22:50:16.253Z"
      },
      {
        "duration": 8,
        "start_time": "2023-05-13T22:50:19.516Z"
      },
      {
        "duration": 16,
        "start_time": "2023-05-13T22:50:21.174Z"
      },
      {
        "duration": 26,
        "start_time": "2023-05-13T22:50:29.756Z"
      },
      {
        "duration": 65,
        "start_time": "2023-05-13T22:50:43.867Z"
      },
      {
        "duration": 2,
        "start_time": "2023-05-13T23:16:29.950Z"
      },
      {
        "duration": 3,
        "start_time": "2023-05-13T23:16:34.111Z"
      },
      {
        "duration": 45,
        "start_time": "2023-05-13T23:17:19.947Z"
      },
      {
        "duration": 45,
        "start_time": "2023-05-13T23:18:17.029Z"
      },
      {
        "duration": 1057,
        "start_time": "2023-05-14T12:50:14.437Z"
      },
      {
        "duration": 408,
        "start_time": "2023-05-14T12:50:15.497Z"
      },
      {
        "duration": 91,
        "start_time": "2023-05-14T12:50:15.907Z"
      },
      {
        "duration": 8,
        "start_time": "2023-05-14T12:50:16.000Z"
      },
      {
        "duration": 165,
        "start_time": "2023-05-14T12:50:16.010Z"
      },
      {
        "duration": 13,
        "start_time": "2023-05-14T12:50:16.179Z"
      },
      {
        "duration": 29,
        "start_time": "2023-05-14T12:50:16.194Z"
      },
      {
        "duration": 59,
        "start_time": "2023-05-14T12:50:16.224Z"
      },
      {
        "duration": 8,
        "start_time": "2023-05-14T12:50:16.285Z"
      },
      {
        "duration": 39,
        "start_time": "2023-05-14T12:50:16.295Z"
      },
      {
        "duration": 5,
        "start_time": "2023-05-14T12:50:16.336Z"
      },
      {
        "duration": 642,
        "start_time": "2023-05-14T12:50:16.343Z"
      },
      {
        "duration": 14,
        "start_time": "2023-05-14T12:50:16.986Z"
      },
      {
        "duration": 274,
        "start_time": "2023-05-14T12:50:17.005Z"
      },
      {
        "duration": 25,
        "start_time": "2023-05-14T12:50:17.286Z"
      },
      {
        "duration": 120,
        "start_time": "2023-05-14T12:50:17.313Z"
      },
      {
        "duration": 102,
        "start_time": "2023-05-14T12:50:17.435Z"
      },
      {
        "duration": 67,
        "start_time": "2023-05-14T12:50:17.539Z"
      },
      {
        "duration": 61,
        "start_time": "2023-05-14T12:50:17.607Z"
      },
      {
        "duration": 34,
        "start_time": "2023-05-14T12:50:17.674Z"
      },
      {
        "duration": 85,
        "start_time": "2023-05-14T12:50:17.709Z"
      },
      {
        "duration": 103,
        "start_time": "2023-05-14T12:50:17.795Z"
      },
      {
        "duration": 6,
        "start_time": "2023-05-14T12:50:17.899Z"
      },
      {
        "duration": 769,
        "start_time": "2023-05-14T12:50:17.907Z"
      },
      {
        "duration": 37,
        "start_time": "2023-05-14T12:50:18.678Z"
      },
      {
        "duration": 32,
        "start_time": "2023-05-14T12:50:18.756Z"
      },
      {
        "duration": 134,
        "start_time": "2023-05-14T12:50:18.790Z"
      },
      {
        "duration": 15,
        "start_time": "2023-05-14T12:50:18.926Z"
      },
      {
        "duration": 20,
        "start_time": "2023-05-14T12:50:18.944Z"
      },
      {
        "duration": 43,
        "start_time": "2023-05-14T12:50:18.968Z"
      },
      {
        "duration": 26,
        "start_time": "2023-05-14T12:50:19.013Z"
      },
      {
        "duration": 9,
        "start_time": "2023-05-14T12:50:19.059Z"
      },
      {
        "duration": 8,
        "start_time": "2023-05-14T12:50:19.074Z"
      },
      {
        "duration": 19,
        "start_time": "2023-05-14T12:50:19.085Z"
      },
      {
        "duration": 57,
        "start_time": "2023-05-14T12:50:19.106Z"
      },
      {
        "duration": 37,
        "start_time": "2023-05-14T12:50:19.169Z"
      },
      {
        "duration": 74,
        "start_time": "2023-05-14T12:50:19.209Z"
      },
      {
        "duration": 5,
        "start_time": "2023-05-14T12:50:19.284Z"
      },
      {
        "duration": 82,
        "start_time": "2023-05-14T12:50:19.290Z"
      },
      {
        "duration": 978,
        "start_time": "2023-07-09T19:13:30.297Z"
      },
      {
        "duration": 767,
        "start_time": "2023-07-09T19:13:31.280Z"
      },
      {
        "duration": 90,
        "start_time": "2023-07-09T19:13:32.049Z"
      },
      {
        "duration": 9,
        "start_time": "2023-07-09T19:13:32.142Z"
      },
      {
        "duration": 193,
        "start_time": "2023-07-09T19:13:32.153Z"
      },
      {
        "duration": 11,
        "start_time": "2023-07-09T19:13:32.348Z"
      },
      {
        "duration": 40,
        "start_time": "2023-07-09T19:13:32.369Z"
      },
      {
        "duration": 86,
        "start_time": "2023-07-09T19:13:32.411Z"
      },
      {
        "duration": 9,
        "start_time": "2023-07-09T19:13:32.499Z"
      },
      {
        "duration": 33,
        "start_time": "2023-07-09T19:13:32.510Z"
      },
      {
        "duration": 22,
        "start_time": "2023-07-09T19:13:32.546Z"
      },
      {
        "duration": 823,
        "start_time": "2023-07-09T19:13:32.579Z"
      },
      {
        "duration": 12,
        "start_time": "2023-07-09T19:13:33.404Z"
      },
      {
        "duration": 228,
        "start_time": "2023-07-09T19:13:33.418Z"
      },
      {
        "duration": 34,
        "start_time": "2023-07-09T19:13:33.648Z"
      },
      {
        "duration": 111,
        "start_time": "2023-07-09T19:13:33.684Z"
      },
      {
        "duration": 131,
        "start_time": "2023-07-09T19:13:33.797Z"
      },
      {
        "duration": 96,
        "start_time": "2023-07-09T19:13:33.931Z"
      },
      {
        "duration": 64,
        "start_time": "2023-07-09T19:13:34.029Z"
      },
      {
        "duration": 33,
        "start_time": "2023-07-09T19:13:34.095Z"
      },
      {
        "duration": 99,
        "start_time": "2023-07-09T19:13:34.130Z"
      },
      {
        "duration": 101,
        "start_time": "2023-07-09T19:13:34.231Z"
      },
      {
        "duration": 6,
        "start_time": "2023-07-09T19:13:34.333Z"
      },
      {
        "duration": 504,
        "start_time": "2023-07-09T19:13:34.341Z"
      },
      {
        "duration": 42,
        "start_time": "2023-07-09T19:13:34.848Z"
      },
      {
        "duration": 87,
        "start_time": "2023-07-09T19:13:34.893Z"
      },
      {
        "duration": 146,
        "start_time": "2023-07-09T19:13:34.982Z"
      },
      {
        "duration": 9,
        "start_time": "2023-07-09T19:13:35.131Z"
      },
      {
        "duration": 4,
        "start_time": "2023-07-09T19:13:35.178Z"
      },
      {
        "duration": 51,
        "start_time": "2023-07-09T19:13:35.185Z"
      },
      {
        "duration": 28,
        "start_time": "2023-07-09T19:13:35.238Z"
      },
      {
        "duration": 9,
        "start_time": "2023-07-09T19:13:35.272Z"
      },
      {
        "duration": 9,
        "start_time": "2023-07-09T19:13:35.284Z"
      },
      {
        "duration": 15,
        "start_time": "2023-07-09T19:13:35.295Z"
      },
      {
        "duration": 31,
        "start_time": "2023-07-09T19:13:35.312Z"
      },
      {
        "duration": 51,
        "start_time": "2023-07-09T19:13:35.345Z"
      },
      {
        "duration": 89,
        "start_time": "2023-07-09T19:13:35.398Z"
      },
      {
        "duration": 5,
        "start_time": "2023-07-09T19:13:35.489Z"
      },
      {
        "duration": 93,
        "start_time": "2023-07-09T19:13:35.495Z"
      }
    ],
    "kernelspec": {
      "display_name": "Python 3 (ipykernel)",
      "language": "python",
      "name": "python3"
    },
    "language_info": {
      "codemirror_mode": {
        "name": "ipython",
        "version": 3
      },
      "file_extension": ".py",
      "mimetype": "text/x-python",
      "name": "python",
      "nbconvert_exporter": "python",
      "pygments_lexer": "ipython3",
      "version": "3.9.5"
    },
    "toc": {
      "base_numbering": 1,
      "nav_menu": {},
      "number_sections": false,
      "sideBar": true,
      "skip_h1_title": false,
      "title_cell": "Table of Contents",
      "title_sidebar": "Contents",
      "toc_cell": false,
      "toc_position": {
        "height": "calc(100% - 180px)",
        "left": "10px",
        "top": "150px",
        "width": "276.167px"
      },
      "toc_section_display": true,
      "toc_window_display": true
    },
    "colab": {
      "provenance": []
    }
  },
  "nbformat": 4,
  "nbformat_minor": 0
}
